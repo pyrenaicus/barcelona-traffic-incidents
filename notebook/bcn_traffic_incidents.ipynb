{
 "cells": [
  {
   "cell_type": "markdown",
   "id": "828b1920-857b-4b9a-af89-2187fec96678",
   "metadata": {},
   "source": [
    "## 1. Presentació del conjunt de dades escollit\n",
    "Dades que recullen els **accidents de tràfic a la ciutat de Barcelona**.\n",
    "\n",
    "Disposem de dades des de l’any 2010 fins a 2023 (dades mes recents) repartides en 6 conjunts de dades anuals disponibles a [Open Data BCN](https://opendata-ajuntament.barcelona.cat/ca/).\n",
    "\n",
    "Començem analitzant les dades de 2023, per després agregar les dades dels últims deu anys, i realitzar el mateix anàlisis.\n"
   ]
  },
  {
   "cell_type": "markdown",
   "id": "e1aa4ca3-85dc-48fe-9756-9e845c3aae86",
   "metadata": {},
   "source": [
    "## 2 Descripció de les dades\n",
    "Els conjunts de dades en format csv són els següents:\n",
    "\n",
    "1. Accidents gestionats per la Guàrdia Urbana a la ciutat de Barcelona\n",
    "    - Llistat dels accidents gestionats per la Guàrdia Urbana a la ciutat de Barcelona. Incorpora el número de lesionats segons gravetat, el número de vehicles implicats i el punt d'impacte.\n",
    "2. Vehicles implicats en accidents gestionats per la Guàrdia Urbana a la ciutat de Barcelona\n",
    "    - Llistat dels vehicles implicats en accidents gestionats per la Guàrdia Urbana a la ciutat de Barcelona. Un accident pot tenir associat més d’un vehicle. Inclou si la causa és del vianant, el tipus de vehicle, model, marca, color i tipus carnet i antiguitat de la persona que ho conduïa.\n",
    "3. Persones involucrades en accidents gestionats per la Guàrdia Urbana a la ciutat de Barcelona\n",
    "    - Llistat de les persones que han estat involucrades en un accident gestionats per la Guàrdia Urbana a la ciutat de Barcelona i que han sofert algun tipus de lesió ( ferit lleu, ferit greu o mort). Inclou descripció de la persona (conductor, passatger o vianant), sexe, edat, vehicle associat a la persona i si la causa ha sigut del vianant.\n",
    "4. Accidents segons tipologia gestionats per la Guàrdia Urbana a la ciutat de Barcelona\n",
    "    - Relació d'accidents segons tipologia gestionats per la Guàrdia Urbana a la ciutat de Barcelona. Un accident pot estar tipificat amb vàries tipologies ( Ex: xoc contra element estàtic i col·lisió front-lateral)\n",
    "5. Accidents segons causa mediata gestionats per la Guàrdia Urbana a la ciutat de Barcelona\n",
    "    - Relació dels accidents segons causa mediata gestionats per la Guàrdia Urbana a la ciutat de Barcelona. Un accident pot tenir una o més causes mediates les quals fan referència a factors externs del resultat en temps, lloc o grau (Ex: Alcoholèmia i Excés de velocitat o velocitat inadequada)\n",
    "6. Accidents segons causa conductor gestionats per la Guàrdia Urbana a la ciutat de Barcelona\n",
    "    - Accidents segons causa conductor gestionats per la Guàrdia Urbana a la ciutat de Barcelona.\n"
   ]
  },
  {
   "cell_type": "markdown",
   "id": "ec26b216-09dc-4a53-836e-a25cdb7d103b",
   "metadata": {},
   "source": [
    "## 3. Càrrega de les dades i preparació de les dades per a l'anàlisi\n",
    "Fem correr Spark en mode local, on tot el processament tindrà lloc en una sola màquina. En cas de necessitar instalar Spark, hi ha dos opcions: Anar a la [pàgina de descàrrega d'Spark](https://spark.apache.org/downloads.html), i triar \"Pre-built for Apache Hadoop 3.3 and later\", o bé, instalar la llibreria PySpark de Python i les seves dependencies invocant `pip install pyspark[sql, ml, mllib]`. A banda d'això, també necessitem tenir instalada la versió 8 o posterior de Java al nostre sistema."
   ]
  },
  {
   "cell_type": "code",
   "execution_count": 50,
   "id": "07f479f7-c47d-4734-b15a-da7ca7aa4692",
   "metadata": {},
   "outputs": [],
   "source": [
    "# El proposit de findspark és facilitar l'ús de Spark amb Python,\n",
    "# especialment si no tens declarada la variable d'entorn SPARK_HOME o\n",
    "# si Spark i PySpark setup no es troben a la variable PATH.\n",
    "# descomenta les següents dos linies si NO has instalar pyspark amb pip\n",
    "#import findspark\n",
    "#findspark.init()\n",
    "\n",
    "from pyspark.sql import SparkSession\n",
    "# inicialitzem amb 4 cores destinats a Spark (això dependrà de cada màquina)\n",
    "spark = SparkSession.builder \\\n",
    "    .appName(\"bcn_traffic_incidents\") \\\n",
    "    .master(\"local[4]\") \\\n",
    "    .getOrCreate()"
   ]
  },
  {
   "cell_type": "code",
   "execution_count": 49,
   "id": "e0fa3481-e24d-40f8-bad2-dda74bb95ded",
   "metadata": {},
   "outputs": [],
   "source": [
    "# si cal aturar-ho, executa spark.stop()\n",
    "# spark.stop()"
   ]
  },
  {
   "cell_type": "markdown",
   "id": "d58ed7b4-14b7-4f32-8e0a-c53bb5ce5483",
   "metadata": {},
   "source": [
    "### 3.1 càrrega dels datasets com a DataFrames i creació de vistes temporals\n",
    "Carreguem cada conjunt de dades en els següents DataFrames:\n",
    "\n",
    "1. df_gu_incidents\n",
    "2. df_gu_incidents_type\n",
    "3. df_gu_incidents_vehicle\n",
    "4. df_gu_incidents_person\n",
    "5. df_gu_incidents_cause\n",
    "6. df_gu_incidents_driver\n",
    "\n",
    "Alhora registrarem cada DataFrame com una vista temporal (temporary view), el que ens permetrà executar comandes SQL directament en cadascuna d'elles.\n",
    "\n",
    "Vistes temporals:\n",
    "\n",
    "- incidents\n",
    "- incidents_type\n",
    "- incidents_vehicle\n",
    "- incidents_person\n",
    "- incidents_cause\n",
    "- incidents_driver\n",
    "\n",
    "  "
   ]
  },
  {
   "cell_type": "code",
   "execution_count": 51,
   "id": "ada4f7e4-d9e4-40e7-ac53-fa54e80db101",
   "metadata": {},
   "outputs": [],
   "source": [
    "incidents_file_path = \"../data/2023_accidents_gu_bcn.csv\"\n",
    "incidents_type_file_path = \"../data/2023_accidents_tipus_gu_bcn.csv\"\n",
    "incidents_vehicle_file_path = \"../data/2023_accidents_vehicles_gu_bcn.csv\"\n",
    "incidents_person_file_path = \"../data/2023_accidents_persones_gu_bcn.csv\"\n",
    "incidents_cause_file_path = \"../data/2023_accidents_causes_gu_bcn.csv\"\n",
    "incidentsdriver_file_path = \"../data/2023_accidents_causa_conductor_gu_bcn.csv\"\n",
    "\n",
    "df_gu_incidents = (spark.read.format(\"csv\")\n",
    "    .option(\"inferSchema\", \"true\")\n",
    "    .option(\"header\", \"true\")\n",
    "    .option(\"mode\", \"FAILFAST\") # exit if any error\n",
    "    .load(incidents_file_path))\n",
    "df_gu_incidents.createOrReplaceTempView(\"incidents\")\n",
    "\n",
    "df_gu_incidents_type = (spark.read.format(\"csv\")\n",
    "    .option(\"inferSchema\", \"true\")\n",
    "    .option(\"header\", \"true\")\n",
    "    .option(\"mode\", \"FAILFAST\") # exit if any error\n",
    "    .load(incidents_type_file_path))\n",
    "df_gu_incidents.createOrReplaceTempView(\"incidents_type\")\n",
    "\n",
    "df_gu_incidents_vehicle = (spark.read.format(\"csv\")\n",
    "    .option(\"inferSchema\", \"true\")\n",
    "    .option(\"header\", \"true\")\n",
    "    .option(\"mode\", \"FAILFAST\") # exit if any error\n",
    "    .load(incidents_vehicle_file_path))\n",
    "df_gu_incidents.createOrReplaceTempView(\"incidents_vehicle\")\n",
    "\n",
    "df_gu_incidents_person = (spark.read.format(\"csv\")\n",
    "    .option(\"inferSchema\", \"true\")\n",
    "    .option(\"header\", \"true\")\n",
    "    .option(\"mode\", \"FAILFAST\") # exit if any error\n",
    "    .load(incidents_person_file_path))\n",
    "df_gu_incidents.createOrReplaceTempView(\"incidents_person\")\n",
    "\n",
    "df_gu_incidents_cause = (spark.read.format(\"csv\")\n",
    "    .option(\"inferSchema\", \"true\")\n",
    "    .option(\"header\", \"true\")\n",
    "    .option(\"mode\", \"FAILFAST\") # exit if any error\n",
    "    .load(incidents_cause_file_path))\n",
    "df_gu_incidents.createOrReplaceTempView(\"incidents_cause\")\n",
    "\n",
    "df_gu_incidents_driver = (spark.read.format(\"csv\")\n",
    "    .option(\"inferSchema\", \"true\")\n",
    "    .option(\"header\", \"true\")\n",
    "    .option(\"mode\", \"FAILFAST\") # exit if any error\n",
    "    .load(incidentsdriver_file_path))\n",
    "df_gu_incidents.createOrReplaceTempView(\"incidents_driver\")\n"
   ]
  },
  {
   "cell_type": "markdown",
   "id": "0179674f-0292-462c-9fa8-ccd05b56ef62",
   "metadata": {},
   "source": [
    "### 3.2 Estructura de les dades\n",
    "\n",
    "1. **df_gu_incidents**, accidents gestionats per la Guàrdia Urbana a Barcelona\n",
    "2. **df_gu_incidents_type**, accidents segons tipologia\n",
    "3. **df_gu_incidents_vehicle**, vehicles implicats en accidents\n",
    "4. **df_gu_incidents_person**, persones involucrades en accidents\n",
    "5. **df_gu_incidents_cause**, accidents segons causa mediata\n",
    "6. **df_gu_incidents_driver**, accidents segons causa conductor"
   ]
  },
  {
   "cell_type": "markdown",
   "id": "e5228c3e-a8e0-4fd2-8080-bd99c3b1d92a",
   "metadata": {},
   "source": [
    "#### 3.2.1 df_gu_incidents"
   ]
  },
  {
   "cell_type": "code",
   "execution_count": 52,
   "id": "a17455ed-5e10-475c-9c1d-8bf8da99774b",
   "metadata": {},
   "outputs": [
    {
     "name": "stdout",
     "output_type": "stream",
     "text": [
      "root\n",
      " |-- Numero_expedient: string (nullable = true)\n",
      " |-- Codi_districte: integer (nullable = true)\n",
      " |-- Nom_districte: string (nullable = true)\n",
      " |-- Codi_barri: integer (nullable = true)\n",
      " |-- Nom_barri: string (nullable = true)\n",
      " |-- Codi_carrer: integer (nullable = true)\n",
      " |-- Nom_carrer: string (nullable = true)\n",
      " |-- Num_postal : string (nullable = true)\n",
      " |-- Descripcio_dia_setmana: string (nullable = true)\n",
      " |-- NK_Any: integer (nullable = true)\n",
      " |-- Mes_any: integer (nullable = true)\n",
      " |-- Nom_mes: string (nullable = true)\n",
      " |-- Dia_mes: integer (nullable = true)\n",
      " |-- Hora_dia: integer (nullable = true)\n",
      " |-- Descripcio_torn: string (nullable = true)\n",
      " |-- Descripcio_causa_vianant: string (nullable = true)\n",
      " |-- Numero_morts: integer (nullable = true)\n",
      " |-- Numero_lesionats_lleus: integer (nullable = true)\n",
      " |-- Numero_lesionats_greus: integer (nullable = true)\n",
      " |-- Numero_victimes: integer (nullable = true)\n",
      " |-- Numero_vehicles_implicats: integer (nullable = true)\n",
      " |-- Coordenada_UTM_Y_ED50: string (nullable = true)\n",
      " |-- Coordenada_UTM_X_ED50: string (nullable = true)\n",
      " |-- Longitud_WGS84: double (nullable = true)\n",
      " |-- Latitud_WGS84: double (nullable = true)\n",
      "\n"
     ]
    }
   ],
   "source": [
    "df_gu_incidents.printSchema()"
   ]
  },
  {
   "cell_type": "code",
   "execution_count": 53,
   "id": "693896bc-f0d4-4593-bcf2-f669135e80e8",
   "metadata": {},
   "outputs": [
    {
     "name": "stdout",
     "output_type": "stream",
     "text": [
      "+----------------+--------------+--------------+----------+-----------------+-----------+--------------------+-----------+----------------------+------+-------+-------+-------+--------+---------------+------------------------+------------+----------------------+----------------------+---------------+-------------------------+---------------------+---------------------+--------------+-------------+\n",
      "|Numero_expedient|Codi_districte| Nom_districte|Codi_barri|        Nom_barri|Codi_carrer|          Nom_carrer|Num_postal |Descripcio_dia_setmana|NK_Any|Mes_any|Nom_mes|Dia_mes|Hora_dia|Descripcio_torn|Descripcio_causa_vianant|Numero_morts|Numero_lesionats_lleus|Numero_lesionats_greus|Numero_victimes|Numero_vehicles_implicats|Coordenada_UTM_Y_ED50|Coordenada_UTM_X_ED50|Longitud_WGS84|Latitud_WGS84|\n",
      "+----------------+--------------+--------------+----------+-----------------+-----------+--------------------+-----------+----------------------+------+-------+-------+-------+--------+---------------+------------------------+------------+----------------------+----------------------+---------------+-------------------------+---------------------+---------------------+--------------+-------------+\n",
      "| 2023S000001    |             3|Sants-Montjuïc|        18|            Sants|      30602|Badal / Càceres  ...|  0186 0186|              Diumenge|  2023|      1|  Gener|      1|      10|           Matí|    No és causa del  ...|           0|                     0|                     1|              1|                        1|           427409.24 |           4580907.46|   2.130813369| 41.374565193|\n",
      "| 2023S000002    |             7|Horta-Guinardó|        33| el Baix Guinardó|     109203|Encarnació       ...|  0149 0149|              Diumenge|  2023|      1|  Gener|      1|       3|            Nit|    No és causa del  ...|           0|                     0|                     0|              0|                        1|           430348.68 |           4584798.12|   2.165512751| 41.409867042|\n",
      "| 2023S000003    |             1|  Ciutat Vella|         1|         el Raval|      67307|Carme            ...|  0075 0079|              Diumenge|  2023|      1|  Gener|      1|       3|            Nit|    Creuar per fora p...|           0|                     1|                     0|              1|                        1|           430479.42 |           4581533.3 |   2.167451891| 41.380473178|\n",
      "| 2023S000005    |             6|        Gràcia|        31|la Vila de Gràcia|     282401|Riera de Sant Miq...|  0017 0017|              Diumenge|  2023|      1|  Gener|      1|      17|          Tarda|    No és causa del  ...|           0|                     1|                     0|              1|                        2|           429637.2  |           4583426.13|   2.157160502| 41.397448015|\n",
      "| 2023S000006    |             6|        Gràcia|        31|la Vila de Gràcia|     206403|Gran de Gràcia / ...|  0072 0072|              Diumenge|  2023|      1|  Gener|      1|      17|          Tarda|    No és causa del  ...|           0|                     1|                     0|              1|                        2|           429497.51 |           4583693.13|   2.155458526| 41.399840547|\n",
      "+----------------+--------------+--------------+----------+-----------------+-----------+--------------------+-----------+----------------------+------+-------+-------+-------+--------+---------------+------------------------+------------+----------------------+----------------------+---------------+-------------------------+---------------------+---------------------+--------------+-------------+\n",
      "only showing top 5 rows\n",
      "\n"
     ]
    }
   ],
   "source": [
    "# mostrem les primeres 5 files\n",
    "df_gu_incidents.show(5)"
   ]
  },
  {
   "cell_type": "code",
   "execution_count": 54,
   "id": "f833107b-6369-48d8-af31-49d4346bc9f2",
   "metadata": {
    "editable": true,
    "slideshow": {
     "slide_type": ""
    },
    "tags": []
   },
   "outputs": [
    {
     "data": {
      "text/plain": [
       "7724"
      ]
     },
     "execution_count": 54,
     "metadata": {},
     "output_type": "execute_result"
    }
   ],
   "source": [
    "# i el nombre total de files (accidents reportats per la guardia urbana)\n",
    "df_gu_incidents.count()"
   ]
  },
  {
   "cell_type": "code",
   "execution_count": 55,
   "id": "caf0fa79-bb1d-4be2-a108-b8e66c9d2837",
   "metadata": {},
   "outputs": [
    {
     "data": {
      "text/plain": [
       "25"
      ]
     },
     "execution_count": 55,
     "metadata": {},
     "output_type": "execute_result"
    }
   ],
   "source": [
    "# mostrem el nombre de columnes\n",
    "len(df_gu_incidents.columns)"
   ]
  },
  {
   "cell_type": "markdown",
   "id": "588f06c8-d5d7-44d2-a54d-9a48579dd4b1",
   "metadata": {},
   "source": [
    "Podem veure que en aquest conjunt de dades, corresponent a 2023, hi ha 7.724 accidents reportats, i cada accident consta de 25 característiques. Inicialment hem carregat les dades inferint directament l'esquema de dades, trobant inicialment que aquestes són de tipus `string` i `integer`. Veiem que en alguns casos, per exemple les coordenades WGS84, seria mes encertat que el tipus fos `float`.\n",
    "\n",
    "De les característiques de les dades, les que considerem més interessants per al nostre treball, són les següents:\n",
    "\n",
    "- Numero_expedient, considerem inicialment que aquesta actúa com a ID de l'accident, i ens permetrà vincular les dades entre els diferents datasets.\n",
    "- Nom_districte\n",
    "- Nom_barri\n",
    "- Nom_carrer, interessant que en aquesta columna ens indica també els encreuaments de carrer on hi ha hagut l'incident, com per exemple \"Badal / Càceres\"\n",
    "- Descripcio_dia_setmana\n",
    "- NK_Any\n",
    "- Mes_any, el mes en format numèric\n",
    "- Dia_mes\n",
    "- Hora_dia\n",
    "- Descripcio_causa_vianant\n",
    "- Numero_morts\n",
    "- Numero_lesionats_lleus\n",
    "- Numero_lesionats_greus, el dataset també aporta Numero_victimes, però aquesta la podriem inferir sumant número de morts i lesionats greus i lleus.\n",
    "- Numero_vehicles_implicats\n",
    "- Longitud_WGS84\n",
    "- Latitud_WGS84, el dataset també ens aporta les dades de geolocalització UTM, però a efectes pràctics serà millor WGS84. Aquestes dades ens permetran localitzar els incidents quan han tingut lloc per exemple a les rondes.\n",
    "\n",
    "Ens quedem amb 16 característiques de les 25 inicials.\n"
   ]
  },
  {
   "cell_type": "markdown",
   "id": "e4641df5-dd83-4905-849c-304a20b6bfa2",
   "metadata": {},
   "source": [
    "#### 3.2.2 `df_gu_incidents_type`, accidents segons tipologia"
   ]
  },
  {
   "cell_type": "code",
   "execution_count": 56,
   "id": "2ba68d60-87ef-4526-8a67-806620a8b3ff",
   "metadata": {},
   "outputs": [
    {
     "name": "stdout",
     "output_type": "stream",
     "text": [
      "root\n",
      " |-- Numero_expedient: string (nullable = true)\n",
      " |-- Codi_districte: integer (nullable = true)\n",
      " |-- Nom_districte: string (nullable = true)\n",
      " |-- Codi_barri: integer (nullable = true)\n",
      " |-- Nom_barri: string (nullable = true)\n",
      " |-- Codi_carrer: integer (nullable = true)\n",
      " |-- Nom_carrer: string (nullable = true)\n",
      " |-- Num_postal: string (nullable = true)\n",
      " |-- Descripcio_dia_setmana: string (nullable = true)\n",
      " |-- NK_Any: integer (nullable = true)\n",
      " |-- Mes_any: integer (nullable = true)\n",
      " |-- Nom_mes: string (nullable = true)\n",
      " |-- Dia_mes: integer (nullable = true)\n",
      " |-- Hora_dia: integer (nullable = true)\n",
      " |-- Descripcio_torn: string (nullable = true)\n",
      " |-- Descripcio_tipus_accident: string (nullable = true)\n",
      " |-- Coordenada_UTM_X_ED50: string (nullable = true)\n",
      " |-- Coordenada_UTM_Y_ED50: string (nullable = true)\n",
      " |-- Longitud_WGS84: double (nullable = true)\n",
      " |-- Latitud_WGS84: double (nullable = true)\n",
      "\n"
     ]
    },
    {
     "data": {
      "text/plain": [
       "7823"
      ]
     },
     "execution_count": 56,
     "metadata": {},
     "output_type": "execute_result"
    }
   ],
   "source": [
    "df_gu_incidents_type.printSchema()\n",
    "df_gu_incidents_type.count()"
   ]
  },
  {
   "cell_type": "code",
   "execution_count": 57,
   "id": "38c9a7c1-a29f-4f2a-8ee6-ee3c8e199936",
   "metadata": {},
   "outputs": [
    {
     "data": {
      "text/plain": [
       "20"
      ]
     },
     "execution_count": 57,
     "metadata": {},
     "output_type": "execute_result"
    }
   ],
   "source": [
    "len(df_gu_incidents_type.columns)"
   ]
  },
  {
   "cell_type": "code",
   "execution_count": 58,
   "id": "eb802620-fdda-4571-98d8-c8890fbb877c",
   "metadata": {},
   "outputs": [
    {
     "name": "stdout",
     "output_type": "stream",
     "text": [
      "+----------------+--------------+-------------+----------+----------+-----------+--------------------+----------+----------------------+------+-------+--------+-------+--------+---------------+-------------------------+---------------------+---------------------+--------------+-------------+\n",
      "|Numero_expedient|Codi_districte|Nom_districte|Codi_barri| Nom_barri|Codi_carrer|          Nom_carrer|Num_postal|Descripcio_dia_setmana|NK_Any|Mes_any| Nom_mes|Dia_mes|Hora_dia|Descripcio_torn|Descripcio_tipus_accident|Coordenada_UTM_X_ED50|Coordenada_UTM_Y_ED50|Longitud_WGS84|Latitud_WGS84|\n",
      "+----------------+--------------+-------------+----------+----------+-----------+--------------------+----------+----------------------+------+-------+--------+-------+--------+---------------+-------------------------+---------------------+---------------------+--------------+-------------+\n",
      "| 2023S004127    |            -1|   Desconegut|        -1|Desconegut|         -1|Diagonal         ...|3-35      |              Dissabte|  2023|      7|  Juliol|      8|       5|            Nit|                    Abast|           434602.66 |           4584822.12|   2.216403377| 41.410440789|\n",
      "| 2023S003871    |            -1|   Desconegut|        -1|Desconegut|         -1|Colom / Portal de...|      NULL|               Dimarts|  2023|      6|    Juny|     27|      19|          Tarda|                    Abast|            431358,53|           4581040,46|   2.178020316| 41.376109822|\n",
      "| 2023S005242    |            -1|   Desconegut|        -1|Desconegut|         -1|Numància         ...|2         |               Dilluns|  2023|      9|Setembre|      4|      12|           Matí|        Col.lisió lateral|           428310.7  |           4581655.17|   2.141503645| 41.381380404|\n",
      "| 2023S005352    |            -1|   Desconegut|        -1|Desconegut|         -1|Aigües           ...|385       |              Dissabte|  2023|      9|Setembre|      9|      16|          Tarda|               Desconegut|           427768.19 |           4586162.33|   2.134478091| 41.421926017|\n",
      "| 2023S007652    |            -1|   Desconegut|        -1|Desconegut|         -1|Diagonal         ...|620       |              Diumenge|  2023|     12|Desembre|     24|      15|          Tarda|            Atropellament|           428251.59 |           4582854.69|   2.140654653| 41.392178767|\n",
      "+----------------+--------------+-------------+----------+----------+-----------+--------------------+----------+----------------------+------+-------+--------+-------+--------+---------------+-------------------------+---------------------+---------------------+--------------+-------------+\n",
      "only showing top 5 rows\n",
      "\n"
     ]
    }
   ],
   "source": [
    "df_gu_incidents_type.show(5)"
   ]
  },
  {
   "cell_type": "markdown",
   "id": "479c7f6b-5b0d-4707-bea4-d6c8dde6410b",
   "metadata": {},
   "source": [
    "Veiem que conté 19 característiques presents en `df_gu_incidents` i una de nova: `Descripcio_tipus_accident`. Ens crida l'atenció que aquest dataset conté 7.823 accidents, 99 més que `df_gu_incidents`"
   ]
  },
  {
   "cell_type": "markdown",
   "id": "2bff7495-b256-4f14-88cb-78ce51205ddf",
   "metadata": {},
   "source": [
    "#### 3.2.3 `df_gu_incidents_vehicle`, vehicles implicats en accidents"
   ]
  },
  {
   "cell_type": "code",
   "execution_count": 59,
   "id": "1ecdfbfd-4d14-42ec-9cf8-d88647609e10",
   "metadata": {},
   "outputs": [
    {
     "name": "stdout",
     "output_type": "stream",
     "text": [
      "root\n",
      " |-- Numero_expedient: string (nullable = true)\n",
      " |-- Codi_districte: integer (nullable = true)\n",
      " |-- Nom_districte: string (nullable = true)\n",
      " |-- Codi_barri: integer (nullable = true)\n",
      " |-- Nom_barri: string (nullable = true)\n",
      " |-- Codi_carrer: integer (nullable = true)\n",
      " |-- Nom_carrer: string (nullable = true)\n",
      " |-- Num_postal: string (nullable = true)\n",
      " |-- Descripcio_dia_setmana: string (nullable = true)\n",
      " |-- NK_Any: integer (nullable = true)\n",
      " |-- Mes_any: integer (nullable = true)\n",
      " |-- Nom_mes: string (nullable = true)\n",
      " |-- Dia_mes: integer (nullable = true)\n",
      " |-- Hora_dia: integer (nullable = true)\n",
      " |-- Descripcio_torn: string (nullable = true)\n",
      " |-- Descripcio_causa_vianant: string (nullable = true)\n",
      " |-- Descripcio_tipus_vehicle: string (nullable = true)\n",
      " |-- Descripcio_model: string (nullable = true)\n",
      " |-- Descripcio_marca: string (nullable = true)\n",
      " |-- Descripcio_color: string (nullable = true)\n",
      " |-- Descripcio_carnet: string (nullable = true)\n",
      " |-- Antiguitat_carnet: string (nullable = true)\n",
      " |-- Coordenada_UTM_X_ED50: string (nullable = true)\n",
      " |-- Coordenada_UTM_Y_ED50: string (nullable = true)\n",
      " |-- Longitud_WGS84: string (nullable = true)\n",
      " |-- Latitud_WGS84: string (nullable = true)\n",
      "\n",
      "dataset conté 14361 accidents i 26 característiques\n"
     ]
    }
   ],
   "source": [
    "df_gu_incidents_vehicle.printSchema()\n",
    "print(f\"dataset conté {df_gu_incidents_vehicle.count()} accidents i {len(df_gu_incidents_vehicle.columns)} característiques\")"
   ]
  },
  {
   "cell_type": "markdown",
   "id": "36cb6d7b-158a-473d-b88d-7a74ea5b2c6a",
   "metadata": {},
   "source": [
    "Aquest dataset recull les següents noves característiques:\n",
    "- `Descripcio_tipus_vehicle`\n",
    "- `Descripcio_model`\n",
    "- `Descripcio_marca`\n",
    "- `Descripcio_color`\n",
    "- `Descripcio_carnet`\n",
    "- `Antiguitat_carnet`\n",
    "\n",
    "i recull 14.361 accidents durant 2023, 6.538 més que l'anterior dataset."
   ]
  },
  {
   "cell_type": "markdown",
   "id": "90d09ef7-85ee-487d-9b6e-d2f6892b8bb6",
   "metadata": {},
   "source": [
    "#### 3.2.4 `df_gu_incidents_person`, persones involucrades en accidents "
   ]
  },
  {
   "cell_type": "code",
   "execution_count": 60,
   "id": "bc592b87-a2b9-43a6-bf1e-c04ab30c156b",
   "metadata": {},
   "outputs": [
    {
     "name": "stdout",
     "output_type": "stream",
     "text": [
      "root\n",
      " |-- Numero_expedient: string (nullable = true)\n",
      " |-- Codi_districte: integer (nullable = true)\n",
      " |-- Nom_districte: string (nullable = true)\n",
      " |-- Codi_barri: integer (nullable = true)\n",
      " |-- Nom_barri: string (nullable = true)\n",
      " |-- Codi_carrer: integer (nullable = true)\n",
      " |-- Nom_carrer: string (nullable = true)\n",
      " |-- Num_postal: string (nullable = true)\n",
      " |-- Descripcio_dia_setmana: string (nullable = true)\n",
      " |-- NK_ Any: integer (nullable = true)\n",
      " |-- Mes_ any: integer (nullable = true)\n",
      " |-- Nom_mes: string (nullable = true)\n",
      " |-- Dia_mes: integer (nullable = true)\n",
      " |-- Descripcio_torn: string (nullable = true)\n",
      " |-- Hora_dia: integer (nullable = true)\n",
      " |-- Descripcio_causa_vianant: string (nullable = true)\n",
      " |-- Desc_Tipus_vehicle_implicat: string (nullable = true)\n",
      " |-- Descripcio_sexe: string (nullable = true)\n",
      " |-- Edat: string (nullable = true)\n",
      " |-- Descripció_tipus_persona: string (nullable = true)\n",
      " |-- Descripcio_Lloc_atropellament_vianant: string (nullable = true)\n",
      " |-- Descripcio_Motiu_desplacament_vianant: string (nullable = true)\n",
      " |-- Descripcio_Motiu_desplacament_conductor: string (nullable = true)\n",
      " |-- Descripcio_victimitzacio: string (nullable = true)\n",
      " |-- Coordenada_UTM_X_ED50: string (nullable = true)\n",
      " |-- Coordenada_UTM_Y_ED50: string (nullable = true)\n",
      " |-- Longitud_WGS84: double (nullable = true)\n",
      " |-- Latitud_WGS84: double (nullable = true)\n",
      "\n",
      "dataset conté 8776 accidents i 28 característiques\n"
     ]
    }
   ],
   "source": [
    "df_gu_incidents_person.printSchema()\n",
    "print(f\"dataset conté {df_gu_incidents_person.count()} accidents i {len(df_gu_incidents_person.columns)} característiques\")"
   ]
  },
  {
   "cell_type": "markdown",
   "id": "fca6f154-d6c9-4831-b70f-2de936dd2b11",
   "metadata": {},
   "source": [
    "Veiem que les característiques úniques d'aquest dataset són:\n",
    "- `Desc_Tipus_vehicle_implicat`\n",
    "- `Descripcio_sexe`\n",
    "- `Edat`\n",
    "- `Descripció_tipus_persona`\n",
    "- `Descripcio_Lloc_atropellament_vianant`\n",
    "- `Descripcio_Motiu_desplacament_vianant`\n",
    "- `Descripcio_Motiu_desplacament_conductor`\n",
    "- `Descripcio_victimitzacio`\n",
    "\n",
    "i recull 8.776 accidents."
   ]
  },
  {
   "cell_type": "markdown",
   "id": "b420b667-8aa9-4eed-87f4-3f8145dc3906",
   "metadata": {},
   "source": [
    "#### 3.2.5 `df_gu_incidents_cause`, accidents segons causa mediata"
   ]
  },
  {
   "cell_type": "code",
   "execution_count": 61,
   "id": "1276d62b-4ab2-4350-871b-084d5c5b5d87",
   "metadata": {},
   "outputs": [
    {
     "name": "stdout",
     "output_type": "stream",
     "text": [
      "root\n",
      " |-- Numero_expedient: string (nullable = true)\n",
      " |-- Codi_districte: integer (nullable = true)\n",
      " |-- Nom_districte: string (nullable = true)\n",
      " |-- Codi_barri: integer (nullable = true)\n",
      " |-- Nom_barri: string (nullable = true)\n",
      " |-- Codi_carrer: integer (nullable = true)\n",
      " |-- Nom_carrer: string (nullable = true)\n",
      " |-- Num_postal : string (nullable = true)\n",
      " |-- Descripcio_dia_setmana: string (nullable = true)\n",
      " |-- NK_Any: integer (nullable = true)\n",
      " |-- Mes_any: integer (nullable = true)\n",
      " |-- Nom_mes: string (nullable = true)\n",
      " |-- Dia_mes: integer (nullable = true)\n",
      " |-- Hora_dia: integer (nullable = true)\n",
      " |-- Descripcio_torn: string (nullable = true)\n",
      " |-- Descripcio_causa_mediata: string (nullable = true)\n",
      " |-- Coordenada_UTM_X_ED50: string (nullable = true)\n",
      " |-- Coordenada_UTM_Y_ED50: string (nullable = true)\n",
      " |-- Longitud_WGS84: double (nullable = true)\n",
      " |-- Latitud_WGS84: double (nullable = true)\n",
      "\n",
      "dataset conté 7721 accidents i 20 característiques\n"
     ]
    }
   ],
   "source": [
    "df_gu_incidents_cause.printSchema()\n",
    "print(f\"dataset conté {df_gu_incidents_cause.count()} accidents i {len(df_gu_incidents_cause.columns)} característiques\")"
   ]
  },
  {
   "cell_type": "markdown",
   "id": "d6c2fd99-edba-44b8-aa8a-7d161c12210d",
   "metadata": {},
   "source": [
    "Conté una característica única: `Descripcio_causa_mediata`, veurem tot seguit quines són les causes més repetides:"
   ]
  },
  {
   "cell_type": "code",
   "execution_count": 62,
   "id": "160a7e03-2d7c-4e3d-b497-dc75df820150",
   "metadata": {},
   "outputs": [
    {
     "name": "stderr",
     "output_type": "stream",
     "text": [
      "                                                                                \r"
     ]
    },
    {
     "data": {
      "text/plain": [
       "[('No hi ha causa mediata', 7208),\n",
       " ('Estat de la senyalització', 3),\n",
       " ('Objectes o animals a la calçada', 20),\n",
       " ('Calçada en mal estat', 53),\n",
       " ('Alcoholèmia', 396),\n",
       " ('Factors meteorològics', 6),\n",
       " ('Excés de velocitat o inadequada', 25),\n",
       " ('Drogues o medicaments', 10)]"
      ]
     },
     "execution_count": 62,
     "metadata": {},
     "output_type": "execute_result"
    }
   ],
   "source": [
    "causes = (df_gu_incidents_cause.select(\"Descripcio_causa_mediata\")\n",
    "          .rdd.map(lambda row: row[\"Descripcio_causa_mediata\"])\n",
    "          .map(lambda x: (x, 1))\n",
    "          .reduceByKey(lambda a,b: a+b))\n",
    "causes.take(20)"
   ]
  },
  {
   "cell_type": "markdown",
   "id": "3bc03a62-2ab4-4f5b-b1b6-78a724508abe",
   "metadata": {},
   "source": [
    "#### 3.2.6 `df_gu_incidents_driver`, accidents segons causa conductor"
   ]
  },
  {
   "cell_type": "code",
   "execution_count": 63,
   "id": "df5de5d4-4e91-46c8-956c-e4792ab3ba63",
   "metadata": {},
   "outputs": [
    {
     "name": "stdout",
     "output_type": "stream",
     "text": [
      "root\n",
      " |-- Numero_expedient: string (nullable = true)\n",
      " |-- Codi_districte: integer (nullable = true)\n",
      " |-- Nom_districte: string (nullable = true)\n",
      " |-- Codi_barri: integer (nullable = true)\n",
      " |-- Nom_barri: string (nullable = true)\n",
      " |-- Codi_carrer: integer (nullable = true)\n",
      " |-- Nom_carrer: string (nullable = true)\n",
      " |-- Num_postal : string (nullable = true)\n",
      " |-- Descripcio_dia_setmana: string (nullable = true)\n",
      " |-- NK_Any: integer (nullable = true)\n",
      " |-- Mes_any: integer (nullable = true)\n",
      " |-- Nom_mes: string (nullable = true)\n",
      " |-- Dia_mes: integer (nullable = true)\n",
      " |-- Hora_dia: integer (nullable = true)\n",
      " |-- Descripcio_torn: string (nullable = true)\n",
      " |-- Descripcio_causa_mediata: string (nullable = true)\n",
      " |-- Coordenada_UTM_X_ED50: double (nullable = true)\n",
      " |-- Coordenada_UTM_Y_ED50: double (nullable = true)\n",
      " |-- Longitud_WGS84: double (nullable = true)\n",
      " |-- Latitud_WGS84: double (nullable = true)\n",
      "\n",
      "dataset conté 8897 accidents i 20 característiques\n"
     ]
    }
   ],
   "source": [
    "df_gu_incidents_driver.printSchema()\n",
    "print(f\"dataset conté {df_gu_incidents_driver.count()} accidents i {len(df_gu_incidents_driver.columns)} característiques\")"
   ]
  },
  {
   "cell_type": "markdown",
   "id": "7076bd71-f4fb-4a23-be2c-e385dace0d23",
   "metadata": {},
   "source": [
    "Aquest conjunt de dades conté les mateixes característiques que l'anterior `df_gu_incidents_cause` i recull 8.897 accidents, 1.176 més que l'anterior. Podem veure que en aquest dataset `Descripcio_causa_mediata` recull la causa de l'accident de la qual n'es responsable el conductor:"
   ]
  },
  {
   "cell_type": "code",
   "execution_count": 64,
   "id": "7eb1653c-a0e6-401b-9533-b8abc74fcae1",
   "metadata": {},
   "outputs": [
    {
     "data": {
      "text/plain": [
       "[(\"Manca d'atenció a la conducció\", 2061),\n",
       " ('No respectar distàncies', 996),\n",
       " ('No respectat pas de vianants', 241),\n",
       " ('Desobeir semàfor', 640),\n",
       " ('Desobeir altres senyals', 457),\n",
       " ('Gir indegut o sense precaució', 804),\n",
       " ('Altres', 1089),\n",
       " ('Desconegut', 377),\n",
       " ('Avançament defectuós/improcedent', 296),\n",
       " ('Canvi de carril sense precaució', 666),\n",
       " ('No determinada', 743),\n",
       " ('Manca precaució incorporació circulació', 238),\n",
       " ('No cedir la dreta', 72),\n",
       " ('Manca precaució efectuar marxa enrera', 177),\n",
       " ('Envair calçada contrària', 25),\n",
       " ('Fallada mecànica o avaria', 15)]"
      ]
     },
     "execution_count": 64,
     "metadata": {},
     "output_type": "execute_result"
    }
   ],
   "source": [
    "driver_causes = (df_gu_incidents_driver.select(\"Descripcio_causa_mediata\")\n",
    "          .rdd.map(lambda row: row[\"Descripcio_causa_mediata\"])\n",
    "          .map(lambda x: (x, 1))\n",
    "          .reduceByKey(lambda a,b: a+b))\n",
    "driver_causes.take(20)"
   ]
  },
  {
   "cell_type": "code",
   "execution_count": 65,
   "id": "1ad7ab31-6c58-4ae9-b26f-b8d345cdc2d1",
   "metadata": {},
   "outputs": [],
   "source": [
    "#spark.sql(\n",
    "#    \"\"\"\n",
    "#    SELECT Nom_carrer, Dia_mes, Numero_morts, Numero_vehicles_implicats, Descripcio_causa_vianant\n",
    "#    FROM incidents WHERE Numero_morts > 0\n",
    "#    ORDER BY Numero_morts DESC\n",
    "#    \"\"\"\n",
    "#).show(10)"
   ]
  },
  {
   "cell_type": "markdown",
   "id": "19c380b8-8a5d-450e-96d8-5b9d06023b17",
   "metadata": {},
   "source": [
    "### 3.3 Preparació de les dades\n",
    "Crearem un nou data frame de cada conjunt de dades amb les característiques seleccionades, els hi donem un nom més concis."
   ]
  },
  {
   "cell_type": "markdown",
   "id": "5cf93ebf-c3f3-4101-b290-37f8bd355216",
   "metadata": {},
   "source": [
    "#### 3.3.1 df_gu_incidents -> df_incidents\n",
    "\n",
    "Descartem les següents característiques del conjunt de dades inicial:\n",
    "\n",
    "- Codi_districte\n",
    "- Codi_barri\n",
    "- Codi_carrer\n",
    "- Num_postal\n",
    "- Nom_mes\n",
    "- Descripcio_torn\n",
    "- Numero_victimes\n",
    "- Coordenada_UTM_Y_ED50\n",
    "- Coordenada_UTM_X_ED50\n",
    "\n",
    "i conservem les següents, a les que els hi donarem un nom mes curt:\n",
    "\n",
    "- Numero_expedient : expedient\n",
    "- Nom_districte : districte\n",
    "- Nom_barri : barri\n",
    "- Nom_carrer : carrer\n",
    "- Descripcio_dia_setmana : dia_nom\n",
    "- NK_Any : any\n",
    "- Mes_any : mes\n",
    "- Dia_mes : dia\n",
    "- Hora_dia: hora\n",
    "- Descripcio_causa_vianant: causa_vianant\n",
    "- Numero_morts: morts\n",
    "- Numero_lesionats_lleus: lleus\n",
    "- Numero_lesionats_greus: greus\n",
    "- Numero_vehicles_implicats: vehicles\n",
    "- Longitud_WGS84: long\n",
    "- Latitud_WGS84: lat\n"
   ]
  },
  {
   "cell_type": "code",
   "execution_count": 79,
   "id": "469c321d-cb32-48cd-a0c6-298100fc503a",
   "metadata": {},
   "outputs": [
    {
     "name": "stdout",
     "output_type": "stream",
     "text": [
      "+---------------+--------------+-----------------+--------------------+--------+----+---+---+----+--------------------+-----+-----+-----+------------+-----------+------------+\n",
      "|      expedient|     districte|            barri|              carrer| dia_nom| any|mes|dia|hora|       causa_vianant|morts|lleus|greus|num_vehicles|       long|         lat|\n",
      "+---------------+--------------+-----------------+--------------------+--------+----+---+---+----+--------------------+-----+-----+-----+------------+-----------+------------+\n",
      "|2023S000001    |Sants-Montjuïc|            Sants|Badal / Càceres  ...|Diumenge|2023|  1|  1|  10|No és causa del  ...|    0|    0|    1|           1|2.130813369|41.374565193|\n",
      "|2023S000002    |Horta-Guinardó| el Baix Guinardó|Encarnació       ...|Diumenge|2023|  1|  1|   3|No és causa del  ...|    0|    0|    0|           1|2.165512751|41.409867042|\n",
      "|2023S000003    |  Ciutat Vella|         el Raval|Carme            ...|Diumenge|2023|  1|  1|   3|Creuar per fora p...|    0|    1|    0|           1|2.167451891|41.380473178|\n",
      "|2023S000005    |        Gràcia|la Vila de Gràcia|Riera de Sant Miq...|Diumenge|2023|  1|  1|  17|No és causa del  ...|    0|    1|    0|           2|2.157160502|41.397448015|\n",
      "|2023S000006    |        Gràcia|la Vila de Gràcia|Gran de Gràcia / ...|Diumenge|2023|  1|  1|  17|No és causa del  ...|    0|    1|    0|           2|2.155458526|41.399840547|\n",
      "+---------------+--------------+-----------------+--------------------+--------+----+---+---+----+--------------------+-----+-----+-----+------------+-----------+------------+\n",
      "only showing top 5 rows\n",
      "\n"
     ]
    }
   ],
   "source": [
    "# We could do the same query with the DataFram API\n",
    "from pyspark.sql.functions import col, desc\n",
    "#(df_gu_incidents.select(df_gu_incidents[\"Nom_carrer\"].alias(\"carrer\"), \"Dia_mes\", \"Numero_morts\", \"Numero_vehicles_implicats\", \"Descripcio_causa_vianant\", \"Num_postal \")\n",
    "#     .where(col(\"Num_postal \") IS NULL)\n",
    "#     .orderBy(\"Numero_morts\", ascending=False).show(10))\n",
    "\n",
    "column_mapping = {\n",
    "        \"Numero_expedient\": \"expedient\", \n",
    "        \"Nom_districte\": \"districte\",\n",
    "        \"Nom_barri\": \"barri\",\n",
    "        \"Nom_carrer\": \"carrer\",\n",
    "        \"Descripcio_dia_setmana\": \"dia_nom\",\n",
    "        \"NK_Any\": \"any\", \n",
    "        \"Mes_any\": \"mes\", \n",
    "        \"Dia_mes\": \"dia\",\n",
    "        \"Hora_dia\": \"hora\", \n",
    "        \"Descripcio_causa_vianant\": \"causa_vianant\", \n",
    "        \"Numero_morts\": \"morts\", \n",
    "        \"Numero_lesionats_lleus\": \"lleus\", \n",
    "        \"Numero_lesionats_greus\": \"greus\",\n",
    "        \"Numero_vehicles_implicats\": \"num_vehicles\",\n",
    "        \"Longitud_WGS84\": \"long\",\n",
    "        \"Latitud_WGS84\": \"lat\"    \n",
    "}\n",
    "\n",
    "features = [x for x,y in column_mapping.items()]\n",
    "\n",
    "df_incidents = df_gu_incidents.select(features)\n",
    "\n",
    "for old_col, new_col in column_mapping.items():\n",
    "    df_incidents = df_incidents.withColumnRenamed(old_col, new_col)\n",
    "\n",
    "df_incidents.show(5)"
   ]
  },
  {
   "cell_type": "markdown",
   "id": "bcfeb55e-2301-4dcf-9826-a5e4016ffba2",
   "metadata": {},
   "source": [
    "#### 3.3.2 df_gu_incidents_type -> df_incidents_type\n",
    "\n",
    "conservem les següents, a les que els hi donarem un nom mes curt:\n",
    "\n",
    "- Numero_expedient : expedient\n",
    "- Nom_districte : districte\n",
    "- Nom_barri : barri\n",
    "- Nom_carrer : carrer\n",
    "- Descripcio_dia_setmana : dia_nom\n",
    "- NK_Any : any\n",
    "- Mes_any : mes\n",
    "- Dia_mes : dia\n",
    "- Hora_dia: hora\n",
    "- Descripcio_tipus_accident: tipus_accident\n",
    "- Longitud_WGS84: long\n",
    "- Latitud_WGS84: lat\n"
   ]
  },
  {
   "cell_type": "code",
   "execution_count": 78,
   "id": "a46303ed-e015-41fe-b722-76b5e2a7742e",
   "metadata": {},
   "outputs": [
    {
     "name": "stdout",
     "output_type": "stream",
     "text": [
      "+---------------+----------+----------+--------------------+--------+----+---+---+----+-----------------+-----------+------------+\n",
      "|      expedient| districte|     barri|              carrer| dia_nom| any|mes|dia|hora|   tipus_accident|       long|         lat|\n",
      "+---------------+----------+----------+--------------------+--------+----+---+---+----+-----------------+-----------+------------+\n",
      "|2023S004127    |Desconegut|Desconegut|Diagonal         ...|Dissabte|2023|  7|  8|   5|            Abast|2.216403377|41.410440789|\n",
      "|2023S003871    |Desconegut|Desconegut|Colom / Portal de...| Dimarts|2023|  6| 27|  19|            Abast|2.178020316|41.376109822|\n",
      "|2023S005242    |Desconegut|Desconegut|Numància         ...| Dilluns|2023|  9|  4|  12|Col.lisió lateral|2.141503645|41.381380404|\n",
      "|2023S005352    |Desconegut|Desconegut|Aigües           ...|Dissabte|2023|  9|  9|  16|       Desconegut|2.134478091|41.421926017|\n",
      "|2023S007652    |Desconegut|Desconegut|Diagonal         ...|Diumenge|2023| 12| 24|  15|    Atropellament|2.140654653|41.392178767|\n",
      "+---------------+----------+----------+--------------------+--------+----+---+---+----+-----------------+-----------+------------+\n",
      "only showing top 5 rows\n",
      "\n"
     ]
    }
   ],
   "source": [
    "column_mapping = {\n",
    "        \"Numero_expedient\": \"expedient\", \n",
    "        \"Nom_districte\": \"districte\",\n",
    "        \"Nom_barri\": \"barri\",\n",
    "        \"Nom_carrer\": \"carrer\",\n",
    "        \"Descripcio_dia_setmana\": \"dia_nom\",\n",
    "        \"NK_Any\": \"any\", \n",
    "        \"Mes_any\": \"mes\", \n",
    "        \"Dia_mes\": \"dia\",\n",
    "        \"Hora_dia\": \"hora\", \n",
    "        \"Descripcio_tipus_accident\": \"tipus_accident\", \n",
    "        \"Longitud_WGS84\": \"long\",\n",
    "        \"Latitud_WGS84\": \"lat\"    \n",
    "}\n",
    "\n",
    "features = [x for x,y in column_mapping.items()]\n",
    "\n",
    "df_incidents_type = df_gu_incidents_type.select(features)\n",
    "\n",
    "for old_col, new_col in column_mapping.items():\n",
    "    df_incidents_type = df_incidents_type.withColumnRenamed(old_col, new_col)\n",
    "\n",
    "df_incidents_type.show(5)"
   ]
  },
  {
   "cell_type": "markdown",
   "id": "43c31f90-e884-48d7-adc5-2bad48b35a28",
   "metadata": {},
   "source": [
    "### 3.3.3 df_gu_incidents_vehicle -> df_incidents_vehicle\n",
    "\n",
    "conservem les següents, a les que els hi donarem un nom mes curt:\n",
    "\n",
    "- Numero_expedient : expedient\n",
    "- Nom_districte : districte\n",
    "- Nom_barri : barri\n",
    "- Nom_carrer : carrer\n",
    "- Descripcio_dia_setmana : dia_nom\n",
    "- NK_Any : any\n",
    "- Mes_any : mes\n",
    "- Dia_mes : dia\n",
    "- Hora_dia: hora\n",
    "- Descripcio_causa_vianant: causa_vianant\n",
    "- Descripcio_tipus_vehicle: tipus_vehicle\n",
    "- Descripcio_carnet: carnet\n",
    "- Antiguitat_carnet: carnet_anys\n",
    "- Longitud_WGS84: long\n",
    "- Latitud_WGS84: lat\n"
   ]
  },
  {
   "cell_type": "code",
   "execution_count": 77,
   "id": "80e8bd74-7244-4778-8d8c-d4f7ed808a1b",
   "metadata": {},
   "outputs": [
    {
     "name": "stdout",
     "output_type": "stream",
     "text": [
      "+---------------+----------+----------+--------------------+-------+----+---+---+----+--------------------+-----------------+----------+-----------+-----------+------------+\n",
      "|      expedient| districte|     barri|              carrer|dia_nom| any|mes|dia|hora|       causa_vianant|    tipus_vehicle|    carnet|carnet_anys|       long|         lat|\n",
      "+---------------+----------+----------+--------------------+-------+----+---+---+----+--------------------+-----------------+----------+-----------+-----------+------------+\n",
      "|2023S000536    |Desconegut|Desconegut|Motors / Acer    ...| Dijous|2023|  1| 26|  14|No és causa del  ...|          Turisme|Desconegut| Desconegut|2.139637367|41.348935697|\n",
      "|2023S000506    |Desconegut|Desconegut|Motors           ...| Dijous|2023|  1| 26|  15|No és causa del  ...|      Motocicleta|         B|         11|2.148801757|41.352030518|\n",
      "|2023S000506    |Desconegut|Desconegut|                NULL| Dijous|2023|  1| 26|  15|No és causa del  ...|          Turisme|         B|         39|2.148801757|41.352030518|\n",
      "|2023S001678    |Desconegut|Desconegut|Corts / Arístides...| Dijous|2023|  3| 23|  14|No és causa del  ...|          Autobús|         D|         17|2.121411776|41.377958412|\n",
      "|2023S002486    |Desconegut|Desconegut|Glòries Catalanes...| Dijous|2023|  4| 27|  20|No és causa del  ...|Autobús articulat|       E D|         26|2.185995092|41.402018695|\n",
      "+---------------+----------+----------+--------------------+-------+----+---+---+----+--------------------+-----------------+----------+-----------+-----------+------------+\n",
      "only showing top 5 rows\n",
      "\n"
     ]
    }
   ],
   "source": [
    "column_mapping = {\n",
    "        \"Numero_expedient\": \"expedient\", \n",
    "        \"Nom_districte\": \"districte\",\n",
    "        \"Nom_barri\": \"barri\",\n",
    "        \"Nom_carrer\": \"carrer\",\n",
    "        \"Descripcio_dia_setmana\": \"dia_nom\",\n",
    "        \"NK_Any\": \"any\", \n",
    "        \"Mes_any\": \"mes\", \n",
    "        \"Dia_mes\": \"dia\",\n",
    "        \"Hora_dia\": \"hora\", \n",
    "        \"Descripcio_causa_vianant\": \"causa_vianant\",\n",
    "        \"Descripcio_tipus_vehicle\": \"tipus_vehicle\",\n",
    "        \"Descripcio_carnet\": \"carnet\",\n",
    "        \"Antiguitat_carnet\": \"carnet_anys\",\n",
    "        \"Longitud_WGS84\": \"long\",\n",
    "        \"Latitud_WGS84\": \"lat\"    \n",
    "}\n",
    "\n",
    "features = [x for x,y in column_mapping.items()]\n",
    "\n",
    "df_incidents_vehicle = df_gu_incidents_vehicle.select(features)\n",
    "\n",
    "for old_col, new_col in column_mapping.items():\n",
    "    df_incidents_vehicle = df_incidents_vehicle.withColumnRenamed(old_col, new_col)\n",
    "\n",
    "df_incidents_vehicle.show(5)"
   ]
  },
  {
   "cell_type": "markdown",
   "id": "468b7500-fca9-49f2-82db-a9177a4a06b9",
   "metadata": {},
   "source": [
    "### 3.3.4 df_gu_incidents_person -> df_incidents_person\n",
    "\n",
    "conservem les següents, a les que els hi donarem un nom mes curt:\n",
    "\n",
    "- Numero_expedient : expedient\n",
    "- Nom_districte : districte\n",
    "- Nom_barri : barri\n",
    "- Nom_carrer : carrer\n",
    "- Descripcio_dia_setmana : dia_nom\n",
    "- NK_Any : any\n",
    "- Mes_any : mes\n",
    "- Dia_mes : dia\n",
    "- Hora_dia: hora\n",
    "- Descripcio_causa_vianant: causa_vianant\n",
    "- Desc_Tipus_vehicle_implicat: tipus_vehicle\n",
    "- Descripcio_sexe: sexe\n",
    "- Edat: edat\n",
    "- Descripció_tipus_persona: tipus_persona\n",
    "- Descripcio_Lloc_atropellament_vianant: lloc\n",
    "- Descripcio_Motiu_desplacament_vianant: motiu_desp_vianant\n",
    "- Descripcio_Motiu_desplacament_conductor: motiu_desp_conductor\n",
    "- Descripcio_victimitzacio: victimitzacio\n",
    "- Longitud_WGS84: long\n",
    "- Latitud_WGS84: lat\n"
   ]
  },
  {
   "cell_type": "code",
   "execution_count": 83,
   "id": "0bf480ea-bf63-4081-af66-73a9a17a1599",
   "metadata": {},
   "outputs": [
    {
     "name": "stdout",
     "output_type": "stream",
     "text": [
      "+---------------+--------------+--------------------+--------------------+--------+----+---+---+----+--------------------+--------------------+----+----+-------------+--------------------+------------------+--------------------+--------------------+-----------+------------+\n",
      "|      expedient|     districte|               barri|              carrer| dia_nom| any|mes|dia|hora|       causa_vianant|       tipus_vehicle|sexe|edat|tipus_persona|                lloc|motiu_desp_vianant|motiu_desp_conductor|       victimitzacio|       long|         lat|\n",
      "+---------------+--------------+--------------------+--------------------+--------+----+---+---+----+--------------------+--------------------+----+----+-------------+--------------------+------------------+--------------------+--------------------+-----------+------------+\n",
      "|2023S000001    |Sants-Montjuïc|               Sants|               Badal|Diumenge|2023|  1|  1|  10|No és causa del  ...|Camió rígid > 3,5...|Home|  57|      Vianant|En zona peatonal ...|        Desconegut|          Desconegut|Ferit greu: hospi...|2.130813369|41.374565193|\n",
      "|2023S000003    |  Ciutat Vella|            el Raval|               Carme|Diumenge|2023|  1|  1|   3|Creuar per fora p...|           Furgoneta|Home|  45|      Vianant|Fora del pas     ...|        Desconegut|          Desconegut|Ferit lleu: Hospi...|2.167451891|41.380473178|\n",
      "|2023S000005    |        Gràcia|   la Vila de Gràcia|Riera de Sant Miq...|Diumenge|2023|  1|  1|  17|No és causa del  ...|           Bicicleta|Home|  45|    Conductor|Desconegut       ...|        Desconegut|        Es desconeix|Ferit lleu: Hospi...|2.157160502|41.397448015|\n",
      "|2023S000006    |        Gràcia|   la Vila de Gràcia|Gran de Gràcia / ...|Diumenge|2023|  1|  1|  17|No és causa del  ...|         Motocicleta|Home|  49|    Conductor|Desconegut       ...|        Desconegut|        Es desconeix|Ferit lleu: Amb a...|2.155458526|41.399840547|\n",
      "|2023S000007    |Sants-Montjuïc|la Marina del Pra...|Ramon Albó       ...|Diumenge|2023|  1|  1|  18|No és causa del  ...|         Motocicleta|Home|  27|    Conductor|Desconegut       ...|        Desconegut|        Es desconeix|Ferit lleu: Hospi...|2.177055607|41.426890843|\n",
      "+---------------+--------------+--------------------+--------------------+--------+----+---+---+----+--------------------+--------------------+----+----+-------------+--------------------+------------------+--------------------+--------------------+-----------+------------+\n",
      "only showing top 5 rows\n",
      "\n"
     ]
    }
   ],
   "source": [
    "column_mapping = {\n",
    "        \"Numero_expedient\": \"expedient\", \n",
    "        \"Nom_districte\": \"districte\",\n",
    "        \"Nom_barri\": \"barri\",\n",
    "        \"Nom_carrer\": \"carrer\",\n",
    "        \"Descripcio_dia_setmana\": \"dia_nom\",\n",
    "        \"NK_ Any\": \"any\", \n",
    "        \"Mes_ any\": \"mes\", \n",
    "        \"Dia_mes\": \"dia\",\n",
    "        \"Hora_dia\": \"hora\", \n",
    "        \"Descripcio_causa_vianant\": \"causa_vianant\",\n",
    "        \"Desc_Tipus_vehicle_implicat\": \"tipus_vehicle\",\n",
    "        \"Descripcio_sexe\": \"sexe\",\n",
    "        \"Edat\": \"edat\",\n",
    "        \"Descripció_tipus_persona\": \"tipus_persona\",\n",
    "        \"Descripcio_Lloc_atropellament_vianant\": \"lloc\",\n",
    "        \"Descripcio_Motiu_desplacament_vianant\": \"motiu_desp_vianant\",\n",
    "        \"Descripcio_Motiu_desplacament_conductor\": \"motiu_desp_conductor\",\n",
    "        \"Descripcio_victimitzacio\": \"victimitzacio\",\n",
    "        \"Longitud_WGS84\": \"long\",\n",
    "        \"Latitud_WGS84\": \"lat\"    \n",
    "}\n",
    "\n",
    "features = [x for x,y in column_mapping.items()]\n",
    "\n",
    "df_incidents_person = df_gu_incidents_person.select(features)\n",
    "\n",
    "for old_col, new_col in column_mapping.items():\n",
    "    df_incidents_person = df_incidents_person.withColumnRenamed(old_col, new_col)\n",
    "\n",
    "df_incidents_person.show(5)"
   ]
  },
  {
   "cell_type": "code",
   "execution_count": 21,
   "id": "889aca19-9785-4d28-869a-0b13057fa6bf",
   "metadata": {},
   "outputs": [
    {
     "data": {
      "text/plain": [
       "[Database(name='default', catalog='spark_catalog', description='default database', locationUri='file:/Users/pau/coding-projects/ita-barcelona-traffic-incidents/notebook/spark-warehouse')]"
      ]
     },
     "execution_count": 21,
     "metadata": {},
     "output_type": "execute_result"
    }
   ],
   "source": [
    "spark.catalog.listDatabases()"
   ]
  },
  {
   "cell_type": "code",
   "execution_count": 25,
   "id": "90b09172-8de3-4c21-bd35-be55ecb6a312",
   "metadata": {},
   "outputs": [],
   "source": [
    "#spark.catalog.listTables()"
   ]
  },
  {
   "cell_type": "code",
   "execution_count": 24,
   "id": "963ece60-42f6-4ccb-83b4-02052eea74d0",
   "metadata": {},
   "outputs": [],
   "source": [
    "#spark.catalog.listColumns(\"incidents\")"
   ]
  },
  {
   "cell_type": "markdown",
   "id": "2f4e3c70-9b3b-41e9-8534-4107a5b7f99a",
   "metadata": {},
   "source": [
    "#### Causes according the pedestrian - Causes a causa del vianant\n",
    "\n",
    "Anàlisis de les principals causes a causa del vianant.\n",
    "Creem un llistat amb les causes i el nombre de vegades"
   ]
  },
  {
   "cell_type": "code",
   "execution_count": 9,
   "id": "ec0899df-6bbf-418f-abf7-179c2b889723",
   "metadata": {},
   "outputs": [],
   "source": [
    "causes = (df_gu_incidents.select(\"Descripcio_causa_vianant\")\n",
    "          .rdd.map(lambda row: row[\"Descripcio_causa_vianant\"])\n",
    "          .map(lambda x: (x, 1))\n",
    "          .reduceByKey(lambda a,b: a+b))"
   ]
  },
  {
   "cell_type": "code",
   "execution_count": 10,
   "id": "2160a5dd-f7c6-40ac-9363-76ade0f92c4b",
   "metadata": {},
   "outputs": [
    {
     "data": {
      "text/plain": [
       "[('No és causa del  vianant', 7249),\n",
       " ('Creuar per fora pas de vianants', 147),\n",
       " ('Altres', 92),\n",
       " ('Desobeir el senyal del semàfor', 181),\n",
       " ('Transitar a peu per la calçada', 48),\n",
       " ('Desobeir altres senyals', 7)]"
      ]
     },
     "execution_count": 10,
     "metadata": {},
     "output_type": "execute_result"
    }
   ],
   "source": [
    "causes.take(20)"
   ]
  },
  {
   "cell_type": "markdown",
   "id": "e1d7410d-e042-4cc9-8011-860e1077c3c5",
   "metadata": {},
   "source": [
    "Podem aconseguir el mateix fent servir DataFrame API enlloc de RDD"
   ]
  },
  {
   "cell_type": "code",
   "execution_count": 11,
   "id": "4eb41e40-b718-4891-90c1-fd00ac10ebe4",
   "metadata": {},
   "outputs": [],
   "source": [
    "causes = df_gu_incidents.groupBy(\"Descripcio_causa_vianant\").count()"
   ]
  },
  {
   "cell_type": "code",
   "execution_count": 12,
   "id": "409f225c-9645-4453-b1df-0d3a74ba3518",
   "metadata": {},
   "outputs": [
    {
     "name": "stdout",
     "output_type": "stream",
     "text": [
      "+-------------------------------+-----+\n",
      "|Descripcio_causa_vianant       |count|\n",
      "+-------------------------------+-----+\n",
      "|No és causa del  vianant       |7249 |\n",
      "|Desobeir el senyal del semàfor |181  |\n",
      "|Creuar per fora pas de vianants|147  |\n",
      "|Altres                         |92   |\n",
      "|Transitar a peu per la calçada |48   |\n",
      "|Desobeir altres senyals        |7    |\n",
      "+-------------------------------+-----+\n",
      "\n"
     ]
    }
   ],
   "source": [
    "causes.orderBy(\"count\", ascending=False).show(truncate=False)"
   ]
  },
  {
   "cell_type": "code",
   "execution_count": 13,
   "id": "0d8539ff-ec16-4856-9083-efff930c84da",
   "metadata": {},
   "outputs": [
    {
     "data": {
      "text/plain": [
       "[('No és causa del  vianant', 7249),\n",
       " ('Desobeir el senyal del semàfor', 181),\n",
       " ('Creuar per fora pas de vianants', 147),\n",
       " ('Altres', 92),\n",
       " ('Transitar a peu per la calçada', 48),\n",
       " ('Desobeir altres senyals', 7)]"
      ]
     },
     "execution_count": 13,
     "metadata": {},
     "output_type": "execute_result"
    }
   ],
   "source": [
    "causes_list = [(row['Descripcio_causa_vianant'], row['count']) for row in causes.orderBy(\"count\", ascending=False).collect()]\n",
    "causes_list"
   ]
  },
  {
   "cell_type": "code",
   "execution_count": 14,
   "id": "33bdd095-158c-4cba-9dd2-5b5c5941ed98",
   "metadata": {},
   "outputs": [],
   "source": [
    "percent_no_causa_vianant = 100 * causes_list[0][1] / df_gu_incidents.count()"
   ]
  },
  {
   "cell_type": "code",
   "execution_count": 15,
   "id": "f95b79c5-2fed-4afb-bd2a-9566d1e68a4c",
   "metadata": {},
   "outputs": [
    {
     "data": {
      "text/plain": [
       "93.8503366131538"
      ]
     },
     "execution_count": 15,
     "metadata": {},
     "output_type": "execute_result"
    }
   ],
   "source": [
    "percent_no_causa_vianant"
   ]
  },
  {
   "cell_type": "markdown",
   "id": "850f80cf-5aa0-4a46-bd59-cb19769d1738",
   "metadata": {},
   "source": [
    "El 93.85% dels accidents de l'any 2023 no són causa del vianant. De la resta que si ho són, la principal causa ha estat desobeïr el senyal del semàfor, seguida per creuar fora del pas de vianants."
   ]
  },
  {
   "cell_type": "markdown",
   "id": "fb968646",
   "metadata": {},
   "source": [
    "### df_gu_incidents_type"
   ]
  },
  {
   "cell_type": "code",
   "execution_count": 16,
   "id": "2b3107ac",
   "metadata": {},
   "outputs": [
    {
     "name": "stdout",
     "output_type": "stream",
     "text": [
      "+----------------+--------------+-------------+----------+----------+-----------+--------------------------------------------------+----------+----------------------+------+-------+--------+-------+--------+---------------+-------------------------+---------------------+---------------------+--------------+-------------+\n",
      "|Numero_expedient|Codi_districte|Nom_districte|Codi_barri|Nom_barri |Codi_carrer|Nom_carrer                                        |Num_postal|Descripcio_dia_setmana|NK_Any|Mes_any|Nom_mes |Dia_mes|Hora_dia|Descripcio_torn|Descripcio_tipus_accident|Coordenada_UTM_X_ED50|Coordenada_UTM_Y_ED50|Longitud_WGS84|Latitud_WGS84|\n",
      "+----------------+--------------+-------------+----------+----------+-----------+--------------------------------------------------+----------+----------------------+------+-------+--------+-------+--------+---------------+-------------------------+---------------------+---------------------+--------------+-------------+\n",
      "|2023S004127     |-1            |Desconegut   |-1        |Desconegut|-1         |Diagonal                                          |3-35      |Dissabte              |2023  |7      |Juliol  |8      |5       |Nit            |Abast                    |434602.66            |4584822.12           |2.216403377   |41.410440789 |\n",
      "|2023S003871     |-1            |Desconegut   |-1        |Desconegut|-1         |Colom / Portal de la Pau                          |NULL      |Dimarts               |2023  |6      |Juny    |27     |19      |Tarda          |Abast                    |431358,53            |4581040,46           |2.178020316   |41.376109822 |\n",
      "|2023S005242     |-1            |Desconegut   |-1        |Desconegut|-1         |Numància                                          |2         |Dilluns               |2023  |9      |Setembre|4      |12      |Matí           |Col.lisió lateral        |428310.7             |4581655.17           |2.141503645   |41.381380404 |\n",
      "|2023S005352     |-1            |Desconegut   |-1        |Desconegut|-1         |Aigües                                            |385       |Dissabte              |2023  |9      |Setembre|9      |16      |Tarda          |Desconegut               |427768.19            |4586162.33           |2.134478091   |41.421926017 |\n",
      "|2023S007652     |-1            |Desconegut   |-1        |Desconegut|-1         |Diagonal                                          |620       |Diumenge              |2023  |12     |Desembre|24     |15      |Tarda          |Atropellament            |428251.59            |4582854.69           |2.140654653   |41.392178767 |\n",
      "+----------------+--------------+-------------+----------+----------+-----------+--------------------------------------------------+----------+----------------------+------+-------+--------+-------+--------+---------------+-------------------------+---------------------+---------------------+--------------+-------------+\n",
      "only showing top 5 rows\n",
      "\n"
     ]
    },
    {
     "data": {
      "text/plain": [
       "7823"
      ]
     },
     "execution_count": 16,
     "metadata": {},
     "output_type": "execute_result"
    }
   ],
   "source": [
    "df_gu_incidents_type.show(5, truncate=False)\n",
    "df_gu_incidents_type.count()"
   ]
  },
  {
   "cell_type": "code",
   "execution_count": 18,
   "id": "64136792",
   "metadata": {},
   "outputs": [
    {
     "name": "stdout",
     "output_type": "stream",
     "text": [
      "+----------------------------------+-----+\n",
      "|Descripcio_tipus_accident         |count|\n",
      "+----------------------------------+-----+\n",
      "|Col.lisió lateral                 |1812 |\n",
      "|Abast                             |1638 |\n",
      "|Col.lisió fronto-lateral          |1234 |\n",
      "|Atropellament                     |927  |\n",
      "|Xoc contra element estàtic        |653  |\n",
      "|Caiguda (dues rodes)              |580  |\n",
      "|Caiguda interior vehicle          |367  |\n",
      "|Abast multiple                    |209  |\n",
      "|Altres                            |181  |\n",
      "|Col.lisió frontal                 |143  |\n",
      "|Encalç                            |26   |\n",
      "|Desconegut                        |19   |\n",
      "|Xoc amb animal a la calçada       |13   |\n",
      "|Sortida de via amb xoc o col.lisió|12   |\n",
      "|Bolcada (més de dues rodes)       |7    |\n",
      "|Sortida de via amb bolcada        |2    |\n",
      "+----------------------------------+-----+\n",
      "\n"
     ]
    }
   ],
   "source": [
    "causes_type = df_gu_incidents_type.groupBy(\"Descripcio_tipus_accident\").count()\n",
    "causes_type.orderBy(\"count\", ascending=False).show(truncate=False)"
   ]
  },
  {
   "cell_type": "markdown",
   "id": "2b0d3dea",
   "metadata": {},
   "source": [
    "Les col·lisions per **abast** es produeixen si dos vehicles topen de manera que la part anterior de l’un impacta contra la part posterior de l’altre. Quan hi ha més de dos vehicles implicats es parla d’abast múltiple.\n",
    "\n",
    "col·lisió per **encalç**: Col·lisió en què la part frontal d'un vehicle xoca amb la part posterior d'un altre vehicle.\n",
    "\n",
    "Abast i encalç són el mateix.\n"
   ]
  },
  {
   "cell_type": "code",
   "execution_count": 20,
   "id": "ef9cfa44",
   "metadata": {},
   "outputs": [
    {
     "data": {
      "text/plain": [
       "[('Col.lisió lateral', 1812),\n",
       " ('Abast', 1638),\n",
       " ('Col.lisió fronto-lateral', 1234),\n",
       " ('Atropellament', 927),\n",
       " ('Xoc contra element estàtic', 653),\n",
       " ('Caiguda (dues rodes)', 580),\n",
       " ('Caiguda interior vehicle', 367),\n",
       " ('Abast multiple', 209),\n",
       " ('Altres', 181),\n",
       " ('Col.lisió frontal', 143),\n",
       " ('Encalç', 26),\n",
       " ('Desconegut', 19),\n",
       " ('Xoc amb animal a la calçada', 13),\n",
       " ('Sortida de via amb xoc o col.lisió', 12),\n",
       " ('Bolcada (més de dues rodes)', 7),\n",
       " ('Sortida de via amb bolcada', 2)]"
      ]
     },
     "execution_count": 20,
     "metadata": {},
     "output_type": "execute_result"
    }
   ],
   "source": [
    "causes_type_list = [(row['Descripcio_tipus_accident'], row['count']) for row in causes_type.orderBy(\"count\", ascending=False).collect()]\n",
    "causes_type_list"
   ]
  },
  {
   "cell_type": "markdown",
   "id": "4327da56",
   "metadata": {},
   "source": [
    "### df_gu_incidents_vehicle"
   ]
  },
  {
   "cell_type": "code",
   "execution_count": 21,
   "id": "a81c1cbe",
   "metadata": {},
   "outputs": [
    {
     "name": "stdout",
     "output_type": "stream",
     "text": [
      "+----------------+--------------+-------------+----------+----------+-----------+--------------------------------------------------+----------+----------------------+------+-------+-------+-------+--------+---------------+------------------------+------------------------+----------------+----------------+----------------+-----------------+-----------------+---------------------+---------------------+--------------+-------------+\n",
      "|Numero_expedient|Codi_districte|Nom_districte|Codi_barri|Nom_barri |Codi_carrer|Nom_carrer                                        |Num_postal|Descripcio_dia_setmana|NK_Any|Mes_any|Nom_mes|Dia_mes|Hora_dia|Descripcio_torn|Descripcio_causa_vianant|Descripcio_tipus_vehicle|Descripcio_model|Descripcio_marca|Descripcio_color|Descripcio_carnet|Antiguitat_carnet|Coordenada_UTM_X_ED50|Coordenada_UTM_Y_ED50|Longitud_WGS84|Latitud_WGS84|\n",
      "+----------------+--------------+-------------+----------+----------+-----------+--------------------------------------------------+----------+----------------------+------+-------+-------+-------+--------+---------------+------------------------+------------------------+----------------+----------------+----------------+-----------------+-----------------+---------------------+---------------------+--------------+-------------+\n",
      "|2023S000536     |-1            |Desconegut   |-1        |Desconegut|-1         |Motors / Acer                                     |NULL      |Dijous                |2023  |1      |Gener  |26     |14      |Tarda          |No és causa del  vianant|Turisme                 |ASTRA           |OPEL            |granate         |Desconegut       |Desconegut       |428118.93            |4578054.77           |2.139637367   |41.348935697 |\n",
      "|2023S000506     |-1            |Desconegut   |-1        |Desconegut|-1         |Motors                                            |152-154   |Dijous                |2023  |1      |Gener  |26     |15      |Tarda          |No és causa del  vianant|Motocicleta             |FSH125          |HONDA           |Gris            |B                |11               |428888.97            |4578390.79           |2.148801757   |41.352030518 |\n",
      "|2023S000506     |-1            |Desconegut   |-1        |Desconegut|-1         |NULL                                              |NULL      |Dijous                |2023  |1      |Gener  |26     |15      |Tarda          |No és causa del  vianant|Turisme                 |XCEED           |KIA             |Blanc           |B                |39               |428888.97            |4578390.79           |2.148801757   |41.352030518 |\n",
      "|2023S001678     |-1            |Desconegut   |-1        |Desconegut|-1         |Corts / Arístides Maillol                         |NULL      |Dijous                |2023  |3      |Març   |23     |14      |Tarda          |No és causa del  vianant|Autobús                 |LION'S CITY G   |MAN             |Vermell         |D                |17               |426626.85            |4581292.09           |2.121411776   |41.377958412 |\n",
      "|2023S002486     |-1            |Desconegut   |-1        |Desconegut|-1         |Glòries Catalanes                                 |1         |Dijous                |2023  |4      |Abril  |27     |20      |Tarda          |No és causa del  vianant|Autobús articulat       |HYBRID H18      |SOLARIS         |Vermell         |E D              |26               |432052.4             |4583910.53           |2.185995092   |41.402018695 |\n",
      "+----------------+--------------+-------------+----------+----------+-----------+--------------------------------------------------+----------+----------------------+------+-------+-------+-------+--------+---------------+------------------------+------------------------+----------------+----------------+----------------+-----------------+-----------------+---------------------+---------------------+--------------+-------------+\n",
      "only showing top 5 rows\n",
      "\n"
     ]
    },
    {
     "name": "stderr",
     "output_type": "stream",
     "text": [
      "24/04/30 18:48:53 WARN SparkStringUtils: Truncated the string representation of a plan since it was too large. This behavior can be adjusted by setting 'spark.sql.debug.maxToStringFields'.\n"
     ]
    },
    {
     "data": {
      "text/plain": [
       "14361"
      ]
     },
     "execution_count": 21,
     "metadata": {},
     "output_type": "execute_result"
    }
   ],
   "source": [
    "df_gu_incidents_vehicle.show(5, truncate=False)\n",
    "df_gu_incidents_vehicle.count()"
   ]
  },
  {
   "cell_type": "code",
   "execution_count": 22,
   "id": "6b955542",
   "metadata": {},
   "outputs": [
    {
     "name": "stdout",
     "output_type": "stream",
     "text": [
      "+-------------------------------+-----+\n",
      "|Descripcio_causa_vianant       |count|\n",
      "+-------------------------------+-----+\n",
      "|No és causa del  vianant       |13843|\n",
      "|Desobeir el senyal del semàfor |192  |\n",
      "|Creuar per fora pas de vianants|160  |\n",
      "|Altres                         |102  |\n",
      "|Transitar a peu per la calçada |52   |\n",
      "|Desobeir altres senyals        |12   |\n",
      "+-------------------------------+-----+\n",
      "\n"
     ]
    }
   ],
   "source": [
    "causes_vehicle_type = df_gu_incidents_vehicle.groupBy(\"Descripcio_causa_vianant\").count()\n",
    "causes_vehicle_type.orderBy(\"count\", ascending=False).show(truncate=False)"
   ]
  },
  {
   "cell_type": "code",
   "execution_count": 31,
   "id": "f4cf4961",
   "metadata": {},
   "outputs": [
    {
     "name": "stdout",
     "output_type": "stream",
     "text": [
      "+-----------------------------------+-----+\n",
      "|Descripcio_tipus_vehicle           |count|\n",
      "+-----------------------------------+-----+\n",
      "|Turisme                            |5364 |\n",
      "|Motocicleta                        |4340 |\n",
      "|Furgoneta                          |984  |\n",
      "|Veh. mobilitat personal amb motor  |772  |\n",
      "|Bicicleta                          |724  |\n",
      "|Autobús                            |476  |\n",
      "|Taxi                               |402  |\n",
      "|Ciclomotor                         |383  |\n",
      "|Camió rígid <= 3,5 tones           |199  |\n",
      "|Camió rígid > 3,5 tones            |163  |\n",
      "|Autobús articulat                  |163  |\n",
      "|Tot terreny                        |132  |\n",
      "|Desconegut                         |56   |\n",
      "|Tractor camió                      |49   |\n",
      "|Ambulància                         |31   |\n",
      "|Altres vehicles amb motor          |29   |\n",
      "|Maquinària d'obres i serveis       |23   |\n",
      "|Veh. mobilitat personal sense motor|18   |\n",
      "|Tren o tramvia                     |14   |\n",
      "|Tricicle                           |8    |\n",
      "|Autocaravana                       |8    |\n",
      "|Autocar                            |7    |\n",
      "|Quadricicle < 75 cc                |6    |\n",
      "|NULL                               |4    |\n",
      "|Pick-up                            |3    |\n",
      "|Altres vehicles sense motor        |2    |\n",
      "|Quadricicle > 75 cc                |1    |\n",
      "+-----------------------------------+-----+\n",
      "\n"
     ]
    }
   ],
   "source": [
    "causes_vehicle_type = df_gu_incidents_vehicle.groupBy(\"Descripcio_tipus_vehicle\").count()\n",
    "causes_vehicle_type.orderBy(\"count\", ascending=False).show(35, truncate=False)"
   ]
  },
  {
   "cell_type": "code",
   "execution_count": 33,
   "id": "b1c04420",
   "metadata": {},
   "outputs": [
    {
     "name": "stdout",
     "output_type": "stream",
     "text": [
      "+-----------------+-----+\n",
      "|Antiguitat_carnet|count|\n",
      "+-----------------+-----+\n",
      "|Desconegut       |2873 |\n",
      "|2                |549  |\n",
      "|1                |543  |\n",
      "|5                |445  |\n",
      "|4                |419  |\n",
      "|3                |384  |\n",
      "|6                |379  |\n",
      "|7                |378  |\n",
      "|15               |368  |\n",
      "|16               |335  |\n",
      "|8                |320  |\n",
      "|14               |318  |\n",
      "|17               |315  |\n",
      "|9                |313  |\n",
      "|18               |309  |\n",
      "|13               |304  |\n",
      "|12               |290  |\n",
      "|11               |285  |\n",
      "|19               |284  |\n",
      "|10               |282  |\n",
      "|20               |265  |\n",
      "|21               |222  |\n",
      "|28               |215  |\n",
      "|27               |209  |\n",
      "|31               |205  |\n",
      "|30               |203  |\n",
      "|34               |197  |\n",
      "|29               |194  |\n",
      "|32               |194  |\n",
      "|33               |186  |\n",
      "|36               |186  |\n",
      "|26               |170  |\n",
      "|35               |166  |\n",
      "|22               |165  |\n",
      "|25               |158  |\n",
      "|23               |152  |\n",
      "|24               |146  |\n",
      "|37               |140  |\n",
      "|38               |134  |\n",
      "|39               |119  |\n",
      "+-----------------+-----+\n",
      "only showing top 40 rows\n",
      "\n"
     ]
    }
   ],
   "source": [
    "causes_vehicle_type = df_gu_incidents_vehicle.groupBy(\"Antiguitat_carnet\").count()\n",
    "causes_vehicle_type.orderBy(\"count\", ascending=False).show(40, truncate=False)"
   ]
  },
  {
   "cell_type": "code",
   "execution_count": null,
   "id": "9175f9d5",
   "metadata": {},
   "outputs": [],
   "source": []
  },
  {
   "cell_type": "markdown",
   "id": "6659f4da-4671-44c0-a6f8-823ed6bfb847",
   "metadata": {},
   "source": []
  }
 ],
 "metadata": {
  "kernelspec": {
   "display_name": "Python 3 (ipykernel)",
   "language": "python",
   "name": "python3"
  },
  "language_info": {
   "codemirror_mode": {
    "name": "ipython",
    "version": 3
   },
   "file_extension": ".py",
   "mimetype": "text/x-python",
   "name": "python",
   "nbconvert_exporter": "python",
   "pygments_lexer": "ipython3",
   "version": "3.11.7"
  }
 },
 "nbformat": 4,
 "nbformat_minor": 5
}
