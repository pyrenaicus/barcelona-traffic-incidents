{
 "cells": [
  {
   "cell_type": "raw",
   "id": "3180c059-c8a2-40bf-82b5-d0f865c1f688",
   "metadata": {},
   "source": []
  },
  {
   "cell_type": "markdown",
   "id": "79dd09ab-299e-43fe-aa40-f112a8a44052",
   "metadata": {},
   "source": [
    "## initialize Spark\n",
    "\n",
    "We will use local mode, where all the processing is done on a single machine. In case you need to install Apache Spark, there are two options, either go to the [Spark download page](https://spark.apache.org/downloads.html) and choose \"Pre-built for Apache Hadoop 3.3 and later\", or, install only PySpark Python library and its dependencies running `pip install pyspark[sql, ml, mllib]`.\n",
    "\n",
    "You will also need to have Java 8 or later installed in your system."
   ]
  },
  {
   "cell_type": "code",
   "execution_count": 1,
   "id": "07f479f7-c47d-4734-b15a-da7ca7aa4692",
   "metadata": {},
   "outputs": [
    {
     "name": "stderr",
     "output_type": "stream",
     "text": [
      "24/04/30 17:42:04 WARN Utils: Your hostname, Paus-MacBook-Air.local resolves to a loopback address: 127.0.0.1; using 192.168.1.130 instead (on interface en0)\n",
      "24/04/30 17:42:04 WARN Utils: Set SPARK_LOCAL_IP if you need to bind to another address\n",
      "Setting default log level to \"WARN\".\n",
      "To adjust logging level use sc.setLogLevel(newLevel). For SparkR, use setLogLevel(newLevel).\n",
      "24/04/30 17:42:04 WARN NativeCodeLoader: Unable to load native-hadoop library for your platform... using builtin-java classes where applicable\n"
     ]
    }
   ],
   "source": [
    "# The purpose of findspark is to make it easier to find and use Spark from Python,\n",
    "# especially if you have not set the SPARK_HOME environment variable or\n",
    "# if your Spark and PySpark setup is not in your system's PATH.\n",
    "# If pyspark was NOT installed with pip, uncomment the next two lines\n",
    "#import findspark\n",
    "#findspark.init()\n",
    "\n",
    "from pyspark.sql import SparkSession\n",
    "# initialize allocating 4 cores to Spark, my machine has 8\n",
    "spark = SparkSession.builder \\\n",
    "    .appName(\"bcn_traffic_incidents\") \\\n",
    "    .master(\"local[4]\") \\\n",
    "    .getOrCreate()"
   ]
  },
  {
   "cell_type": "code",
   "execution_count": 2,
   "id": "e0fa3481-e24d-40f8-bad2-dda74bb95ded",
   "metadata": {},
   "outputs": [],
   "source": [
    "# spark.stop()"
   ]
  },
  {
   "cell_type": "markdown",
   "id": "d58ed7b4-14b7-4f32-8e0a-c53bb5ce5483",
   "metadata": {},
   "source": [
    "## load datasets as DataFrames and create temporary views\n",
    "\n",
    "- df_incidents\n",
    "- df_incidents_type\n",
    "- df_incidents_vehicle\n",
    "- df_incidents_person\n",
    "- df_incidents_cause\n",
    "- df_incidents_driver\n",
    "\n",
    "Read the data into a DataFrame and register each DataFrame as a temporary view so we can query it with SQL\n",
    "\n",
    "Temporary views:\n",
    "\n",
    "- incidents\n",
    "- incidents_type\n",
    "- incidents_vehicle\n",
    "- incidents_person\n",
    "- incidents_cause\n",
    "- incidents_driver\n",
    "\n",
    "  "
   ]
  },
  {
   "cell_type": "code",
   "execution_count": 2,
   "id": "ada4f7e4-d9e4-40e7-ac53-fa54e80db101",
   "metadata": {},
   "outputs": [],
   "source": [
    "incidents_file_path = \"../data/2023_accidents_gu_bcn.csv\"\n",
    "incidents_type_file_path = \"../data/2023_accidents_tipus_gu_bcn.csv\"\n",
    "incidents_vehicle_file_path = \"../data/2023_accidents_vehicles_gu_bcn.csv\"\n",
    "incidents_person_file_path = \"../data/2023_accidents_persones_gu_bcn.csv\"\n",
    "incidents_cause_file_path = \"../data/2023_accidents_causes_gu_bcn.csv\"\n",
    "incidentsdriver_file_path = \"../data/2023_accidents_causa_conductor_gu_bcn.csv\"\n",
    "\n",
    "df_incidents = (spark.read.format(\"csv\")\n",
    "    .option(\"inferSchema\", \"true\")\n",
    "    .option(\"header\", \"true\")\n",
    "    .option(\"mode\", \"FAILFAST\") # exit if any error\n",
    "    .option(\"nullValue\", \"\") # replace any null data field with empty quotes\n",
    "    .load(incidents_file_path))\n",
    "df_incidents.createOrReplaceTempView(\"incidents\")\n",
    "\n",
    "df_incidents_type = (spark.read.format(\"csv\")\n",
    "    .option(\"inferSchema\", \"true\")\n",
    "    .option(\"header\", \"true\")\n",
    "    .option(\"mode\", \"FAILFAST\") # exit if any error\n",
    "    .option(\"nullValue\", \"\") # replace any null data field with empty quotes\n",
    "    .load(incidents_type_file_path))\n",
    "df_incidents.createOrReplaceTempView(\"incidents_type\")\n",
    "\n",
    "df_incidents_vehicle = (spark.read.format(\"csv\")\n",
    "    .option(\"inferSchema\", \"true\")\n",
    "    .option(\"header\", \"true\")\n",
    "    .option(\"mode\", \"FAILFAST\") # exit if any error\n",
    "    .option(\"nullValue\", \"\") # replace any null data field with empty quotes\n",
    "    .load(incidents_vehicle_file_path))\n",
    "df_incidents.createOrReplaceTempView(\"incidents_vehicle\")\n",
    "\n",
    "df_incidents_person = (spark.read.format(\"csv\")\n",
    "    .option(\"inferSchema\", \"true\")\n",
    "    .option(\"header\", \"true\")\n",
    "    .option(\"mode\", \"FAILFAST\") # exit if any error\n",
    "    .option(\"nullValue\", \"\") # replace any null data field with empty quotes\n",
    "    .load(incidents_person_file_path))\n",
    "df_incidents.createOrReplaceTempView(\"incidents_person\")\n",
    "\n",
    "df_incidents_cause = (spark.read.format(\"csv\")\n",
    "    .option(\"inferSchema\", \"true\")\n",
    "    .option(\"header\", \"true\")\n",
    "    .option(\"mode\", \"FAILFAST\") # exit if any error\n",
    "    .option(\"nullValue\", \"\") # replace any null data field with empty quotes\n",
    "    .load(incidents_cause_file_path))\n",
    "df_incidents.createOrReplaceTempView(\"incidents_cause\")\n",
    "\n",
    "df_incidents_driver = (spark.read.format(\"csv\")\n",
    "    .option(\"inferSchema\", \"true\")\n",
    "    .option(\"header\", \"true\")\n",
    "    .option(\"mode\", \"FAILFAST\") # exit if any error\n",
    "    .option(\"nullValue\", \"\") # replace any null data field with empty quotes\n",
    "    .load(incidentsdriver_file_path))\n",
    "df_incidents.createOrReplaceTempView(\"incidents_driver\")\n"
   ]
  },
  {
   "cell_type": "markdown",
   "id": "0179674f-0292-462c-9fa8-ccd05b56ef62",
   "metadata": {},
   "source": [
    "## Data exploration\n",
    "\n"
   ]
  },
  {
   "cell_type": "markdown",
   "id": "e5228c3e-a8e0-4fd2-8080-bd99c3b1d92a",
   "metadata": {},
   "source": [
    "### df_incidents"
   ]
  },
  {
   "cell_type": "code",
   "execution_count": 3,
   "id": "a17455ed-5e10-475c-9c1d-8bf8da99774b",
   "metadata": {},
   "outputs": [
    {
     "name": "stdout",
     "output_type": "stream",
     "text": [
      "root\n",
      " |-- Numero_expedient: string (nullable = true)\n",
      " |-- Codi_districte: integer (nullable = true)\n",
      " |-- Nom_districte: string (nullable = true)\n",
      " |-- Codi_barri: integer (nullable = true)\n",
      " |-- Nom_barri: string (nullable = true)\n",
      " |-- Codi_carrer: integer (nullable = true)\n",
      " |-- Nom_carrer: string (nullable = true)\n",
      " |-- Num_postal : string (nullable = true)\n",
      " |-- Descripcio_dia_setmana: string (nullable = true)\n",
      " |-- NK_Any: integer (nullable = true)\n",
      " |-- Mes_any: integer (nullable = true)\n",
      " |-- Nom_mes: string (nullable = true)\n",
      " |-- Dia_mes: integer (nullable = true)\n",
      " |-- Hora_dia: integer (nullable = true)\n",
      " |-- Descripcio_torn: string (nullable = true)\n",
      " |-- Descripcio_causa_vianant: string (nullable = true)\n",
      " |-- Numero_morts: integer (nullable = true)\n",
      " |-- Numero_lesionats_lleus: integer (nullable = true)\n",
      " |-- Numero_lesionats_greus: integer (nullable = true)\n",
      " |-- Numero_victimes: integer (nullable = true)\n",
      " |-- Numero_vehicles_implicats: integer (nullable = true)\n",
      " |-- Coordenada_UTM_Y_ED50: string (nullable = true)\n",
      " |-- Coordenada_UTM_X_ED50: string (nullable = true)\n",
      " |-- Longitud_WGS84: double (nullable = true)\n",
      " |-- Latitud_WGS84: double (nullable = true)\n",
      "\n"
     ]
    }
   ],
   "source": [
    "df_incidents.printSchema()"
   ]
  },
  {
   "cell_type": "code",
   "execution_count": 4,
   "id": "f833107b-6369-48d8-af31-49d4346bc9f2",
   "metadata": {},
   "outputs": [
    {
     "name": "stdout",
     "output_type": "stream",
     "text": [
      "+----------------+--------------+--------------+----------+-----------------+-----------+--------------------+-----------+----------------------+------+-------+-------+-------+--------+---------------+------------------------+------------+----------------------+----------------------+---------------+-------------------------+---------------------+---------------------+--------------+-------------+\n",
      "|Numero_expedient|Codi_districte| Nom_districte|Codi_barri|        Nom_barri|Codi_carrer|          Nom_carrer|Num_postal |Descripcio_dia_setmana|NK_Any|Mes_any|Nom_mes|Dia_mes|Hora_dia|Descripcio_torn|Descripcio_causa_vianant|Numero_morts|Numero_lesionats_lleus|Numero_lesionats_greus|Numero_victimes|Numero_vehicles_implicats|Coordenada_UTM_Y_ED50|Coordenada_UTM_X_ED50|Longitud_WGS84|Latitud_WGS84|\n",
      "+----------------+--------------+--------------+----------+-----------------+-----------+--------------------+-----------+----------------------+------+-------+-------+-------+--------+---------------+------------------------+------------+----------------------+----------------------+---------------+-------------------------+---------------------+---------------------+--------------+-------------+\n",
      "| 2023S000001    |             3|Sants-Montjuïc|        18|            Sants|      30602|Badal / Càceres  ...|  0186 0186|              Diumenge|  2023|      1|  Gener|      1|      10|           Matí|    No és causa del  ...|           0|                     0|                     1|              1|                        1|           427409.24 |           4580907.46|   2.130813369| 41.374565193|\n",
      "| 2023S000002    |             7|Horta-Guinardó|        33| el Baix Guinardó|     109203|Encarnació       ...|  0149 0149|              Diumenge|  2023|      1|  Gener|      1|       3|            Nit|    No és causa del  ...|           0|                     0|                     0|              0|                        1|           430348.68 |           4584798.12|   2.165512751| 41.409867042|\n",
      "| 2023S000003    |             1|  Ciutat Vella|         1|         el Raval|      67307|Carme            ...|  0075 0079|              Diumenge|  2023|      1|  Gener|      1|       3|            Nit|    Creuar per fora p...|           0|                     1|                     0|              1|                        1|           430479.42 |           4581533.3 |   2.167451891| 41.380473178|\n",
      "| 2023S000005    |             6|        Gràcia|        31|la Vila de Gràcia|     282401|Riera de Sant Miq...|  0017 0017|              Diumenge|  2023|      1|  Gener|      1|      17|          Tarda|    No és causa del  ...|           0|                     1|                     0|              1|                        2|           429637.2  |           4583426.13|   2.157160502| 41.397448015|\n",
      "| 2023S000006    |             6|        Gràcia|        31|la Vila de Gràcia|     206403|Gran de Gràcia / ...|  0072 0072|              Diumenge|  2023|      1|  Gener|      1|      17|          Tarda|    No és causa del  ...|           0|                     1|                     0|              1|                        2|           429497.51 |           4583693.13|   2.155458526| 41.399840547|\n",
      "+----------------+--------------+--------------+----------+-----------------+-----------+--------------------+-----------+----------------------+------+-------+-------+-------+--------+---------------+------------------------+------------+----------------------+----------------------+---------------+-------------------------+---------------------+---------------------+--------------+-------------+\n",
      "only showing top 5 rows\n",
      "\n"
     ]
    },
    {
     "data": {
      "text/plain": [
       "7724"
      ]
     },
     "execution_count": 4,
     "metadata": {},
     "output_type": "execute_result"
    }
   ],
   "source": [
    "df_incidents.show(5)\n",
    "df_incidents.count()"
   ]
  },
  {
   "cell_type": "code",
   "execution_count": 5,
   "id": "1ad7ab31-6c58-4ae9-b26f-b8d345cdc2d1",
   "metadata": {},
   "outputs": [
    {
     "name": "stdout",
     "output_type": "stream",
     "text": [
      "+--------------------+-------+------------+-------------------------+------------------------+\n",
      "|          Nom_carrer|Dia_mes|Numero_morts|Numero_vehicles_implicats|Descripcio_causa_vianant|\n",
      "+--------------------+-------+------------+-------------------------+------------------------+\n",
      "|Verdi            ...|      2|           1|                        1|    No és causa del  ...|\n",
      "|Aragó / Comte d'U...|     11|           1|                        2|    No és causa del  ...|\n",
      "|Agudes           ...|     23|           1|                        2|    No és causa del  ...|\n",
      "|Mig (Ascendent)  ...|     24|           1|                        1|    No és causa del  ...|\n",
      "|Meridiana        ...|     22|           1|                        3|    No és causa del  ...|\n",
      "|Catalunya        ...|     26|           1|                        2|    No és causa del  ...|\n",
      "|Mare de Déu de Mo...|     28|           1|                        2|    No és causa del  ...|\n",
      "|Sant Antoni Maria...|     26|           1|                        1|    No és causa del  ...|\n",
      "|Diagonal         ...|     31|           1|                        1|    Desobeir el senya...|\n",
      "|Riera de Cassoles...|      1|           1|                        1|    Desobeir el senya...|\n",
      "+--------------------+-------+------------+-------------------------+------------------------+\n",
      "only showing top 10 rows\n",
      "\n"
     ]
    }
   ],
   "source": [
    "spark.sql(\n",
    "    \"\"\"\n",
    "    SELECT Nom_carrer, Dia_mes, Numero_morts, Numero_vehicles_implicats, Descripcio_causa_vianant\n",
    "    FROM incidents WHERE Numero_morts > 0\n",
    "    ORDER BY Numero_morts DESC\n",
    "    \"\"\"\n",
    ").show(10)"
   ]
  },
  {
   "cell_type": "code",
   "execution_count": 6,
   "id": "469c321d-cb32-48cd-a0c6-298100fc503a",
   "metadata": {},
   "outputs": [
    {
     "name": "stdout",
     "output_type": "stream",
     "text": [
      "+--------------------+-------+------------+-------------------------+------------------------+-----------+\n",
      "|          Nom_carrer|Dia_mes|Numero_morts|Numero_vehicles_implicats|Descripcio_causa_vianant|Num_postal |\n",
      "+--------------------+-------+------------+-------------------------+------------------------+-----------+\n",
      "|Aragó / Comte d'U...|     11|           1|                        2|    No és causa del  ...|  0113 0113|\n",
      "|Guinardó / Telègr...|     19|           1|                        2|    No és causa del  ...|  0030 0030|\n",
      "|Agudes           ...|     23|           1|                        2|    No és causa del  ...|  0060 0082|\n",
      "|Mare de Déu de Mo...|     28|           1|                        2|    No és causa del  ...|  0039 0041|\n",
      "|Sant Antoni Maria...|     26|           1|                        1|    No és causa del  ...|  0268 0268|\n",
      "|Verdi            ...|      2|           1|                        1|    No és causa del  ...|  0103 0103|\n",
      "|Diagonal         ...|     31|           1|                        1|    Desobeir el senya...|  0008 0008|\n",
      "|Meridiana        ...|     22|           1|                        3|    No és causa del  ...| 0320B0320B|\n",
      "|Riera de Cassoles...|      1|           1|                        1|    Desobeir el senya...|  0008 0008|\n",
      "|Corts Catalanes /...|      9|           1|                        1|    No és causa del  ...|  0083 0089|\n",
      "+--------------------+-------+------------+-------------------------+------------------------+-----------+\n",
      "only showing top 10 rows\n",
      "\n"
     ]
    }
   ],
   "source": [
    "# We could do the same query with the DataFram API\n",
    "from pyspark.sql.functions import col, desc\n",
    "(df_incidents.select(\"Nom_carrer\", \"Dia_mes\", \"Numero_morts\", \"Numero_vehicles_implicats\", \"Descripcio_causa_vianant\", \"Num_postal \")\n",
    "#     .where(col(\"Num_postal \") IS NULL)\n",
    "     .orderBy(\"Numero_morts\", ascending=False).show(10))"
   ]
  },
  {
   "cell_type": "code",
   "execution_count": 8,
   "id": "a46303ed-e015-41fe-b722-76b5e2a7742e",
   "metadata": {},
   "outputs": [],
   "source": [
    "#df_incidents_type.show(5)\n"
   ]
  },
  {
   "cell_type": "code",
   "execution_count": 21,
   "id": "889aca19-9785-4d28-869a-0b13057fa6bf",
   "metadata": {},
   "outputs": [
    {
     "data": {
      "text/plain": [
       "[Database(name='default', catalog='spark_catalog', description='default database', locationUri='file:/Users/pau/coding-projects/ita-barcelona-traffic-incidents/notebook/spark-warehouse')]"
      ]
     },
     "execution_count": 21,
     "metadata": {},
     "output_type": "execute_result"
    }
   ],
   "source": [
    "spark.catalog.listDatabases()"
   ]
  },
  {
   "cell_type": "code",
   "execution_count": 25,
   "id": "90b09172-8de3-4c21-bd35-be55ecb6a312",
   "metadata": {},
   "outputs": [],
   "source": [
    "#spark.catalog.listTables()"
   ]
  },
  {
   "cell_type": "code",
   "execution_count": 24,
   "id": "963ece60-42f6-4ccb-83b4-02052eea74d0",
   "metadata": {},
   "outputs": [],
   "source": [
    "#spark.catalog.listColumns(\"incidents\")"
   ]
  },
  {
   "cell_type": "markdown",
   "id": "2f4e3c70-9b3b-41e9-8534-4107a5b7f99a",
   "metadata": {},
   "source": [
    "#### Causes according the pedestrian - Causes a causa del vianant\n",
    "\n",
    "Anàlisis de les principals causes a causa del vianant.\n",
    "Creem un llistat amb les causes i el nombre de vegades"
   ]
  },
  {
   "cell_type": "code",
   "execution_count": 9,
   "id": "ec0899df-6bbf-418f-abf7-179c2b889723",
   "metadata": {},
   "outputs": [],
   "source": [
    "causes = (df_incidents.select(\"Descripcio_causa_vianant\")\n",
    "          .rdd.map(lambda row: row[\"Descripcio_causa_vianant\"])\n",
    "          .map(lambda x: (x, 1))\n",
    "          .reduceByKey(lambda a,b: a+b))"
   ]
  },
  {
   "cell_type": "code",
   "execution_count": 10,
   "id": "2160a5dd-f7c6-40ac-9363-76ade0f92c4b",
   "metadata": {},
   "outputs": [
    {
     "data": {
      "text/plain": [
       "[('No és causa del  vianant', 7249),\n",
       " ('Creuar per fora pas de vianants', 147),\n",
       " ('Altres', 92),\n",
       " ('Desobeir el senyal del semàfor', 181),\n",
       " ('Transitar a peu per la calçada', 48),\n",
       " ('Desobeir altres senyals', 7)]"
      ]
     },
     "execution_count": 10,
     "metadata": {},
     "output_type": "execute_result"
    }
   ],
   "source": [
    "causes.take(20)"
   ]
  },
  {
   "cell_type": "markdown",
   "id": "e1d7410d-e042-4cc9-8011-860e1077c3c5",
   "metadata": {},
   "source": [
    "Podem aconseguir el mateix fent servir DataFrame API enlloc de RDD"
   ]
  },
  {
   "cell_type": "code",
   "execution_count": 11,
   "id": "4eb41e40-b718-4891-90c1-fd00ac10ebe4",
   "metadata": {},
   "outputs": [],
   "source": [
    "causes = df_incidents.groupBy(\"Descripcio_causa_vianant\").count()"
   ]
  },
  {
   "cell_type": "code",
   "execution_count": 12,
   "id": "409f225c-9645-4453-b1df-0d3a74ba3518",
   "metadata": {},
   "outputs": [
    {
     "name": "stdout",
     "output_type": "stream",
     "text": [
      "+-------------------------------+-----+\n",
      "|Descripcio_causa_vianant       |count|\n",
      "+-------------------------------+-----+\n",
      "|No és causa del  vianant       |7249 |\n",
      "|Desobeir el senyal del semàfor |181  |\n",
      "|Creuar per fora pas de vianants|147  |\n",
      "|Altres                         |92   |\n",
      "|Transitar a peu per la calçada |48   |\n",
      "|Desobeir altres senyals        |7    |\n",
      "+-------------------------------+-----+\n",
      "\n"
     ]
    }
   ],
   "source": [
    "causes.orderBy(\"count\", ascending=False).show(truncate=False)"
   ]
  },
  {
   "cell_type": "code",
   "execution_count": 13,
   "id": "0d8539ff-ec16-4856-9083-efff930c84da",
   "metadata": {},
   "outputs": [
    {
     "data": {
      "text/plain": [
       "[('No és causa del  vianant', 7249),\n",
       " ('Desobeir el senyal del semàfor', 181),\n",
       " ('Creuar per fora pas de vianants', 147),\n",
       " ('Altres', 92),\n",
       " ('Transitar a peu per la calçada', 48),\n",
       " ('Desobeir altres senyals', 7)]"
      ]
     },
     "execution_count": 13,
     "metadata": {},
     "output_type": "execute_result"
    }
   ],
   "source": [
    "causes_list = [(row['Descripcio_causa_vianant'], row['count']) for row in causes.orderBy(\"count\", ascending=False).collect()]\n",
    "causes_list"
   ]
  },
  {
   "cell_type": "code",
   "execution_count": 14,
   "id": "33bdd095-158c-4cba-9dd2-5b5c5941ed98",
   "metadata": {},
   "outputs": [],
   "source": [
    "percent_no_causa_vianant = 100 * causes_list[0][1] / df_incidents.count()"
   ]
  },
  {
   "cell_type": "code",
   "execution_count": 15,
   "id": "f95b79c5-2fed-4afb-bd2a-9566d1e68a4c",
   "metadata": {},
   "outputs": [
    {
     "data": {
      "text/plain": [
       "93.8503366131538"
      ]
     },
     "execution_count": 15,
     "metadata": {},
     "output_type": "execute_result"
    }
   ],
   "source": [
    "percent_no_causa_vianant"
   ]
  },
  {
   "cell_type": "markdown",
   "id": "850f80cf-5aa0-4a46-bd59-cb19769d1738",
   "metadata": {},
   "source": [
    "El 93.85% dels accidents de l'any 2023 no són causa del vianant. De la resta que si ho són, la principal causa ha estat desobeïr el senyal del semàfor, seguida per creuar fora del pas de vianants."
   ]
  },
  {
   "cell_type": "markdown",
   "id": "fb968646",
   "metadata": {},
   "source": [
    "### df_incidents_type"
   ]
  },
  {
   "cell_type": "code",
   "execution_count": 16,
   "id": "2b3107ac",
   "metadata": {},
   "outputs": [
    {
     "name": "stdout",
     "output_type": "stream",
     "text": [
      "+----------------+--------------+-------------+----------+----------+-----------+--------------------------------------------------+----------+----------------------+------+-------+--------+-------+--------+---------------+-------------------------+---------------------+---------------------+--------------+-------------+\n",
      "|Numero_expedient|Codi_districte|Nom_districte|Codi_barri|Nom_barri |Codi_carrer|Nom_carrer                                        |Num_postal|Descripcio_dia_setmana|NK_Any|Mes_any|Nom_mes |Dia_mes|Hora_dia|Descripcio_torn|Descripcio_tipus_accident|Coordenada_UTM_X_ED50|Coordenada_UTM_Y_ED50|Longitud_WGS84|Latitud_WGS84|\n",
      "+----------------+--------------+-------------+----------+----------+-----------+--------------------------------------------------+----------+----------------------+------+-------+--------+-------+--------+---------------+-------------------------+---------------------+---------------------+--------------+-------------+\n",
      "|2023S004127     |-1            |Desconegut   |-1        |Desconegut|-1         |Diagonal                                          |3-35      |Dissabte              |2023  |7      |Juliol  |8      |5       |Nit            |Abast                    |434602.66            |4584822.12           |2.216403377   |41.410440789 |\n",
      "|2023S003871     |-1            |Desconegut   |-1        |Desconegut|-1         |Colom / Portal de la Pau                          |NULL      |Dimarts               |2023  |6      |Juny    |27     |19      |Tarda          |Abast                    |431358,53            |4581040,46           |2.178020316   |41.376109822 |\n",
      "|2023S005242     |-1            |Desconegut   |-1        |Desconegut|-1         |Numància                                          |2         |Dilluns               |2023  |9      |Setembre|4      |12      |Matí           |Col.lisió lateral        |428310.7             |4581655.17           |2.141503645   |41.381380404 |\n",
      "|2023S005352     |-1            |Desconegut   |-1        |Desconegut|-1         |Aigües                                            |385       |Dissabte              |2023  |9      |Setembre|9      |16      |Tarda          |Desconegut               |427768.19            |4586162.33           |2.134478091   |41.421926017 |\n",
      "|2023S007652     |-1            |Desconegut   |-1        |Desconegut|-1         |Diagonal                                          |620       |Diumenge              |2023  |12     |Desembre|24     |15      |Tarda          |Atropellament            |428251.59            |4582854.69           |2.140654653   |41.392178767 |\n",
      "+----------------+--------------+-------------+----------+----------+-----------+--------------------------------------------------+----------+----------------------+------+-------+--------+-------+--------+---------------+-------------------------+---------------------+---------------------+--------------+-------------+\n",
      "only showing top 5 rows\n",
      "\n"
     ]
    },
    {
     "data": {
      "text/plain": [
       "7823"
      ]
     },
     "execution_count": 16,
     "metadata": {},
     "output_type": "execute_result"
    }
   ],
   "source": [
    "df_incidents_type.show(5, truncate=False)\n",
    "df_incidents_type.count()"
   ]
  },
  {
   "cell_type": "code",
   "execution_count": 18,
   "id": "64136792",
   "metadata": {},
   "outputs": [
    {
     "name": "stdout",
     "output_type": "stream",
     "text": [
      "+----------------------------------+-----+\n",
      "|Descripcio_tipus_accident         |count|\n",
      "+----------------------------------+-----+\n",
      "|Col.lisió lateral                 |1812 |\n",
      "|Abast                             |1638 |\n",
      "|Col.lisió fronto-lateral          |1234 |\n",
      "|Atropellament                     |927  |\n",
      "|Xoc contra element estàtic        |653  |\n",
      "|Caiguda (dues rodes)              |580  |\n",
      "|Caiguda interior vehicle          |367  |\n",
      "|Abast multiple                    |209  |\n",
      "|Altres                            |181  |\n",
      "|Col.lisió frontal                 |143  |\n",
      "|Encalç                            |26   |\n",
      "|Desconegut                        |19   |\n",
      "|Xoc amb animal a la calçada       |13   |\n",
      "|Sortida de via amb xoc o col.lisió|12   |\n",
      "|Bolcada (més de dues rodes)       |7    |\n",
      "|Sortida de via amb bolcada        |2    |\n",
      "+----------------------------------+-----+\n",
      "\n"
     ]
    }
   ],
   "source": [
    "causes_type = df_incidents_type.groupBy(\"Descripcio_tipus_accident\").count()\n",
    "causes_type.orderBy(\"count\", ascending=False).show(truncate=False)"
   ]
  },
  {
   "cell_type": "markdown",
   "id": "2b0d3dea",
   "metadata": {},
   "source": [
    "Les col·lisions per **abast** es produeixen si dos vehicles topen de manera que la part anterior de l’un impacta contra la part posterior de l’altre. Quan hi ha més de dos vehicles implicats es parla d’abast múltiple.\n",
    "\n",
    "col·lisió per **encalç**: Col·lisió en què la part frontal d'un vehicle xoca amb la part posterior d'un altre vehicle.\n",
    "\n",
    "Abast i encalç són el mateix.\n"
   ]
  },
  {
   "cell_type": "code",
   "execution_count": 20,
   "id": "ef9cfa44",
   "metadata": {},
   "outputs": [
    {
     "data": {
      "text/plain": [
       "[('Col.lisió lateral', 1812),\n",
       " ('Abast', 1638),\n",
       " ('Col.lisió fronto-lateral', 1234),\n",
       " ('Atropellament', 927),\n",
       " ('Xoc contra element estàtic', 653),\n",
       " ('Caiguda (dues rodes)', 580),\n",
       " ('Caiguda interior vehicle', 367),\n",
       " ('Abast multiple', 209),\n",
       " ('Altres', 181),\n",
       " ('Col.lisió frontal', 143),\n",
       " ('Encalç', 26),\n",
       " ('Desconegut', 19),\n",
       " ('Xoc amb animal a la calçada', 13),\n",
       " ('Sortida de via amb xoc o col.lisió', 12),\n",
       " ('Bolcada (més de dues rodes)', 7),\n",
       " ('Sortida de via amb bolcada', 2)]"
      ]
     },
     "execution_count": 20,
     "metadata": {},
     "output_type": "execute_result"
    }
   ],
   "source": [
    "causes_type_list = [(row['Descripcio_tipus_accident'], row['count']) for row in causes_type.orderBy(\"count\", ascending=False).collect()]\n",
    "causes_type_list"
   ]
  },
  {
   "cell_type": "code",
   "execution_count": null,
   "id": "4327da56",
   "metadata": {},
   "outputs": [],
   "source": []
  }
 ],
 "metadata": {
  "kernelspec": {
   "display_name": "Python 3 (ipykernel)",
   "language": "python",
   "name": "python3"
  },
  "language_info": {
   "codemirror_mode": {
    "name": "ipython",
    "version": 3
   },
   "file_extension": ".py",
   "mimetype": "text/x-python",
   "name": "python",
   "nbconvert_exporter": "python",
   "pygments_lexer": "ipython3",
   "version": "3.12.1"
  }
 },
 "nbformat": 4,
 "nbformat_minor": 5
}
