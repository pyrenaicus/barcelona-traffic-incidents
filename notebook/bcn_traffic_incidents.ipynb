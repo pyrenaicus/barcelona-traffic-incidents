{
 "cells": [
  {
   "cell_type": "markdown",
   "id": "828b1920-857b-4b9a-af89-2187fec96678",
   "metadata": {},
   "source": [
    "## 1. Presentació del conjunt de dades escollit\n",
    "Dades que recullen els **accidents de tràfic a la ciutat de Barcelona**.\n",
    "\n",
    "Disposem de dades des de l’any 2010 fins a 2023 (dades mes recents) repartides en 6 conjunts de dades anuals disponibles a [Open Data BCN](https://opendata-ajuntament.barcelona.cat/ca/).\n",
    "\n",
    "Començem analitzant les dades de 2023, per després agregar les dades dels últims deu anys, i realitzar el mateix anàlisis.\n"
   ]
  },
  {
   "cell_type": "markdown",
   "id": "e1aa4ca3-85dc-48fe-9756-9e845c3aae86",
   "metadata": {},
   "source": [
    "## 2 Descripció de les dades\n",
    "Els conjunts de dades en format csv són els següents:\n",
    "\n",
    "1. Accidents gestionats per la Guàrdia Urbana a la ciutat de Barcelona\n",
    "    - Llistat dels accidents gestionats per la Guàrdia Urbana a la ciutat de Barcelona. Incorpora el número de lesionats segons gravetat, el número de vehicles implicats i el punt d'impacte.\n",
    "2. Vehicles implicats en accidents gestionats per la Guàrdia Urbana a la ciutat de Barcelona\n",
    "    - Llistat dels vehicles implicats en accidents gestionats per la Guàrdia Urbana a la ciutat de Barcelona. Un accident pot tenir associat més d’un vehicle. Inclou si la causa és del vianant, el tipus de vehicle, model, marca, color i tipus carnet i antiguitat de la persona que ho conduïa.\n",
    "3. Persones involucrades en accidents gestionats per la Guàrdia Urbana a la ciutat de Barcelona\n",
    "    - Llistat de les persones que han estat involucrades en un accident gestionats per la Guàrdia Urbana a la ciutat de Barcelona i que han sofert algun tipus de lesió ( ferit lleu, ferit greu o mort). Inclou descripció de la persona (conductor, passatger o vianant), sexe, edat, vehicle associat a la persona i si la causa ha sigut del vianant.\n",
    "4. Accidents segons tipologia gestionats per la Guàrdia Urbana a la ciutat de Barcelona\n",
    "    - Relació d'accidents segons tipologia gestionats per la Guàrdia Urbana a la ciutat de Barcelona. Un accident pot estar tipificat amb vàries tipologies ( Ex: xoc contra element estàtic i col·lisió front-lateral)\n",
    "5. Accidents segons causa mediata gestionats per la Guàrdia Urbana a la ciutat de Barcelona\n",
    "    - Relació dels accidents segons causa mediata gestionats per la Guàrdia Urbana a la ciutat de Barcelona. Un accident pot tenir una o més causes mediates les quals fan referència a factors externs del resultat en temps, lloc o grau (Ex: Alcoholèmia i Excés de velocitat o velocitat inadequada)\n",
    "6. Accidents segons causa conductor gestionats per la Guàrdia Urbana a la ciutat de Barcelona\n",
    "    - Accidents segons causa conductor gestionats per la Guàrdia Urbana a la ciutat de Barcelona.\n"
   ]
  },
  {
   "cell_type": "markdown",
   "id": "ec26b216-09dc-4a53-836e-a25cdb7d103b",
   "metadata": {},
   "source": [
    "## 3. Càrrega de les dades i preparació de les dades per a l'anàlisi\n",
    "Fem correr Spark en mode local, on tot el processament tindrà lloc en una sola màquina. En cas de necessitar instalar Spark, hi ha dos opcions: Anar a la [pàgina de descàrrega d'Spark](https://spark.apache.org/downloads.html), i triar \"Pre-built for Apache Hadoop 3.3 and later\", o bé, instalar la llibreria PySpark de Python i les seves dependencies invocant `pip install pyspark[sql, ml, mllib]`. A banda d'això, també necessitem tenir instalada la versió 8 o posterior de Java al nostre sistema."
   ]
  },
  {
   "cell_type": "code",
   "execution_count": 1,
   "id": "07f479f7-c47d-4734-b15a-da7ca7aa4692",
   "metadata": {},
   "outputs": [
    {
     "name": "stderr",
     "output_type": "stream",
     "text": [
      "24/05/08 09:39:26 WARN Utils: Your hostname, Paus-iMac.local resolves to a loopback address: 127.0.0.1; using 192.168.1.132 instead (on interface en1)\n",
      "24/05/08 09:39:26 WARN Utils: Set SPARK_LOCAL_IP if you need to bind to another address\n",
      "Setting default log level to \"WARN\".\n",
      "To adjust logging level use sc.setLogLevel(newLevel). For SparkR, use setLogLevel(newLevel).\n",
      "24/05/08 09:39:27 WARN NativeCodeLoader: Unable to load native-hadoop library for your platform... using builtin-java classes where applicable\n"
     ]
    }
   ],
   "source": [
    "# El proposit de findspark és facilitar l'ús de Spark amb Python,\n",
    "# especialment si no tens declarada la variable d'entorn SPARK_HOME o\n",
    "# si Spark i PySpark setup no es troben a la variable PATH.\n",
    "# descomenta les següents dos linies si NO has instalar pyspark amb pip\n",
    "#import findspark\n",
    "#findspark.init()\n",
    "\n",
    "from pyspark.sql import SparkSession\n",
    "# inicialitzem amb 4 cores destinats a Spark (això dependrà de cada màquina)\n",
    "spark = SparkSession.builder \\\n",
    "    .appName(\"bcn_traffic_incidents\") \\\n",
    "    .master(\"local[4]\") \\\n",
    "    .getOrCreate()"
   ]
  },
  {
   "cell_type": "code",
   "execution_count": 2,
   "id": "e0fa3481-e24d-40f8-bad2-dda74bb95ded",
   "metadata": {},
   "outputs": [],
   "source": [
    "# si cal aturar-ho, executa spark.stop()\n",
    "# spark.stop()"
   ]
  },
  {
   "cell_type": "markdown",
   "id": "d58ed7b4-14b7-4f32-8e0a-c53bb5ce5483",
   "metadata": {},
   "source": [
    "### 3.1 càrrega dels datasets com a DataFrames i creació de vistes temporals\n",
    "Carreguem cada conjunt de dades en els següents DataFrames:\n",
    "\n",
    "1. df_gu_incidents\n",
    "2. df_gu_incidents_type\n",
    "3. df_gu_incidents_vehicle\n",
    "4. df_gu_incidents_person\n",
    "5. df_gu_incidents_cause\n",
    "6. df_gu_incidents_driver\n",
    "\n",
    "Alhora registrarem cada DataFrame com una vista temporal (temporary view), el que ens permetrà executar comandes SQL directament en cadascuna d'elles.\n",
    "\n",
    "Vistes temporals:\n",
    "\n",
    "- incidents\n",
    "- incidents_type\n",
    "- incidents_vehicle\n",
    "- incidents_person\n",
    "- incidents_cause\n",
    "- incidents_driver\n",
    "\n",
    "  "
   ]
  },
  {
   "cell_type": "code",
   "execution_count": 3,
   "id": "ada4f7e4-d9e4-40e7-ac53-fa54e80db101",
   "metadata": {},
   "outputs": [],
   "source": [
    "incidents_file_path = \"../data/2023_accidents_gu_bcn.csv\"\n",
    "incidents_type_file_path = \"../data/2023_accidents_tipus_gu_bcn.csv\"\n",
    "incidents_vehicle_file_path = \"../data/2023_accidents_vehicles_gu_bcn.csv\"\n",
    "incidents_person_file_path = \"../data/2023_accidents_persones_gu_bcn.csv\"\n",
    "incidents_cause_file_path = \"../data/2023_accidents_causes_gu_bcn.csv\"\n",
    "incidentsdriver_file_path = \"../data/2023_accidents_causa_conductor_gu_bcn.csv\"\n",
    "\n",
    "df_gu_incidents = (spark.read.format(\"csv\")\n",
    "    .option(\"inferSchema\", \"true\")\n",
    "    .option(\"header\", \"true\")\n",
    "    .option(\"mode\", \"FAILFAST\") # exit if any error\n",
    "    .load(incidents_file_path))\n",
    "df_gu_incidents.createOrReplaceTempView(\"incidents\")\n",
    "\n",
    "df_gu_incidents_type = (spark.read.format(\"csv\")\n",
    "    .option(\"inferSchema\", \"true\")\n",
    "    .option(\"header\", \"true\")\n",
    "    .option(\"mode\", \"FAILFAST\") # exit if any error\n",
    "    .load(incidents_type_file_path))\n",
    "df_gu_incidents.createOrReplaceTempView(\"incidents_type\")\n",
    "\n",
    "df_gu_incidents_vehicle = (spark.read.format(\"csv\")\n",
    "    .option(\"inferSchema\", \"true\")\n",
    "    .option(\"header\", \"true\")\n",
    "    .option(\"mode\", \"FAILFAST\") # exit if any error\n",
    "    .load(incidents_vehicle_file_path))\n",
    "df_gu_incidents.createOrReplaceTempView(\"incidents_vehicle\")\n",
    "\n",
    "df_gu_incidents_person = (spark.read.format(\"csv\")\n",
    "    .option(\"inferSchema\", \"true\")\n",
    "    .option(\"header\", \"true\")\n",
    "    .option(\"mode\", \"FAILFAST\") # exit if any error\n",
    "    .load(incidents_person_file_path))\n",
    "df_gu_incidents.createOrReplaceTempView(\"incidents_person\")\n",
    "\n",
    "df_gu_incidents_cause = (spark.read.format(\"csv\")\n",
    "    .option(\"inferSchema\", \"true\")\n",
    "    .option(\"header\", \"true\")\n",
    "    .option(\"mode\", \"FAILFAST\") # exit if any error\n",
    "    .load(incidents_cause_file_path))\n",
    "df_gu_incidents.createOrReplaceTempView(\"incidents_cause\")\n",
    "\n",
    "df_gu_incidents_driver = (spark.read.format(\"csv\")\n",
    "    .option(\"inferSchema\", \"true\")\n",
    "    .option(\"header\", \"true\")\n",
    "    .option(\"mode\", \"FAILFAST\") # exit if any error\n",
    "    .load(incidentsdriver_file_path))\n",
    "df_gu_incidents.createOrReplaceTempView(\"incidents_driver\")\n"
   ]
  },
  {
   "cell_type": "markdown",
   "id": "0179674f-0292-462c-9fa8-ccd05b56ef62",
   "metadata": {},
   "source": [
    "### 3.2 Estructura de les dades\n",
    "\n",
    "1. **df_gu_incidents**, accidents gestionats per la Guàrdia Urbana a Barcelona\n",
    "2. **df_gu_incidents_type**, accidents segons tipologia\n",
    "3. **df_gu_incidents_vehicle**, vehicles implicats en accidents\n",
    "4. **df_gu_incidents_person**, persones involucrades en accidents\n",
    "5. **df_gu_incidents_cause**, accidents segons causa mediata\n",
    "6. **df_gu_incidents_driver**, accidents segons causa conductor"
   ]
  },
  {
   "cell_type": "markdown",
   "id": "e5228c3e-a8e0-4fd2-8080-bd99c3b1d92a",
   "metadata": {},
   "source": [
    "#### 3.2.1 df_gu_incidents"
   ]
  },
  {
   "cell_type": "code",
   "execution_count": 4,
   "id": "a17455ed-5e10-475c-9c1d-8bf8da99774b",
   "metadata": {},
   "outputs": [
    {
     "name": "stdout",
     "output_type": "stream",
     "text": [
      "root\n",
      " |-- Numero_expedient: string (nullable = true)\n",
      " |-- Codi_districte: integer (nullable = true)\n",
      " |-- Nom_districte: string (nullable = true)\n",
      " |-- Codi_barri: integer (nullable = true)\n",
      " |-- Nom_barri: string (nullable = true)\n",
      " |-- Codi_carrer: integer (nullable = true)\n",
      " |-- Nom_carrer: string (nullable = true)\n",
      " |-- Num_postal : string (nullable = true)\n",
      " |-- Descripcio_dia_setmana: string (nullable = true)\n",
      " |-- NK_Any: integer (nullable = true)\n",
      " |-- Mes_any: integer (nullable = true)\n",
      " |-- Nom_mes: string (nullable = true)\n",
      " |-- Dia_mes: integer (nullable = true)\n",
      " |-- Hora_dia: integer (nullable = true)\n",
      " |-- Descripcio_torn: string (nullable = true)\n",
      " |-- Descripcio_causa_vianant: string (nullable = true)\n",
      " |-- Numero_morts: integer (nullable = true)\n",
      " |-- Numero_lesionats_lleus: integer (nullable = true)\n",
      " |-- Numero_lesionats_greus: integer (nullable = true)\n",
      " |-- Numero_victimes: integer (nullable = true)\n",
      " |-- Numero_vehicles_implicats: integer (nullable = true)\n",
      " |-- Coordenada_UTM_Y_ED50: string (nullable = true)\n",
      " |-- Coordenada_UTM_X_ED50: string (nullable = true)\n",
      " |-- Longitud_WGS84: double (nullable = true)\n",
      " |-- Latitud_WGS84: double (nullable = true)\n",
      "\n"
     ]
    }
   ],
   "source": [
    "df_gu_incidents.printSchema()"
   ]
  },
  {
   "cell_type": "code",
   "execution_count": 5,
   "id": "693896bc-f0d4-4593-bcf2-f669135e80e8",
   "metadata": {},
   "outputs": [
    {
     "name": "stdout",
     "output_type": "stream",
     "text": [
      "+----------------+--------------+--------------+----------+-----------------+-----------+--------------------+-----------+----------------------+------+-------+-------+-------+--------+---------------+------------------------+------------+----------------------+----------------------+---------------+-------------------------+---------------------+---------------------+--------------+-------------+\n",
      "|Numero_expedient|Codi_districte| Nom_districte|Codi_barri|        Nom_barri|Codi_carrer|          Nom_carrer|Num_postal |Descripcio_dia_setmana|NK_Any|Mes_any|Nom_mes|Dia_mes|Hora_dia|Descripcio_torn|Descripcio_causa_vianant|Numero_morts|Numero_lesionats_lleus|Numero_lesionats_greus|Numero_victimes|Numero_vehicles_implicats|Coordenada_UTM_Y_ED50|Coordenada_UTM_X_ED50|Longitud_WGS84|Latitud_WGS84|\n",
      "+----------------+--------------+--------------+----------+-----------------+-----------+--------------------+-----------+----------------------+------+-------+-------+-------+--------+---------------+------------------------+------------+----------------------+----------------------+---------------+-------------------------+---------------------+---------------------+--------------+-------------+\n",
      "| 2023S000001    |             3|Sants-Montjuïc|        18|            Sants|      30602|Badal / Càceres  ...|  0186 0186|              Diumenge|  2023|      1|  Gener|      1|      10|           Matí|    No és causa del  ...|           0|                     0|                     1|              1|                        1|           427409.24 |           4580907.46|   2.130813369| 41.374565193|\n",
      "| 2023S000002    |             7|Horta-Guinardó|        33| el Baix Guinardó|     109203|Encarnació       ...|  0149 0149|              Diumenge|  2023|      1|  Gener|      1|       3|            Nit|    No és causa del  ...|           0|                     0|                     0|              0|                        1|           430348.68 |           4584798.12|   2.165512751| 41.409867042|\n",
      "| 2023S000003    |             1|  Ciutat Vella|         1|         el Raval|      67307|Carme            ...|  0075 0079|              Diumenge|  2023|      1|  Gener|      1|       3|            Nit|    Creuar per fora p...|           0|                     1|                     0|              1|                        1|           430479.42 |           4581533.3 |   2.167451891| 41.380473178|\n",
      "| 2023S000005    |             6|        Gràcia|        31|la Vila de Gràcia|     282401|Riera de Sant Miq...|  0017 0017|              Diumenge|  2023|      1|  Gener|      1|      17|          Tarda|    No és causa del  ...|           0|                     1|                     0|              1|                        2|           429637.2  |           4583426.13|   2.157160502| 41.397448015|\n",
      "| 2023S000006    |             6|        Gràcia|        31|la Vila de Gràcia|     206403|Gran de Gràcia / ...|  0072 0072|              Diumenge|  2023|      1|  Gener|      1|      17|          Tarda|    No és causa del  ...|           0|                     1|                     0|              1|                        2|           429497.51 |           4583693.13|   2.155458526| 41.399840547|\n",
      "+----------------+--------------+--------------+----------+-----------------+-----------+--------------------+-----------+----------------------+------+-------+-------+-------+--------+---------------+------------------------+------------+----------------------+----------------------+---------------+-------------------------+---------------------+---------------------+--------------+-------------+\n",
      "only showing top 5 rows\n",
      "\n"
     ]
    }
   ],
   "source": [
    "# mostrem les primeres 5 files\n",
    "df_gu_incidents.show(5)"
   ]
  },
  {
   "cell_type": "code",
   "execution_count": 6,
   "id": "f833107b-6369-48d8-af31-49d4346bc9f2",
   "metadata": {
    "editable": true,
    "slideshow": {
     "slide_type": ""
    },
    "tags": []
   },
   "outputs": [
    {
     "data": {
      "text/plain": [
       "7724"
      ]
     },
     "execution_count": 6,
     "metadata": {},
     "output_type": "execute_result"
    }
   ],
   "source": [
    "# i el nombre total de files (accidents reportats per la guardia urbana)\n",
    "df_gu_incidents.count()"
   ]
  },
  {
   "cell_type": "code",
   "execution_count": 7,
   "id": "caf0fa79-bb1d-4be2-a108-b8e66c9d2837",
   "metadata": {},
   "outputs": [
    {
     "data": {
      "text/plain": [
       "25"
      ]
     },
     "execution_count": 7,
     "metadata": {},
     "output_type": "execute_result"
    }
   ],
   "source": [
    "# mostrem el nombre de columnes\n",
    "len(df_gu_incidents.columns)"
   ]
  },
  {
   "cell_type": "markdown",
   "id": "588f06c8-d5d7-44d2-a54d-9a48579dd4b1",
   "metadata": {},
   "source": [
    "Podem veure que en aquest conjunt de dades, corresponent a 2023, hi ha 7.724 accidents reportats, i cada accident consta de 25 característiques. Inicialment hem carregat les dades inferint directament l'esquema de dades, trobant inicialment que aquestes són de tipus `string` i `integer`. Veiem que en alguns casos, per exemple les coordenades WGS84, seria mes encertat que el tipus fos `float`.\n",
    "\n",
    "De les característiques de les dades, les que considerem més interessants per al nostre treball, són les següents:\n",
    "\n",
    "- Numero_expedient, considerem inicialment que aquesta actúa com a ID de l'accident, i ens permetrà vincular les dades entre els diferents datasets.\n",
    "- Nom_districte\n",
    "- Nom_barri\n",
    "- Nom_carrer, interessant que en aquesta columna ens indica també els encreuaments de carrer on hi ha hagut l'incident, com per exemple \"Badal / Càceres\"\n",
    "- Descripcio_dia_setmana\n",
    "- NK_Any\n",
    "- Mes_any, el mes en format numèric\n",
    "- Dia_mes\n",
    "- Hora_dia\n",
    "- Descripcio_causa_vianant\n",
    "- Numero_morts\n",
    "- Numero_lesionats_lleus\n",
    "- Numero_lesionats_greus, el dataset també aporta Numero_victimes, però aquesta la podriem inferir sumant número de morts i lesionats greus i lleus.\n",
    "- Numero_vehicles_implicats\n",
    "- Longitud_WGS84\n",
    "- Latitud_WGS84, el dataset també ens aporta les dades de geolocalització UTM, però a efectes pràctics serà millor WGS84. Aquestes dades ens permetran localitzar els incidents quan han tingut lloc per exemple a les rondes.\n",
    "\n",
    "Ens quedem amb 16 característiques de les 25 inicials.\n"
   ]
  },
  {
   "cell_type": "markdown",
   "id": "e4641df5-dd83-4905-849c-304a20b6bfa2",
   "metadata": {},
   "source": [
    "#### 3.2.2 `df_gu_incidents_type`, accidents segons tipologia"
   ]
  },
  {
   "cell_type": "code",
   "execution_count": 8,
   "id": "2ba68d60-87ef-4526-8a67-806620a8b3ff",
   "metadata": {},
   "outputs": [
    {
     "name": "stdout",
     "output_type": "stream",
     "text": [
      "root\n",
      " |-- Numero_expedient: string (nullable = true)\n",
      " |-- Codi_districte: integer (nullable = true)\n",
      " |-- Nom_districte: string (nullable = true)\n",
      " |-- Codi_barri: integer (nullable = true)\n",
      " |-- Nom_barri: string (nullable = true)\n",
      " |-- Codi_carrer: integer (nullable = true)\n",
      " |-- Nom_carrer: string (nullable = true)\n",
      " |-- Num_postal: string (nullable = true)\n",
      " |-- Descripcio_dia_setmana: string (nullable = true)\n",
      " |-- NK_Any: integer (nullable = true)\n",
      " |-- Mes_any: integer (nullable = true)\n",
      " |-- Nom_mes: string (nullable = true)\n",
      " |-- Dia_mes: integer (nullable = true)\n",
      " |-- Hora_dia: integer (nullable = true)\n",
      " |-- Descripcio_torn: string (nullable = true)\n",
      " |-- Descripcio_tipus_accident: string (nullable = true)\n",
      " |-- Coordenada_UTM_X_ED50: string (nullable = true)\n",
      " |-- Coordenada_UTM_Y_ED50: string (nullable = true)\n",
      " |-- Longitud_WGS84: double (nullable = true)\n",
      " |-- Latitud_WGS84: double (nullable = true)\n",
      "\n"
     ]
    },
    {
     "data": {
      "text/plain": [
       "7823"
      ]
     },
     "execution_count": 8,
     "metadata": {},
     "output_type": "execute_result"
    }
   ],
   "source": [
    "df_gu_incidents_type.printSchema()\n",
    "df_gu_incidents_type.count()"
   ]
  },
  {
   "cell_type": "code",
   "execution_count": 9,
   "id": "38c9a7c1-a29f-4f2a-8ee6-ee3c8e199936",
   "metadata": {},
   "outputs": [
    {
     "data": {
      "text/plain": [
       "20"
      ]
     },
     "execution_count": 9,
     "metadata": {},
     "output_type": "execute_result"
    }
   ],
   "source": [
    "len(df_gu_incidents_type.columns)"
   ]
  },
  {
   "cell_type": "code",
   "execution_count": 10,
   "id": "eb802620-fdda-4571-98d8-c8890fbb877c",
   "metadata": {},
   "outputs": [
    {
     "name": "stdout",
     "output_type": "stream",
     "text": [
      "+----------------+--------------+-------------+----------+----------+-----------+--------------------+----------+----------------------+------+-------+--------+-------+--------+---------------+-------------------------+---------------------+---------------------+--------------+-------------+\n",
      "|Numero_expedient|Codi_districte|Nom_districte|Codi_barri| Nom_barri|Codi_carrer|          Nom_carrer|Num_postal|Descripcio_dia_setmana|NK_Any|Mes_any| Nom_mes|Dia_mes|Hora_dia|Descripcio_torn|Descripcio_tipus_accident|Coordenada_UTM_X_ED50|Coordenada_UTM_Y_ED50|Longitud_WGS84|Latitud_WGS84|\n",
      "+----------------+--------------+-------------+----------+----------+-----------+--------------------+----------+----------------------+------+-------+--------+-------+--------+---------------+-------------------------+---------------------+---------------------+--------------+-------------+\n",
      "| 2023S004127    |            -1|   Desconegut|        -1|Desconegut|         -1|Diagonal         ...|3-35      |              Dissabte|  2023|      7|  Juliol|      8|       5|            Nit|                    Abast|           434602.66 |           4584822.12|   2.216403377| 41.410440789|\n",
      "| 2023S003871    |            -1|   Desconegut|        -1|Desconegut|         -1|Colom / Portal de...|      NULL|               Dimarts|  2023|      6|    Juny|     27|      19|          Tarda|                    Abast|            431358,53|           4581040,46|   2.178020316| 41.376109822|\n",
      "| 2023S005242    |            -1|   Desconegut|        -1|Desconegut|         -1|Numància         ...|2         |               Dilluns|  2023|      9|Setembre|      4|      12|           Matí|        Col.lisió lateral|           428310.7  |           4581655.17|   2.141503645| 41.381380404|\n",
      "| 2023S005352    |            -1|   Desconegut|        -1|Desconegut|         -1|Aigües           ...|385       |              Dissabte|  2023|      9|Setembre|      9|      16|          Tarda|               Desconegut|           427768.19 |           4586162.33|   2.134478091| 41.421926017|\n",
      "| 2023S007652    |            -1|   Desconegut|        -1|Desconegut|         -1|Diagonal         ...|620       |              Diumenge|  2023|     12|Desembre|     24|      15|          Tarda|            Atropellament|           428251.59 |           4582854.69|   2.140654653| 41.392178767|\n",
      "+----------------+--------------+-------------+----------+----------+-----------+--------------------+----------+----------------------+------+-------+--------+-------+--------+---------------+-------------------------+---------------------+---------------------+--------------+-------------+\n",
      "only showing top 5 rows\n",
      "\n"
     ]
    }
   ],
   "source": [
    "df_gu_incidents_type.show(5)"
   ]
  },
  {
   "cell_type": "markdown",
   "id": "479c7f6b-5b0d-4707-bea4-d6c8dde6410b",
   "metadata": {},
   "source": [
    "Veiem que conté 19 característiques presents en `df_gu_incidents` i una de nova: `Descripcio_tipus_accident`. Ens crida l'atenció que aquest dataset conté 7.823 accidents, 99 més que `df_gu_incidents`"
   ]
  },
  {
   "cell_type": "markdown",
   "id": "2bff7495-b256-4f14-88cb-78ce51205ddf",
   "metadata": {},
   "source": [
    "#### 3.2.3 `df_gu_incidents_vehicle`, vehicles implicats en accidents"
   ]
  },
  {
   "cell_type": "code",
   "execution_count": 11,
   "id": "1ecdfbfd-4d14-42ec-9cf8-d88647609e10",
   "metadata": {},
   "outputs": [
    {
     "name": "stdout",
     "output_type": "stream",
     "text": [
      "root\n",
      " |-- Numero_expedient: string (nullable = true)\n",
      " |-- Codi_districte: integer (nullable = true)\n",
      " |-- Nom_districte: string (nullable = true)\n",
      " |-- Codi_barri: integer (nullable = true)\n",
      " |-- Nom_barri: string (nullable = true)\n",
      " |-- Codi_carrer: integer (nullable = true)\n",
      " |-- Nom_carrer: string (nullable = true)\n",
      " |-- Num_postal: string (nullable = true)\n",
      " |-- Descripcio_dia_setmana: string (nullable = true)\n",
      " |-- NK_Any: integer (nullable = true)\n",
      " |-- Mes_any: integer (nullable = true)\n",
      " |-- Nom_mes: string (nullable = true)\n",
      " |-- Dia_mes: integer (nullable = true)\n",
      " |-- Hora_dia: integer (nullable = true)\n",
      " |-- Descripcio_torn: string (nullable = true)\n",
      " |-- Descripcio_causa_vianant: string (nullable = true)\n",
      " |-- Descripcio_tipus_vehicle: string (nullable = true)\n",
      " |-- Descripcio_model: string (nullable = true)\n",
      " |-- Descripcio_marca: string (nullable = true)\n",
      " |-- Descripcio_color: string (nullable = true)\n",
      " |-- Descripcio_carnet: string (nullable = true)\n",
      " |-- Antiguitat_carnet: string (nullable = true)\n",
      " |-- Coordenada_UTM_X_ED50: string (nullable = true)\n",
      " |-- Coordenada_UTM_Y_ED50: string (nullable = true)\n",
      " |-- Longitud_WGS84: string (nullable = true)\n",
      " |-- Latitud_WGS84: string (nullable = true)\n",
      "\n",
      "dataset conté 14361 accidents i 26 característiques\n"
     ]
    }
   ],
   "source": [
    "df_gu_incidents_vehicle.printSchema()\n",
    "print(f\"dataset conté {df_gu_incidents_vehicle.count()} accidents i {len(df_gu_incidents_vehicle.columns)} característiques\")"
   ]
  },
  {
   "cell_type": "markdown",
   "id": "36cb6d7b-158a-473d-b88d-7a74ea5b2c6a",
   "metadata": {},
   "source": [
    "Aquest dataset recull les següents noves característiques:\n",
    "- `Descripcio_tipus_vehicle`\n",
    "- `Descripcio_model`\n",
    "- `Descripcio_marca`\n",
    "- `Descripcio_color`\n",
    "- `Descripcio_carnet`\n",
    "- `Antiguitat_carnet`\n",
    "\n",
    "i conté una entrada per cada vehicle implicat, en total 14.361 vehicles durant 2023."
   ]
  },
  {
   "cell_type": "markdown",
   "id": "90d09ef7-85ee-487d-9b6e-d2f6892b8bb6",
   "metadata": {},
   "source": [
    "#### 3.2.4 `df_gu_incidents_person`, persones involucrades en accidents "
   ]
  },
  {
   "cell_type": "code",
   "execution_count": 12,
   "id": "bc592b87-a2b9-43a6-bf1e-c04ab30c156b",
   "metadata": {},
   "outputs": [
    {
     "name": "stdout",
     "output_type": "stream",
     "text": [
      "root\n",
      " |-- Numero_expedient: string (nullable = true)\n",
      " |-- Codi_districte: integer (nullable = true)\n",
      " |-- Nom_districte: string (nullable = true)\n",
      " |-- Codi_barri: integer (nullable = true)\n",
      " |-- Nom_barri: string (nullable = true)\n",
      " |-- Codi_carrer: integer (nullable = true)\n",
      " |-- Nom_carrer: string (nullable = true)\n",
      " |-- Num_postal: string (nullable = true)\n",
      " |-- Descripcio_dia_setmana: string (nullable = true)\n",
      " |-- NK_ Any: integer (nullable = true)\n",
      " |-- Mes_ any: integer (nullable = true)\n",
      " |-- Nom_mes: string (nullable = true)\n",
      " |-- Dia_mes: integer (nullable = true)\n",
      " |-- Descripcio_torn: string (nullable = true)\n",
      " |-- Hora_dia: integer (nullable = true)\n",
      " |-- Descripcio_causa_vianant: string (nullable = true)\n",
      " |-- Desc_Tipus_vehicle_implicat: string (nullable = true)\n",
      " |-- Descripcio_sexe: string (nullable = true)\n",
      " |-- Edat: string (nullable = true)\n",
      " |-- Descripció_tipus_persona: string (nullable = true)\n",
      " |-- Descripcio_Lloc_atropellament_vianant: string (nullable = true)\n",
      " |-- Descripcio_Motiu_desplacament_vianant: string (nullable = true)\n",
      " |-- Descripcio_Motiu_desplacament_conductor: string (nullable = true)\n",
      " |-- Descripcio_victimitzacio: string (nullable = true)\n",
      " |-- Coordenada_UTM_X_ED50: string (nullable = true)\n",
      " |-- Coordenada_UTM_Y_ED50: string (nullable = true)\n",
      " |-- Longitud_WGS84: double (nullable = true)\n",
      " |-- Latitud_WGS84: double (nullable = true)\n",
      "\n",
      "dataset conté 8776 accidents i 28 característiques\n"
     ]
    }
   ],
   "source": [
    "df_gu_incidents_person.printSchema()\n",
    "print(f\"dataset conté {df_gu_incidents_person.count()} accidents i {len(df_gu_incidents_person.columns)} característiques\")"
   ]
  },
  {
   "cell_type": "markdown",
   "id": "fca6f154-d6c9-4831-b70f-2de936dd2b11",
   "metadata": {},
   "source": [
    "Veiem que les característiques úniques d'aquest dataset són:\n",
    "- `Desc_Tipus_vehicle_implicat`\n",
    "- `Descripcio_sexe`\n",
    "- `Edat`\n",
    "- `Descripció_tipus_persona`\n",
    "- `Descripcio_Lloc_atropellament_vianant`\n",
    "- `Descripcio_Motiu_desplacament_vianant`\n",
    "- `Descripcio_Motiu_desplacament_conductor`\n",
    "- `Descripcio_victimitzacio`\n",
    "\n",
    "i recull 8.776 accidents."
   ]
  },
  {
   "cell_type": "markdown",
   "id": "b420b667-8aa9-4eed-87f4-3f8145dc3906",
   "metadata": {},
   "source": [
    "#### 3.2.5 `df_gu_incidents_cause`, accidents segons causa mediata"
   ]
  },
  {
   "cell_type": "code",
   "execution_count": 13,
   "id": "1276d62b-4ab2-4350-871b-084d5c5b5d87",
   "metadata": {},
   "outputs": [
    {
     "name": "stdout",
     "output_type": "stream",
     "text": [
      "root\n",
      " |-- Numero_expedient: string (nullable = true)\n",
      " |-- Codi_districte: integer (nullable = true)\n",
      " |-- Nom_districte: string (nullable = true)\n",
      " |-- Codi_barri: integer (nullable = true)\n",
      " |-- Nom_barri: string (nullable = true)\n",
      " |-- Codi_carrer: integer (nullable = true)\n",
      " |-- Nom_carrer: string (nullable = true)\n",
      " |-- Num_postal : string (nullable = true)\n",
      " |-- Descripcio_dia_setmana: string (nullable = true)\n",
      " |-- NK_Any: integer (nullable = true)\n",
      " |-- Mes_any: integer (nullable = true)\n",
      " |-- Nom_mes: string (nullable = true)\n",
      " |-- Dia_mes: integer (nullable = true)\n",
      " |-- Hora_dia: integer (nullable = true)\n",
      " |-- Descripcio_torn: string (nullable = true)\n",
      " |-- Descripcio_causa_mediata: string (nullable = true)\n",
      " |-- Coordenada_UTM_X_ED50: string (nullable = true)\n",
      " |-- Coordenada_UTM_Y_ED50: string (nullable = true)\n",
      " |-- Longitud_WGS84: double (nullable = true)\n",
      " |-- Latitud_WGS84: double (nullable = true)\n",
      "\n",
      "dataset conté 7721 accidents i 20 característiques\n"
     ]
    }
   ],
   "source": [
    "df_gu_incidents_cause.printSchema()\n",
    "print(f\"dataset conté {df_gu_incidents_cause.count()} accidents i {len(df_gu_incidents_cause.columns)} característiques\")"
   ]
  },
  {
   "cell_type": "markdown",
   "id": "d6c2fd99-edba-44b8-aa8a-7d161c12210d",
   "metadata": {},
   "source": [
    "Conté una característica única: `Descripcio_causa_mediata`, veurem tot seguit quines són les causes més repetides:"
   ]
  },
  {
   "cell_type": "code",
   "execution_count": 14,
   "id": "160a7e03-2d7c-4e3d-b497-dc75df820150",
   "metadata": {},
   "outputs": [
    {
     "name": "stderr",
     "output_type": "stream",
     "text": [
      "24/05/08 09:39:40 WARN GarbageCollectionMetrics: To enable non-built-in garbage collector(s) List(G1 Concurrent GC), users should configure it(them) to spark.eventLog.gcMetrics.youngGenerationGarbageCollectors or spark.eventLog.gcMetrics.oldGenerationGarbageCollectors\n",
      "                                                                                \r"
     ]
    },
    {
     "data": {
      "text/plain": [
       "[('No hi ha causa mediata', 7208),\n",
       " ('Estat de la senyalització', 3),\n",
       " ('Objectes o animals a la calçada', 20),\n",
       " ('Calçada en mal estat', 53),\n",
       " ('Alcoholèmia', 396),\n",
       " ('Factors meteorològics', 6),\n",
       " ('Excés de velocitat o inadequada', 25),\n",
       " ('Drogues o medicaments', 10)]"
      ]
     },
     "execution_count": 14,
     "metadata": {},
     "output_type": "execute_result"
    }
   ],
   "source": [
    "causes = (df_gu_incidents_cause.select(\"Descripcio_causa_mediata\")\n",
    "          .rdd.map(lambda row: row[\"Descripcio_causa_mediata\"])\n",
    "          .map(lambda x: (x, 1))\n",
    "          .reduceByKey(lambda a,b: a+b))\n",
    "causes.take(20)"
   ]
  },
  {
   "cell_type": "markdown",
   "id": "3bc03a62-2ab4-4f5b-b1b6-78a724508abe",
   "metadata": {},
   "source": [
    "#### 3.2.6 `df_gu_incidents_driver`, accidents segons causa conductor"
   ]
  },
  {
   "cell_type": "code",
   "execution_count": 15,
   "id": "df5de5d4-4e91-46c8-956c-e4792ab3ba63",
   "metadata": {},
   "outputs": [
    {
     "name": "stdout",
     "output_type": "stream",
     "text": [
      "root\n",
      " |-- Numero_expedient: string (nullable = true)\n",
      " |-- Codi_districte: integer (nullable = true)\n",
      " |-- Nom_districte: string (nullable = true)\n",
      " |-- Codi_barri: integer (nullable = true)\n",
      " |-- Nom_barri: string (nullable = true)\n",
      " |-- Codi_carrer: integer (nullable = true)\n",
      " |-- Nom_carrer: string (nullable = true)\n",
      " |-- Num_postal : string (nullable = true)\n",
      " |-- Descripcio_dia_setmana: string (nullable = true)\n",
      " |-- NK_Any: integer (nullable = true)\n",
      " |-- Mes_any: integer (nullable = true)\n",
      " |-- Nom_mes: string (nullable = true)\n",
      " |-- Dia_mes: integer (nullable = true)\n",
      " |-- Hora_dia: integer (nullable = true)\n",
      " |-- Descripcio_torn: string (nullable = true)\n",
      " |-- Descripcio_causa_mediata: string (nullable = true)\n",
      " |-- Coordenada_UTM_X_ED50: double (nullable = true)\n",
      " |-- Coordenada_UTM_Y_ED50: double (nullable = true)\n",
      " |-- Longitud_WGS84: double (nullable = true)\n",
      " |-- Latitud_WGS84: double (nullable = true)\n",
      "\n",
      "dataset conté 8897 accidents i 20 característiques\n"
     ]
    }
   ],
   "source": [
    "df_gu_incidents_driver.printSchema()\n",
    "print(f\"dataset conté {df_gu_incidents_driver.count()} accidents i {len(df_gu_incidents_driver.columns)} característiques\")"
   ]
  },
  {
   "cell_type": "markdown",
   "id": "7076bd71-f4fb-4a23-be2c-e385dace0d23",
   "metadata": {},
   "source": [
    "Aquest conjunt de dades conté les mateixes característiques que l'anterior `df_gu_incidents_cause` i recull 8.897 accidents, 1.176 més que l'anterior. Podem veure que en aquest dataset `Descripcio_causa_mediata` recull la causa de l'accident de la qual n'es responsable el conductor:"
   ]
  },
  {
   "cell_type": "code",
   "execution_count": 16,
   "id": "7eb1653c-a0e6-401b-9533-b8abc74fcae1",
   "metadata": {},
   "outputs": [
    {
     "data": {
      "text/plain": [
       "[(\"Manca d'atenció a la conducció\", 2061),\n",
       " ('No respectar distàncies', 996),\n",
       " ('No respectat pas de vianants', 241),\n",
       " ('Desobeir semàfor', 640),\n",
       " ('Desobeir altres senyals', 457),\n",
       " ('Gir indegut o sense precaució', 804),\n",
       " ('Altres', 1089),\n",
       " ('Desconegut', 377),\n",
       " ('Avançament defectuós/improcedent', 296),\n",
       " ('Canvi de carril sense precaució', 666),\n",
       " ('No determinada', 743),\n",
       " ('Manca precaució incorporació circulació', 238),\n",
       " ('No cedir la dreta', 72),\n",
       " ('Manca precaució efectuar marxa enrera', 177),\n",
       " ('Envair calçada contrària', 25),\n",
       " ('Fallada mecànica o avaria', 15)]"
      ]
     },
     "execution_count": 16,
     "metadata": {},
     "output_type": "execute_result"
    }
   ],
   "source": [
    "driver_causes = (df_gu_incidents_driver.select(\"Descripcio_causa_mediata\")\n",
    "          .rdd.map(lambda row: row[\"Descripcio_causa_mediata\"])\n",
    "          .map(lambda x: (x, 1))\n",
    "          .reduceByKey(lambda a,b: a+b))\n",
    "driver_causes.take(20)"
   ]
  },
  {
   "cell_type": "code",
   "execution_count": 17,
   "id": "1ad7ab31-6c58-4ae9-b26f-b8d345cdc2d1",
   "metadata": {},
   "outputs": [],
   "source": [
    "#spark.sql(\n",
    "#    \"\"\"\n",
    "#    SELECT Nom_carrer, Dia_mes, Numero_morts, Numero_vehicles_implicats, Descripcio_causa_vianant\n",
    "#    FROM incidents WHERE Numero_morts > 0\n",
    "#    ORDER BY Numero_morts DESC\n",
    "#    \"\"\"\n",
    "#).show(10)"
   ]
  },
  {
   "cell_type": "markdown",
   "id": "19c380b8-8a5d-450e-96d8-5b9d06023b17",
   "metadata": {},
   "source": [
    "### 3.3 Preparació de les dades\n",
    "Crearem un nou data frame de cada conjunt de dades amb les característiques seleccionades, els hi donem un nom més concis."
   ]
  },
  {
   "cell_type": "markdown",
   "id": "5cf93ebf-c3f3-4101-b290-37f8bd355216",
   "metadata": {},
   "source": [
    "#### 3.3.1 df_gu_incidents -> df_incidents\n",
    "\n",
    "Descartem les següents característiques del conjunt de dades inicial:\n",
    "\n",
    "- Codi_districte\n",
    "- Codi_barri\n",
    "- Codi_carrer\n",
    "- Num_postal\n",
    "- Nom_mes\n",
    "- Descripcio_torn\n",
    "- Numero_victimes\n",
    "- Coordenada_UTM_Y_ED50\n",
    "- Coordenada_UTM_X_ED50\n",
    "\n",
    "i conservem les següents, a les que els hi donarem un nom mes curt:\n",
    "\n",
    "- Numero_expedient : expedient\n",
    "- Nom_districte : districte\n",
    "- Nom_barri : barri\n",
    "- Nom_carrer : carrer\n",
    "- Descripcio_dia_setmana : dia_nom\n",
    "- NK_Any : any\n",
    "- Mes_any : mes\n",
    "- Dia_mes : dia\n",
    "- Hora_dia: hora\n",
    "- Descripcio_causa_vianant: causa_vianant\n",
    "- Numero_morts: morts\n",
    "- Numero_lesionats_lleus: lleus\n",
    "- Numero_lesionats_greus: greus\n",
    "- Numero_vehicles_implicats: vehicles\n",
    "- Longitud_WGS84: long\n",
    "- Latitud_WGS84: lat\n"
   ]
  },
  {
   "cell_type": "code",
   "execution_count": 18,
   "id": "469c321d-cb32-48cd-a0c6-298100fc503a",
   "metadata": {},
   "outputs": [
    {
     "name": "stdout",
     "output_type": "stream",
     "text": [
      "+---------------+--------------+-----------------+--------------------------------------------------+--------+----+---+---+----+-------------------------------+-----+-----+-----+------------+-----------+------------+\n",
      "|expedient      |districte     |barri            |carrer                                            |dia_nom |any |mes|dia|hora|causa_vianant                  |morts|lleus|greus|num_vehicles|long       |lat         |\n",
      "+---------------+--------------+-----------------+--------------------------------------------------+--------+----+---+---+----+-------------------------------+-----+-----+-----+------------+-----------+------------+\n",
      "|2023S000001    |Sants-Montjuïc|Sants            |Badal / Càceres                                   |Diumenge|2023|1  |1  |10  |No és causa del  vianant       |0    |0    |1    |1           |2.130813369|41.374565193|\n",
      "|2023S000002    |Horta-Guinardó|el Baix Guinardó |Encarnació                                        |Diumenge|2023|1  |1  |3   |No és causa del  vianant       |0    |0    |0    |1           |2.165512751|41.409867042|\n",
      "|2023S000003    |Ciutat Vella  |el Raval         |Carme                                             |Diumenge|2023|1  |1  |3   |Creuar per fora pas de vianants|0    |1    |0    |1           |2.167451891|41.380473178|\n",
      "|2023S000005    |Gràcia        |la Vila de Gràcia|Riera de Sant Miquel / Sèneca                     |Diumenge|2023|1  |1  |17  |No és causa del  vianant       |0    |1    |0    |2           |2.157160502|41.397448015|\n",
      "|2023S000006    |Gràcia        |la Vila de Gràcia|Gran de Gràcia / Gràcia                           |Diumenge|2023|1  |1  |17  |No és causa del  vianant       |0    |1    |0    |2           |2.155458526|41.399840547|\n",
      "+---------------+--------------+-----------------+--------------------------------------------------+--------+----+---+---+----+-------------------------------+-----+-----+-----+------------+-----------+------------+\n",
      "only showing top 5 rows\n",
      "\n"
     ]
    }
   ],
   "source": [
    "# We could do the same query with the DataFram API\n",
    "from pyspark.sql.functions import col, desc\n",
    "#(df_gu_incidents.select(df_gu_incidents[\"Nom_carrer\"].alias(\"carrer\"), \"Dia_mes\", \"Numero_morts\", \"Numero_vehicles_implicats\", \"Descripcio_causa_vianant\", \"Num_postal \")\n",
    "#     .where(col(\"Num_postal \") IS NULL)\n",
    "#     .orderBy(\"Numero_morts\", ascending=False).show(10))\n",
    "\n",
    "column_mapping = {\n",
    "        \"Numero_expedient\": \"expedient\", \n",
    "        \"Nom_districte\": \"districte\",\n",
    "        \"Nom_barri\": \"barri\",\n",
    "        \"Nom_carrer\": \"carrer\",\n",
    "        \"Descripcio_dia_setmana\": \"dia_nom\",\n",
    "        \"NK_Any\": \"any\", \n",
    "        \"Mes_any\": \"mes\", \n",
    "        \"Dia_mes\": \"dia\",\n",
    "        \"Hora_dia\": \"hora\", \n",
    "        \"Descripcio_causa_vianant\": \"causa_vianant\", \n",
    "        \"Numero_morts\": \"morts\", \n",
    "        \"Numero_lesionats_lleus\": \"lleus\", \n",
    "        \"Numero_lesionats_greus\": \"greus\",\n",
    "        \"Numero_vehicles_implicats\": \"num_vehicles\",\n",
    "        \"Longitud_WGS84\": \"long\",\n",
    "        \"Latitud_WGS84\": \"lat\"    \n",
    "}\n",
    "\n",
    "features = [x for x,y in column_mapping.items()]\n",
    "\n",
    "df_incidents = df_gu_incidents.select(features)\n",
    "\n",
    "for old_col, new_col in column_mapping.items():\n",
    "    df_incidents = df_incidents.withColumnRenamed(old_col, new_col)\n",
    "\n",
    "df_incidents.show(5, truncate=False)"
   ]
  },
  {
   "cell_type": "markdown",
   "id": "bcfeb55e-2301-4dcf-9826-a5e4016ffba2",
   "metadata": {},
   "source": [
    "#### 3.3.2 df_gu_incidents_type -> df_incidents_type\n",
    "\n",
    "conservem les següents, a les que els hi donarem un nom mes curt:\n",
    "\n",
    "- Numero_expedient : expedient\n",
    "- Nom_districte : districte\n",
    "- Nom_barri : barri\n",
    "- Nom_carrer : carrer\n",
    "- Descripcio_dia_setmana : dia_nom\n",
    "- NK_Any : any\n",
    "- Mes_any : mes\n",
    "- Dia_mes : dia\n",
    "- Hora_dia: hora\n",
    "- Descripcio_tipus_accident: tipus_accident\n",
    "- Longitud_WGS84: long\n",
    "- Latitud_WGS84: lat\n"
   ]
  },
  {
   "cell_type": "code",
   "execution_count": 19,
   "id": "a46303ed-e015-41fe-b722-76b5e2a7742e",
   "metadata": {},
   "outputs": [
    {
     "name": "stdout",
     "output_type": "stream",
     "text": [
      "+---------------+--------------+--------------------------------------------+--------------------------------------------------+---------+----+---+---+----+--------------------+-----------+------------+\n",
      "|expedient      |districte     |barri                                       |carrer                                            |dia_nom  |any |mes|dia|hora|tipus_accident      |long       |lat         |\n",
      "+---------------+--------------+--------------------------------------------+--------------------------------------------------+---------+----+---+---+----+--------------------+-----------+------------+\n",
      "|2023S007742    |Les Corts     |la Maternitat i Sant Ramon                  |Carles III / Mejía Lequerica                      |Divendres|2023|12 |15 |15  |Caiguda (dues rodes)|2.127380845|41.384730254|\n",
      "|2023S007741    |Les Corts     |la Maternitat i Sant Ramon                  |Joan XXIII                                        |Divendres|2023|12 |15 |13  |Desconegut          |2.121750008|41.383915502|\n",
      "|2023S007740    |Les Corts     |la Maternitat i Sant Ramon                  |Diagonal                                          |Dissabte |2023|12 |30 |14  |Abast multiple      |2.106527004|41.382698393|\n",
      "|2023S007739    |Gràcia        |el Camp d'en Grassot i Gràcia Nova          |Sant Antoni Maria Claret / Llavallol              |Divendres|2023|11 |24 |18  |Abast               |2.166957012|41.405648573|\n",
      "|2023S007738    |Sant Martí    |Diagonal Mar i el Front Marítim del Poblenou|Litoral (Besòs)                                   |Dimarts  |2023|12 |5  |16  |Desconegut          |2.218139235|41.405945864|\n",
      "|2023S007737    |Horta-Guinardó|el Carmel                                   |Carmel                                            |Dilluns  |2023|10 |9  |18  |Caiguda (dues rodes)|2.157139665|41.427416473|\n",
      "|2023S007736    |Sants-Montjuïc|el Poble-sec                                |Paral·lel / Sant Pau                              |Dilluns  |2023|12 |18 |15  |Col.lisió lateral   |2.167732853|41.374959533|\n",
      "|2023S007735    |Sants-Montjuïc|la Marina de Port                           |Zona Franca                                       |Divendres|2023|9  |29 |13  |Abast multiple      |2.137585096|41.36174946 |\n",
      "|2023S007734    |Eixample      |l'Antiga Esquerra de l'Eixample             |Aribau / Consell de Cent                          |Dijous   |2023|12 |14 |19  |Caiguda (dues rodes)|2.160725891|41.387331867|\n",
      "|2023S007733    |Horta-Guinardó|Horta                                       |Eduard Toda                                       |Dissabte |2023|12 |30 |12  |Col.lisió lateral   |2.156291622|41.435935905|\n",
      "+---------------+--------------+--------------------------------------------+--------------------------------------------------+---------+----+---+---+----+--------------------+-----------+------------+\n",
      "only showing top 10 rows\n",
      "\n"
     ]
    }
   ],
   "source": [
    "column_mapping = {\n",
    "        \"Numero_expedient\": \"expedient\", \n",
    "        \"Nom_districte\": \"districte\",\n",
    "        \"Nom_barri\": \"barri\",\n",
    "        \"Nom_carrer\": \"carrer\",\n",
    "        \"Descripcio_dia_setmana\": \"dia_nom\",\n",
    "        \"NK_Any\": \"any\", \n",
    "        \"Mes_any\": \"mes\", \n",
    "        \"Dia_mes\": \"dia\",\n",
    "        \"Hora_dia\": \"hora\", \n",
    "        \"Descripcio_tipus_accident\": \"tipus_accident\", \n",
    "        \"Longitud_WGS84\": \"long\",\n",
    "        \"Latitud_WGS84\": \"lat\"    \n",
    "}\n",
    "\n",
    "features = [x for x,y in column_mapping.items()]\n",
    "\n",
    "df_incidents_type = df_gu_incidents_type.select(features)\n",
    "\n",
    "for old_col, new_col in column_mapping.items():\n",
    "    df_incidents_type = df_incidents_type.withColumnRenamed(old_col, new_col)\n",
    "\n",
    "df_incidents_type.orderBy(df_incidents_type.expedient.desc()).show(10, truncate=False)"
   ]
  },
  {
   "cell_type": "code",
   "execution_count": 44,
   "id": "9a8fe94d-2004-43a2-9bb8-ca842d06c22a",
   "metadata": {},
   "outputs": [
    {
     "name": "stdout",
     "output_type": "stream",
     "text": [
      "root\n",
      " |-- expedient: string (nullable = true)\n",
      " |-- districte: string (nullable = true)\n",
      " |-- barri: string (nullable = true)\n",
      " |-- carrer: string (nullable = true)\n",
      " |-- dia_nom: string (nullable = true)\n",
      " |-- any: integer (nullable = true)\n",
      " |-- mes: integer (nullable = true)\n",
      " |-- dia: integer (nullable = true)\n",
      " |-- hora: integer (nullable = true)\n",
      " |-- causa_vianant: string (nullable = true)\n",
      " |-- morts: integer (nullable = true)\n",
      " |-- lleus: integer (nullable = true)\n",
      " |-- greus: integer (nullable = true)\n",
      " |-- num_vehicles: integer (nullable = true)\n",
      " |-- long: double (nullable = true)\n",
      " |-- lat: double (nullable = true)\n",
      "\n"
     ]
    }
   ],
   "source": [
    "df_incidents.printSchema()"
   ]
  },
  {
   "cell_type": "markdown",
   "id": "43c31f90-e884-48d7-adc5-2bad48b35a28",
   "metadata": {},
   "source": [
    "### 3.3.3 df_gu_incidents_vehicle -> df_incidents_vehicle\n",
    "\n",
    "conservem les següents, a les que els hi donarem un nom mes curt:\n",
    "\n",
    "- Numero_expedient : expedient\n",
    "- Nom_districte : districte\n",
    "- Nom_barri : barri\n",
    "- Nom_carrer : carrer\n",
    "- Descripcio_dia_setmana : dia_nom\n",
    "- NK_Any : any\n",
    "- Mes_any : mes\n",
    "- Dia_mes : dia\n",
    "- Hora_dia: hora\n",
    "- Descripcio_causa_vianant: causa_vianant\n",
    "- Descripcio_tipus_vehicle: tipus_vehicle\n",
    "- Descripcio_carnet: carnet\n",
    "- Antiguitat_carnet: carnet_anys\n",
    "- Longitud_WGS84: long\n",
    "- Latitud_WGS84: lat\n"
   ]
  },
  {
   "cell_type": "code",
   "execution_count": 20,
   "id": "80e8bd74-7244-4778-8d8c-d4f7ed808a1b",
   "metadata": {},
   "outputs": [
    {
     "name": "stdout",
     "output_type": "stream",
     "text": [
      "+---------------+----------+--------------------------------------------+------------------------+---------+----+---+---+----+------------------------+------------------------+----------+-----------+-----------+------------+\n",
      "|expedient      |districte |barri                                       |carrer                  |dia_nom  |any |mes|dia|hora|causa_vianant           |tipus_vehicle           |carnet    |carnet_anys|long       |lat         |\n",
      "+---------------+----------+--------------------------------------------+------------------------+---------+----+---+---+----+------------------------+------------------------+----------+-----------+-----------+------------+\n",
      "|2023S007742    |Les Corts |la Maternitat i Sant Ramon                  |Mig (Descendent)        |Divendres|2023|12 |15 |15  |No és causa del  vianant|Motocicleta             |B         |17         |2.127380845|41.384730254|\n",
      "|2023S007742    |Les Corts |la Maternitat i Sant Ramon                  |Mig (Descendent)        |Divendres|2023|12 |15 |15  |No és causa del  vianant|Taxi                    |Desconegut|Desconegut |2.127380845|41.384730254|\n",
      "|2023S007741    |Les Corts |la Maternitat i Sant Ramon                  |Joan XXIII              |Divendres|2023|12 |15 |13  |No és causa del  vianant|Motocicleta             |A1        |14         |2.121750008|41.383915502|\n",
      "|2023S007740    |Les Corts |la Maternitat i Sant Ramon                  |Diagonal                |Dissabte |2023|12 |30 |14  |No és causa del  vianant|Turisme                 |B         |54         |2.106527004|41.382698393|\n",
      "|2023S007740    |Les Corts |la Maternitat i Sant Ramon                  |Diagonal                |Dissabte |2023|12 |30 |14  |No és causa del  vianant|Furgoneta               |B         |16         |2.106527004|41.382698393|\n",
      "|2023S007740    |Les Corts |la Maternitat i Sant Ramon                  |Diagonal                |Dissabte |2023|12 |30 |14  |No és causa del  vianant|Turisme                 |B         |12         |2.106527004|41.382698393|\n",
      "|2023S007739    |Gràcia    |el Camp d'en Grassot i Gràcia Nova          |Sant Antoni Maria Claret|Divendres|2023|11 |24 |18  |No és causa del  vianant|Motocicleta             |B         |11         |2.166957012|41.405648573|\n",
      "|2023S007739    |Gràcia    |el Camp d'en Grassot i Gràcia Nova          |Sant Antoni Maria Claret|Divendres|2023|11 |24 |18  |No és causa del  vianant|Taxi                    |B         |6          |2.166957012|41.405648573|\n",
      "|2023S007738    |Sant Martí|Diagonal Mar i el Front Marítim del Poblenou|Litoral (Besòs)         |Dimarts  |2023|12 |5  |16  |No és causa del  vianant|Camió rígid <= 3,5 tones|B         |22         |2.218139235|41.405945864|\n",
      "|2023S007738    |Sant Martí|Diagonal Mar i el Front Marítim del Poblenou|Litoral (Besòs)         |Dimarts  |2023|12 |5  |16  |No és causa del  vianant|Motocicleta             |A         |19         |2.218139235|41.405945864|\n",
      "+---------------+----------+--------------------------------------------+------------------------+---------+----+---+---+----+------------------------+------------------------+----------+-----------+-----------+------------+\n",
      "only showing top 10 rows\n",
      "\n"
     ]
    }
   ],
   "source": [
    "column_mapping = {\n",
    "        \"Numero_expedient\": \"expedient\", \n",
    "        \"Nom_districte\": \"districte\",\n",
    "        \"Nom_barri\": \"barri\",\n",
    "        \"Nom_carrer\": \"carrer\",\n",
    "        \"Descripcio_dia_setmana\": \"dia_nom\",\n",
    "        \"NK_Any\": \"any\", \n",
    "        \"Mes_any\": \"mes\", \n",
    "        \"Dia_mes\": \"dia\",\n",
    "        \"Hora_dia\": \"hora\", \n",
    "        \"Descripcio_causa_vianant\": \"causa_vianant\",\n",
    "        \"Descripcio_tipus_vehicle\": \"tipus_vehicle\",\n",
    "        \"Descripcio_carnet\": \"carnet\",\n",
    "        \"Antiguitat_carnet\": \"carnet_anys\",\n",
    "        \"Longitud_WGS84\": \"long\",\n",
    "        \"Latitud_WGS84\": \"lat\"    \n",
    "}\n",
    "\n",
    "features = [x for x,y in column_mapping.items()]\n",
    "\n",
    "df_incidents_vehicle = df_gu_incidents_vehicle.select(features)\n",
    "\n",
    "for old_col, new_col in column_mapping.items():\n",
    "    df_incidents_vehicle = df_incidents_vehicle.withColumnRenamed(old_col, new_col)\n",
    "\n",
    "# df_incidents_vehicle.show(5)\n",
    "df_incidents_vehicle.orderBy(df_incidents_vehicle.expedient.desc()).show(10, truncate=False)"
   ]
  },
  {
   "cell_type": "markdown",
   "id": "468b7500-fca9-49f2-82db-a9177a4a06b9",
   "metadata": {},
   "source": [
    "### 3.3.4 df_gu_incidents_person -> df_incidents_person\n",
    "\n",
    "conservem les següents, a les que els hi donarem un nom mes curt:\n",
    "\n",
    "- Numero_expedient : expedient\n",
    "- Nom_districte : districte\n",
    "- Nom_barri : barri\n",
    "- Nom_carrer : carrer\n",
    "- Descripcio_dia_setmana : dia_nom\n",
    "- NK_Any : any\n",
    "- Mes_any : mes\n",
    "- Dia_mes : dia\n",
    "- Hora_dia: hora\n",
    "- Descripcio_causa_vianant: causa_vianant\n",
    "- Desc_Tipus_vehicle_implicat: tipus_vehicle\n",
    "- Descripcio_sexe: sexe\n",
    "- Edat: edat\n",
    "- Descripció_tipus_persona: tipus_persona\n",
    "- Descripcio_Lloc_atropellament_vianant: lloc\n",
    "- Descripcio_Motiu_desplacament_vianant: motiu_desp_vianant\n",
    "- Descripcio_Motiu_desplacament_conductor: motiu_desp_conductor\n",
    "- Descripcio_victimitzacio: victimitzacio\n",
    "- Longitud_WGS84: long\n",
    "- Latitud_WGS84: lat\n"
   ]
  },
  {
   "cell_type": "code",
   "execution_count": 21,
   "id": "0bf480ea-bf63-4081-af66-73a9a17a1599",
   "metadata": {},
   "outputs": [
    {
     "name": "stdout",
     "output_type": "stream",
     "text": [
      "+---------------+--------------+--------------------+--------------------+--------+----+---+---+----+--------------------+--------------------+----+----+-------------+--------------------+------------------+--------------------+--------------------+-----------+------------+\n",
      "|      expedient|     districte|               barri|              carrer| dia_nom| any|mes|dia|hora|       causa_vianant|       tipus_vehicle|sexe|edat|tipus_persona|                lloc|motiu_desp_vianant|motiu_desp_conductor|       victimitzacio|       long|         lat|\n",
      "+---------------+--------------+--------------------+--------------------+--------+----+---+---+----+--------------------+--------------------+----+----+-------------+--------------------+------------------+--------------------+--------------------+-----------+------------+\n",
      "|2023S000001    |Sants-Montjuïc|               Sants|               Badal|Diumenge|2023|  1|  1|  10|No és causa del  ...|Camió rígid > 3,5...|Home|  57|      Vianant|En zona peatonal ...|        Desconegut|          Desconegut|Ferit greu: hospi...|2.130813369|41.374565193|\n",
      "|2023S000003    |  Ciutat Vella|            el Raval|               Carme|Diumenge|2023|  1|  1|   3|Creuar per fora p...|           Furgoneta|Home|  45|      Vianant|Fora del pas     ...|        Desconegut|          Desconegut|Ferit lleu: Hospi...|2.167451891|41.380473178|\n",
      "|2023S000005    |        Gràcia|   la Vila de Gràcia|Riera de Sant Miq...|Diumenge|2023|  1|  1|  17|No és causa del  ...|           Bicicleta|Home|  45|    Conductor|Desconegut       ...|        Desconegut|        Es desconeix|Ferit lleu: Hospi...|2.157160502|41.397448015|\n",
      "|2023S000006    |        Gràcia|   la Vila de Gràcia|Gran de Gràcia / ...|Diumenge|2023|  1|  1|  17|No és causa del  ...|         Motocicleta|Home|  49|    Conductor|Desconegut       ...|        Desconegut|        Es desconeix|Ferit lleu: Amb a...|2.155458526|41.399840547|\n",
      "|2023S000007    |Sants-Montjuïc|la Marina del Pra...|Ramon Albó       ...|Diumenge|2023|  1|  1|  18|No és causa del  ...|         Motocicleta|Home|  27|    Conductor|Desconegut       ...|        Desconegut|        Es desconeix|Ferit lleu: Hospi...|2.177055607|41.426890843|\n",
      "+---------------+--------------+--------------------+--------------------+--------+----+---+---+----+--------------------+--------------------+----+----+-------------+--------------------+------------------+--------------------+--------------------+-----------+------------+\n",
      "only showing top 5 rows\n",
      "\n"
     ]
    }
   ],
   "source": [
    "column_mapping = {\n",
    "        \"Numero_expedient\": \"expedient\", \n",
    "        \"Nom_districte\": \"districte\",\n",
    "        \"Nom_barri\": \"barri\",\n",
    "        \"Nom_carrer\": \"carrer\",\n",
    "        \"Descripcio_dia_setmana\": \"dia_nom\",\n",
    "        \"NK_ Any\": \"any\", \n",
    "        \"Mes_ any\": \"mes\", \n",
    "        \"Dia_mes\": \"dia\",\n",
    "        \"Hora_dia\": \"hora\", \n",
    "        \"Descripcio_causa_vianant\": \"causa_vianant\",\n",
    "        \"Desc_Tipus_vehicle_implicat\": \"tipus_vehicle\",\n",
    "        \"Descripcio_sexe\": \"sexe\",\n",
    "        \"Edat\": \"edat\",\n",
    "        \"Descripció_tipus_persona\": \"tipus_persona\",\n",
    "        \"Descripcio_Lloc_atropellament_vianant\": \"lloc\",\n",
    "        \"Descripcio_Motiu_desplacament_vianant\": \"motiu_desp_vianant\",\n",
    "        \"Descripcio_Motiu_desplacament_conductor\": \"motiu_desp_conductor\",\n",
    "        \"Descripcio_victimitzacio\": \"victimitzacio\",\n",
    "        \"Longitud_WGS84\": \"long\",\n",
    "        \"Latitud_WGS84\": \"lat\"    \n",
    "}\n",
    "\n",
    "features = [x for x,y in column_mapping.items()]\n",
    "\n",
    "df_incidents_person = df_gu_incidents_person.select(features)\n",
    "\n",
    "for old_col, new_col in column_mapping.items():\n",
    "    df_incidents_person = df_incidents_person.withColumnRenamed(old_col, new_col)\n",
    "\n",
    "df_incidents_person.show(5)"
   ]
  },
  {
   "cell_type": "markdown",
   "id": "f0c984db-35cd-4cb2-a1a3-befe3a66a9f8",
   "metadata": {},
   "source": [
    "### 3.3.5 df_gu_incidents_cause -> df_incidents_cause\n",
    "\n",
    "conservem les següents, a les que els hi donarem un nom mes curt:\n",
    "\n",
    "- Numero_expedient : expedient\n",
    "- Nom_districte : districte\n",
    "- Nom_barri : barri\n",
    "- Nom_carrer : carrer\n",
    "- Descripcio_dia_setmana : dia_nom\n",
    "- NK_Any : any\n",
    "- Mes_any : mes\n",
    "- Dia_mes : dia\n",
    "- Hora_dia: hora\n",
    "- Descripcio_causa_mediata: causa\n",
    "- Longitud_WGS84: long\n",
    "- Latitud_WGS84: lat\n"
   ]
  },
  {
   "cell_type": "code",
   "execution_count": 22,
   "id": "78ae1fba-198d-4e00-8800-ea35120f43a1",
   "metadata": {},
   "outputs": [
    {
     "name": "stdout",
     "output_type": "stream",
     "text": [
      "+---------------+--------------+-----------------+--------------------+--------+----+---+---+----+--------------------+-----------+------------+\n",
      "|      expedient|     districte|            barri|              carrer| dia_nom| any|mes|dia|hora|               causa|       long|         lat|\n",
      "+---------------+--------------+-----------------+--------------------+--------+----+---+---+----+--------------------+-----------+------------+\n",
      "|2023S000001    |Sants-Montjuïc|            Sants|Badal / Càceres  ...|Diumenge|2023|  1|  1|  10|No hi ha causa me...|2.130813369|41.374565193|\n",
      "|2023S000002    |Horta-Guinardó| el Baix Guinardó|Encarnació       ...|Diumenge|2023|  1|  1|   3|No hi ha causa me...|2.165512751|41.409867042|\n",
      "|2023S000003    |  Ciutat Vella|         el Raval|Carme            ...|Diumenge|2023|  1|  1|   3|No hi ha causa me...|2.167451891|41.380473178|\n",
      "|2023S000005    |        Gràcia|la Vila de Gràcia|Riera de Sant Miq...|Diumenge|2023|  1|  1|  17|No hi ha causa me...|2.157160502|41.397448015|\n",
      "|2023S000006    |        Gràcia|la Vila de Gràcia|Gran de Gràcia / ...|Diumenge|2023|  1|  1|  17|No hi ha causa me...|2.155458526|41.399840547|\n",
      "+---------------+--------------+-----------------+--------------------+--------+----+---+---+----+--------------------+-----------+------------+\n",
      "only showing top 5 rows\n",
      "\n"
     ]
    }
   ],
   "source": [
    "column_mapping = {\n",
    "        \"Numero_expedient\": \"expedient\", \n",
    "        \"Nom_districte\": \"districte\",\n",
    "        \"Nom_barri\": \"barri\",\n",
    "        \"Nom_carrer\": \"carrer\",\n",
    "        \"Descripcio_dia_setmana\": \"dia_nom\",\n",
    "        \"NK_Any\": \"any\", \n",
    "        \"Mes_any\": \"mes\", \n",
    "        \"Dia_mes\": \"dia\",\n",
    "        \"Hora_dia\": \"hora\", \n",
    "        \"Descripcio_causa_mediata\": \"causa\",\n",
    "        \"Longitud_WGS84\": \"long\",\n",
    "        \"Latitud_WGS84\": \"lat\"    \n",
    "}\n",
    "\n",
    "features = [x for x,y in column_mapping.items()]\n",
    "\n",
    "df_incidents_cause = df_gu_incidents_cause.select(features)\n",
    "\n",
    "for old_col, new_col in column_mapping.items():\n",
    "    df_incidents_cause = df_incidents_cause.withColumnRenamed(old_col, new_col)\n",
    "\n",
    "df_incidents_cause.show(5)"
   ]
  },
  {
   "cell_type": "markdown",
   "id": "3537a8e3-5e70-4826-86f1-de4959c2d3fe",
   "metadata": {},
   "source": [
    "### 3.3.6 df_gu_incidents_driver -> df_incidents_driver\n",
    "\n",
    "conservem les següents, a les que els hi donarem un nom mes curt:\n",
    "\n",
    "- Numero_expedient : expedient\n",
    "- Nom_districte : districte\n",
    "- Nom_barri : barri\n",
    "- Nom_carrer : carrer\n",
    "- Descripcio_dia_setmana : dia_nom\n",
    "- NK_Any : any\n",
    "- Mes_any : mes\n",
    "- Dia_mes : dia\n",
    "- Hora_dia: hora\n",
    "- Descripcio_causa_mediata: causa\n",
    "- Longitud_WGS84: long\n",
    "- Latitud_WGS84: lat\n"
   ]
  },
  {
   "cell_type": "code",
   "execution_count": 23,
   "id": "1bd177f9-ceec-4deb-838d-049f8d8b288e",
   "metadata": {},
   "outputs": [
    {
     "name": "stdout",
     "output_type": "stream",
     "text": [
      "+---------------+----------+----------+--------------------+---------+----+---+---+----+--------------------+-----------+------------+\n",
      "|      expedient| districte|     barri|              carrer|  dia_nom| any|mes|dia|hora|     causa_conductor|       long|         lat|\n",
      "+---------------+----------+----------+--------------------+---------+----+---+---+----+--------------------+-----------+------------+\n",
      "|2023S000699    |Desconegut|Desconegut|Rovira (ascendent...| Dissabte|2023|  2|  4|  16|Manca d'atenció a...|2.166595554|41.413783052|\n",
      "|2023S005197    |Desconegut|Desconegut|Estatut de Catalu...|Divendres|2023|  9|  1|  13|No respectar dist...|2.155015073|41.430598006|\n",
      "|2023S007430    |Desconegut|Desconegut|Rovira (ascendent...|Divendres|2023| 12| 15|  11|No respectar dist...|2.166595554|41.413783052|\n",
      "|2023S000961    |Desconegut|Desconegut|Amílcar          ...| Dissabte|2023|  1| 28|  14|No respectat pas ...|2.172596357|41.423762477|\n",
      "|2023S006486    |Desconegut|Desconegut|Augusta / Hort de...|   Dijous|2023| 11|  2|  14|    Desobeir semàfor|2.124188957|41.399587047|\n",
      "+---------------+----------+----------+--------------------+---------+----+---+---+----+--------------------+-----------+------------+\n",
      "only showing top 5 rows\n",
      "\n"
     ]
    }
   ],
   "source": [
    "column_mapping = {\n",
    "        \"Numero_expedient\": \"expedient\", \n",
    "        \"Nom_districte\": \"districte\",\n",
    "        \"Nom_barri\": \"barri\",\n",
    "        \"Nom_carrer\": \"carrer\",\n",
    "        \"Descripcio_dia_setmana\": \"dia_nom\",\n",
    "        \"NK_Any\": \"any\", \n",
    "        \"Mes_any\": \"mes\", \n",
    "        \"Dia_mes\": \"dia\",\n",
    "        \"Hora_dia\": \"hora\", \n",
    "        \"Descripcio_causa_mediata\": \"causa_conductor\",\n",
    "        \"Longitud_WGS84\": \"long\",\n",
    "        \"Latitud_WGS84\": \"lat\"    \n",
    "}\n",
    "\n",
    "features = [x for x,y in column_mapping.items()]\n",
    "\n",
    "df_incidents_driver = df_gu_incidents_driver.select(features)\n",
    "\n",
    "for old_col, new_col in column_mapping.items():\n",
    "    df_incidents_driver = df_incidents_driver.withColumnRenamed(old_col, new_col)\n",
    "\n",
    "df_incidents_driver.show(5)"
   ]
  },
  {
   "cell_type": "markdown",
   "id": "1c67b104-9e60-48cb-9124-86feb18dc095",
   "metadata": {},
   "source": [
    "### 3.4 Unió dels conjunts de dades\n",
    "TODO eliminar\n"
   ]
  },
  {
   "cell_type": "code",
   "execution_count": 24,
   "id": "775701d3-060d-4413-be20-0abff58ef497",
   "metadata": {},
   "outputs": [
    {
     "name": "stdout",
     "output_type": "stream",
     "text": [
      "df_incidents_vehicle: 14361 incidents\n",
      "df_incidents_driver: 8897 incidents\n",
      "df_incidents_person: 8776 incidents\n",
      "df_incidents_type: 7823 incidents\n",
      "df_incidents: 7724 incidents\n",
      "df_incidents_cause: 7721 incidents\n"
     ]
    }
   ],
   "source": [
    "dfs = {\n",
    "    \"df_incidents\": df_incidents,\n",
    "    \"df_incidents_type\": df_incidents_type,\n",
    "    \"df_incidents_vehicle\": df_incidents_vehicle,\n",
    "    \"df_incidents_person\": df_incidents_person,\n",
    "    \"df_incidents_cause\": df_incidents_cause,\n",
    "    \"df_incidents_driver\": df_incidents_driver\n",
    "}\n",
    "\n",
    "sorted_by_incident_num = {}\n",
    "for name, value in dfs.items():\n",
    "    sorted_by_incident_num[name] = value.count()\n",
    "\n",
    "for i in sorted(sorted_by_incident_num, key=sorted_by_incident_num.get, reverse=True):\n",
    "    print(f\"{i}: {sorted_by_incident_num[i]} incidents\")\n"
   ]
  },
  {
   "cell_type": "markdown",
   "id": "13bb1c27-ab73-42eb-bb9c-f34cf6df7736",
   "metadata": {},
   "source": [
    "Veiem que cadascun dels datasets recullen un diferent nombre d'accidents durant 2023, **df_incidents_vehicle**, el dataset que recull la informació sobre el tipus de vehicle i carnet de conduïr, és el que recull un major nombre d'accidents, realitzarem el JOIN partint d'aquest dataset, i en sentit descendent, de major a menor nombre d'accidents reportats."
   ]
  },
  {
   "cell_type": "code",
   "execution_count": null,
   "id": "32f7d6cd-652b-471d-ae01-410dc8ef3a14",
   "metadata": {},
   "outputs": [],
   "source": []
  },
  {
   "cell_type": "code",
   "execution_count": 26,
   "id": "3bfc0d3b-fb0a-4f8e-9d7a-61d630204c4a",
   "metadata": {},
   "outputs": [
    {
     "data": {
      "text/plain": [
       "'\\nmerged_abc_df = merged_ab_df.join(\\n    df_incidents_person,\\n    merged_ab_df.expedient == df_incidents_person.expedient,\\n    how=\"inner\"      \\n)\\n'"
      ]
     },
     "execution_count": 26,
     "metadata": {},
     "output_type": "execute_result"
    }
   ],
   "source": [
    "# df_incidents_vehicle.createOrReplaceTempView(\"df_incidents_vehicle\")\n",
    "# df_incidents_person.createOrReplaceTempView(\"df_incidents_person\")\n",
    "\n",
    "df_incidents_vehicle.join(\n",
    "    df_incidents_driver,\n",
    "    df_incidents_driver.expedient == df_incidents_vehicle.expedient,\n",
    "    how=\"inner\"    \n",
    ").createOrReplaceTempView(\"merged_df\")\n",
    "\"\"\"\n",
    "merged_abc_df = merged_ab_df.join(\n",
    "    df_incidents_person,\n",
    "    merged_ab_df.expedient == df_incidents_person.expedient,\n",
    "    how=\"inner\"      \n",
    ")\n",
    "\"\"\""
   ]
  },
  {
   "cell_type": "code",
   "execution_count": 28,
   "id": "20d61ca3-5fc8-4977-bd20-1f204b005985",
   "metadata": {},
   "outputs": [
    {
     "name": "stdout",
     "output_type": "stream",
     "text": [
      "+---------------+--------------+--------------------------------------------+------------------------+---------+----+---+---+----+------------------------+------------------------+----------+-----------+-------------------------------+\n",
      "|expedient      |districte     |barri                                       |carrer                  |dia_nom  |any |mes|dia|hora|causa_vianant           |tipus_vehicle           |carnet    |carnet_anys|causa_conductor                |\n",
      "+---------------+--------------+--------------------------------------------+------------------------+---------+----+---+---+----+------------------------+------------------------+----------+-----------+-------------------------------+\n",
      "|2023S007742    |Les Corts     |la Maternitat i Sant Ramon                  |Mig (Descendent)        |Divendres|2023|12 |15 |15  |No és causa del  vianant|Motocicleta             |B         |17         |Canvi de carril sense precaució|\n",
      "|2023S007742    |Les Corts     |la Maternitat i Sant Ramon                  |Mig (Descendent)        |Divendres|2023|12 |15 |15  |No és causa del  vianant|Taxi                    |Desconegut|Desconegut |Canvi de carril sense precaució|\n",
      "|2023S007741    |Les Corts     |la Maternitat i Sant Ramon                  |Joan XXIII              |Divendres|2023|12 |15 |13  |No és causa del  vianant|Motocicleta             |A1        |14         |Desconegut                     |\n",
      "|2023S007740    |Les Corts     |la Maternitat i Sant Ramon                  |Diagonal                |Dissabte |2023|12 |30 |14  |No és causa del  vianant|Furgoneta               |B         |16         |Manca d'atenció a la conducció |\n",
      "|2023S007740    |Les Corts     |la Maternitat i Sant Ramon                  |Diagonal                |Dissabte |2023|12 |30 |14  |No és causa del  vianant|Turisme                 |B         |12         |Manca d'atenció a la conducció |\n",
      "|2023S007740    |Les Corts     |la Maternitat i Sant Ramon                  |Diagonal                |Dissabte |2023|12 |30 |14  |No és causa del  vianant|Turisme                 |B         |54         |Manca d'atenció a la conducció |\n",
      "|2023S007739    |Gràcia        |el Camp d'en Grassot i Gràcia Nova          |Sant Antoni Maria Claret|Divendres|2023|11 |24 |18  |No és causa del  vianant|Motocicleta             |B         |11         |Desconegut                     |\n",
      "|2023S007739    |Gràcia        |el Camp d'en Grassot i Gràcia Nova          |Sant Antoni Maria Claret|Divendres|2023|11 |24 |18  |No és causa del  vianant|Taxi                    |B         |6          |Desconegut                     |\n",
      "|2023S007738    |Sant Martí    |Diagonal Mar i el Front Marítim del Poblenou|Litoral (Besòs)         |Dimarts  |2023|12 |5  |16  |No és causa del  vianant|Camió rígid <= 3,5 tones|B         |22         |Desconegut                     |\n",
      "|2023S007738    |Sant Martí    |Diagonal Mar i el Front Marítim del Poblenou|Litoral (Besòs)         |Dimarts  |2023|12 |5  |16  |No és causa del  vianant|Motocicleta             |A         |19         |Desconegut                     |\n",
      "|2023S007737    |Horta-Guinardó|el Carmel                                   |Carmel                  |Dilluns  |2023|10 |9  |18  |No és causa del  vianant|Motocicleta             |A2        |7          |Altres                         |\n",
      "|2023S007736    |Sants-Montjuïc|el Poble-sec                                |Paral·lel               |Dilluns  |2023|12 |18 |15  |No és causa del  vianant|Bicicleta               |B         |19         |No determinada                 |\n",
      "|2023S007736    |Sants-Montjuïc|el Poble-sec                                |Paral·lel               |Dilluns  |2023|12 |18 |15  |No és causa del  vianant|Turisme                 |Desconegut|Desconegut |No determinada                 |\n",
      "|2023S007735    |Sants-Montjuïc|la Marina de Port                           |Zona Franca             |Divendres|2023|9  |29 |13  |No és causa del  vianant|Motocicleta             |A         |5          |Manca d'atenció a la conducció |\n",
      "|2023S007735    |Sants-Montjuïc|la Marina de Port                           |Zona Franca             |Divendres|2023|9  |29 |13  |No és causa del  vianant|Motocicleta             |B         |5          |Manca d'atenció a la conducció |\n",
      "|2023S007735    |Sants-Montjuïc|la Marina de Port                           |Zona Franca             |Divendres|2023|9  |29 |13  |No és causa del  vianant|Turisme                 |B         |11         |Manca d'atenció a la conducció |\n",
      "|2023S007734    |Eixample      |l'Antiga Esquerra de l'Eixample             |Aribau                  |Dijous   |2023|12 |14 |19  |No és causa del  vianant|Motocicleta             |A         |47         |Canvi de carril sense precaució|\n",
      "|2023S007734    |Eixample      |l'Antiga Esquerra de l'Eixample             |Aribau                  |Dijous   |2023|12 |14 |19  |No és causa del  vianant|Turisme                 |Desconegut|Desconegut |Canvi de carril sense precaució|\n",
      "|2023S007733    |Horta-Guinardó|Horta                                       |Eduard Toda             |Dissabte |2023|12 |30 |12  |No és causa del  vianant|Autobús                 |Desconegut|Desconegut |No determinada                 |\n",
      "|2023S007733    |Horta-Guinardó|Horta                                       |Eduard Toda             |Dissabte |2023|12 |30 |12  |No és causa del  vianant|Turisme                 |B         |28         |No determinada                 |\n",
      "+---------------+--------------+--------------------------------------------+------------------------+---------+----+---+---+----+------------------------+------------------------+----------+-----------+-------------------------------+\n",
      "only showing top 20 rows\n",
      "\n"
     ]
    }
   ],
   "source": [
    "merged_df = spark.sql(\"SELECT * FROM merged_df\")\n",
    "merged_df = merged_df.select(\n",
    "    df_incidents_vehicle.expedient,\n",
    "    df_incidents_vehicle.districte,\n",
    "    df_incidents_vehicle.barri,\n",
    "    df_incidents_vehicle.carrer,\n",
    "    df_incidents_vehicle.dia_nom,\n",
    "    df_incidents_vehicle.any,\n",
    "    df_incidents_vehicle.mes,\n",
    "    df_incidents_vehicle.dia,\n",
    "    df_incidents_vehicle.hora,\n",
    "    df_incidents_vehicle.causa_vianant, \n",
    "    df_incidents_vehicle.tipus_vehicle,\n",
    "    df_incidents_vehicle.carnet,\n",
    "    df_incidents_vehicle.carnet_anys,\n",
    "    df_incidents_driver.causa_conductor)\n",
    "\n",
    "merged_df.orderBy(df_incidents_vehicle.expedient.desc()).show(20, truncate=False)"
   ]
  },
  {
   "cell_type": "markdown",
   "id": "53ad3958-412e-4a70-b6f7-ecc0546e4e36",
   "metadata": {},
   "source": [
    "## 4. Anàlisi de les dades"
   ]
  },
  {
   "cell_type": "markdown",
   "id": "859ba028-e1be-405e-ae43-cca5d70a44e6",
   "metadata": {},
   "source": [
    "### 4.1 Análisi de df_incidents"
   ]
  },
  {
   "cell_type": "markdown",
   "id": "7e39b0cb-0f13-4628-9c7c-187fc0c96f7a",
   "metadata": {},
   "source": [
    "#### 4.1.1 incidents per districte"
   ]
  },
  {
   "cell_type": "code",
   "execution_count": 46,
   "id": "73f4c4bf-61b4-4ec2-9b7f-966f87d4cd53",
   "metadata": {},
   "outputs": [
    {
     "name": "stdout",
     "output_type": "stream",
     "text": [
      "+-------------------+-----+\n",
      "|districte          |count|\n",
      "+-------------------+-----+\n",
      "|Eixample           |2102 |\n",
      "|Sant Martí         |922  |\n",
      "|Sarrià-Sant Gervasi|855  |\n",
      "|Sants-Montjuïc     |813  |\n",
      "|Horta-Guinardó     |568  |\n",
      "|Les Corts          |565  |\n",
      "|Sant Andreu        |547  |\n",
      "|Nou Barris         |453  |\n",
      "|Ciutat Vella       |434  |\n",
      "|Gràcia             |375  |\n",
      "|Desconegut         |90   |\n",
      "+-------------------+-----+\n",
      "\n"
     ]
    }
   ],
   "source": [
    "def freq(df, var):\n",
    "    # Get frequency table for the specified variable\n",
    "    tmp_freq = df.groupBy(var).count()\n",
    "    return tmp_freq\n",
    "    \n",
    "freq_result = freq(df_incidents, 'districte')\n",
    "freq_result.orderBy(freq_result['count'].desc()).show(truncate=False)"
   ]
  },
  {
   "cell_type": "markdown",
   "id": "bf996dd2-357e-4cd4-b3c2-51cb7a7651f0",
   "metadata": {},
   "source": [
    "#### 4.1.2 incidents per barri"
   ]
  },
  {
   "cell_type": "code",
   "execution_count": 56,
   "id": "e1eb58fa-d5e6-4c6d-8cc4-1a83223c67e4",
   "metadata": {},
   "outputs": [
    {
     "name": "stdout",
     "output_type": "stream",
     "text": [
      "A Barcelona hi ha 74 barris\n"
     ]
    }
   ],
   "source": [
    "from pyspark.sql.functions import countDistinct\n",
    "num_barris = df_incidents.groupBy(\"barri\").agg(countDistinct(\"barri\")).count()\n",
    "print(f\"A Barcelona hi ha {num_barris} barris\")"
   ]
  },
  {
   "cell_type": "code",
   "execution_count": 82,
   "id": "27d96103-99bd-49f1-8d31-c311ca08a7c0",
   "metadata": {},
   "outputs": [
    {
     "name": "stdout",
     "output_type": "stream",
     "text": [
      "+--------------------------------------------+-----+\n",
      "|barri                                       |count|\n",
      "+--------------------------------------------+-----+\n",
      "|la Dreta de l'Eixample                      |742  |\n",
      "|l'Antiga Esquerra de l'Eixample             |416  |\n",
      "|Sant Gervasi - Galvany                      |301  |\n",
      "|la Nova Esquerra de l'Eixample              |267  |\n",
      "|la Sagrada Família                          |265  |\n",
      "|les Corts                                   |244  |\n",
      "|Sant Antoni                                 |207  |\n",
      "|el Fort Pienc                               |205  |\n",
      "|Sant Gervasi - la Bonanova                  |202  |\n",
      "|la Marina del Prat Vermell                  |188  |\n",
      "|la Maternitat i Sant Ramon                  |180  |\n",
      "|el Poble-sec                                |178  |\n",
      "|Sarrià                                      |146  |\n",
      "|Sant Andreu                                 |144  |\n",
      "|Pedralbes                                   |141  |\n",
      "|el Raval                                    |137  |\n",
      "|el Bon Pastor                               |135  |\n",
      "|el Camp de l'Arpa del Clot                  |130  |\n",
      "|la Vila de Gràcia                           |128  |\n",
      "|Horta                                       |127  |\n",
      "|el Poblenou                                 |125  |\n",
      "|Provençals del Poblenou                     |118  |\n",
      "|Sant Pere, Santa Caterina i la Ribera       |108  |\n",
      "|la Marina de Port                           |106  |\n",
      "|el Clot                                     |101  |\n",
      "|el Parc i la Llacuna del Poblenou           |100  |\n",
      "|el Putxet i el Farró                        |99   |\n",
      "|el Baix Guinardó                            |96   |\n",
      "|Sants                                       |96   |\n",
      "|el Barri Gòtic                              |95   |\n",
      "|Vallcarca i els Penitents                   |94   |\n",
      "|la Barceloneta                              |94   |\n",
      "|Diagonal Mar i el Front Marítim del Poblenou|93   |\n",
      "|Hostafrancs                                 |93   |\n",
      "|Desconegut                                  |90   |\n",
      "|el Camp d'en Grassot i Gràcia Nova          |88   |\n",
      "|les Tres Torres                             |88   |\n",
      "|el Guinardó                                 |84   |\n",
      "|la Vila Olímpica del Poblenou               |84   |\n",
      "|la Bordeta                                  |74   |\n",
      "|Vilapicina i la Torre Llobeta               |72   |\n",
      "|Sant Martí de Provençals                    |72   |\n",
      "|la Trinitat Vella                           |70   |\n",
      "|la Sagrera                                  |67   |\n",
      "|Navas                                       |66   |\n",
      "|la Vall d'Hebron                            |61   |\n",
      "|la Trinitat Nova                            |58   |\n",
      "|Porta                                       |57   |\n",
      "|la Prosperitat                              |57   |\n",
      "|la Verneda i la Pau                         |54   |\n",
      "|Sants - Badal                               |52   |\n",
      "|el Carmel                                   |51   |\n",
      "|la Salut                                    |51   |\n",
      "|la Guineueta                                |47   |\n",
      "|el Besòs i el Maresme                       |45   |\n",
      "|Canyelles                                   |43   |\n",
      "|Sant Genís dels Agudells                    |43   |\n",
      "|les Roquetes                                |41   |\n",
      "|Montbau                                     |41   |\n",
      "|el Congrés i els Indians                    |38   |\n",
      "|Baró de Viver                               |27   |\n",
      "|la Font de la Guatlla                       |26   |\n",
      "|el Turó de la Peira                         |25   |\n",
      "|la Font d'en Fargues                        |24   |\n",
      "|la Teixonera                                |21   |\n",
      "|Verdun                                      |20   |\n",
      "|Vallvidrera, el Tibidabo i les Planes       |19   |\n",
      "|el Coll                                     |14   |\n",
      "|Ciutat Meridiana                            |12   |\n",
      "|la Clota                                    |11   |\n",
      "|Torre Baró                                  |10   |\n",
      "|Can Baró                                    |9    |\n",
      "|Can Peguera                                 |7    |\n",
      "|Vallbona                                    |4    |\n",
      "+--------------------------------------------+-----+\n",
      "\n"
     ]
    }
   ],
   "source": [
    "freq_result = freq(df_incidents, 'barri')\n",
    "freq_result.orderBy(freq_result['count'].desc()).show(num_barris, truncate=False)"
   ]
  },
  {
   "cell_type": "markdown",
   "id": "0d51af24-49e3-4d0a-a428-13fc2e3f9d7f",
   "metadata": {},
   "source": [
    "#### 4.1.3 dies de la setmana amb un major nombre d'incidents"
   ]
  },
  {
   "cell_type": "code",
   "execution_count": 59,
   "id": "1ef4af15-ed13-49ab-9808-5df417ce2407",
   "metadata": {},
   "outputs": [
    {
     "name": "stdout",
     "output_type": "stream",
     "text": [
      "+---------+-----+\n",
      "|dia_nom  |count|\n",
      "+---------+-----+\n",
      "|Divendres|1268 |\n",
      "|Dimecres |1247 |\n",
      "|Dijous   |1231 |\n",
      "|Dimarts  |1181 |\n",
      "|Dilluns  |1160 |\n",
      "|Dissabte |906  |\n",
      "|Diumenge |731  |\n",
      "+---------+-----+\n",
      "\n"
     ]
    }
   ],
   "source": [
    "freq_result = freq(df_incidents, 'dia_nom')\n",
    "freq_result.orderBy(freq_result['count'].desc()).show( truncate=False)"
   ]
  },
  {
   "cell_type": "markdown",
   "id": "2ac91541-39b0-4731-8b83-10117f2e0340",
   "metadata": {},
   "source": [
    "#### 4.1.4 mesos de l'any amb un major nombre d'incidents"
   ]
  },
  {
   "cell_type": "code",
   "execution_count": 69,
   "id": "4ac2bc4b-c59b-4cda-b887-bc542f118530",
   "metadata": {},
   "outputs": [
    {
     "name": "stdout",
     "output_type": "stream",
     "text": [
      "+---+-----+\n",
      "|mes|count|\n",
      "+---+-----+\n",
      "|1  |610  |\n",
      "|2  |586  |\n",
      "|3  |667  |\n",
      "|4  |678  |\n",
      "|5  |708  |\n",
      "|6  |710  |\n",
      "|7  |689  |\n",
      "|8  |538  |\n",
      "|9  |594  |\n",
      "|10 |679  |\n",
      "|11 |679  |\n",
      "|12 |586  |\n",
      "+---+-----+\n",
      "\n"
     ]
    }
   ],
   "source": [
    "freq_result = freq(df_incidents, 'mes')\n",
    "freq_result.orderBy(freq_result['mes']).show( truncate=False)"
   ]
  },
  {
   "cell_type": "markdown",
   "id": "e3104dad-fad5-43db-b083-d1f777bafcb2",
   "metadata": {},
   "source": [
    "#### 4.1.5 hores del dia amb un major nombre d'incidents"
   ]
  },
  {
   "cell_type": "code",
   "execution_count": 66,
   "id": "ce74c976-51ac-48db-94a8-380ee424c248",
   "metadata": {},
   "outputs": [
    {
     "name": "stdout",
     "output_type": "stream",
     "text": [
      "+----+-----+\n",
      "|hora|count|\n",
      "+----+-----+\n",
      "|0   |155  |\n",
      "|1   |100  |\n",
      "|2   |76   |\n",
      "|3   |70   |\n",
      "|4   |62   |\n",
      "|5   |76   |\n",
      "|6   |129  |\n",
      "|7   |221  |\n",
      "|8   |422  |\n",
      "|9   |395  |\n",
      "|10  |350  |\n",
      "|11  |398  |\n",
      "|12  |466  |\n",
      "|13  |513  |\n",
      "|14  |569  |\n",
      "|15  |467  |\n",
      "|16  |507  |\n",
      "|17  |538  |\n",
      "|18  |530  |\n",
      "|19  |521  |\n",
      "|20  |440  |\n",
      "|21  |327  |\n",
      "|22  |217  |\n",
      "|23  |175  |\n",
      "+----+-----+\n",
      "\n"
     ]
    }
   ],
   "source": [
    "freq_result = freq(df_incidents, 'hora')\n",
    "freq_result.orderBy(freq_result['hora']).show(24, truncate=False)"
   ]
  },
  {
   "cell_type": "markdown",
   "id": "2acb7d0d-c808-4fd7-a01f-2c529fa820b9",
   "metadata": {},
   "source": [
    "#### 4.1.6 nombre de vehicles implicats"
   ]
  },
  {
   "cell_type": "code",
   "execution_count": 73,
   "id": "5575eee0-fd4c-4c3e-8d87-6f64eeef1cd6",
   "metadata": {},
   "outputs": [
    {
     "name": "stdout",
     "output_type": "stream",
     "text": [
      "+------------+-----+\n",
      "|num_vehicles|count|\n",
      "+------------+-----+\n",
      "|2           |5103 |\n",
      "|1           |1978 |\n",
      "|3           |484  |\n",
      "|4           |103  |\n",
      "|5           |26   |\n",
      "|6           |12   |\n",
      "|7           |5    |\n",
      "|0           |4    |\n",
      "|8           |3    |\n",
      "|13          |2    |\n",
      "|9           |2    |\n",
      "|11          |1    |\n",
      "|18          |1    |\n",
      "+------------+-----+\n",
      "\n"
     ]
    }
   ],
   "source": [
    "freq_result = freq(df_incidents, 'num_vehicles')\n",
    "freq_result.orderBy(freq_result['count'].desc()).show( truncate=False)"
   ]
  },
  {
   "cell_type": "markdown",
   "id": "7c048919-14fd-43c2-8aaa-ee743b8cab80",
   "metadata": {},
   "source": [
    "#### 4.1.7 nombre d'accidents mortals"
   ]
  },
  {
   "cell_type": "code",
   "execution_count": 74,
   "id": "d9f267d6-91d8-4f7f-85f3-cc3557ec6cd5",
   "metadata": {},
   "outputs": [
    {
     "name": "stdout",
     "output_type": "stream",
     "text": [
      "+-----+-----+\n",
      "|morts|count|\n",
      "+-----+-----+\n",
      "|0    |7703 |\n",
      "|1    |21   |\n",
      "+-----+-----+\n",
      "\n"
     ]
    }
   ],
   "source": [
    "freq_result = freq(df_incidents, 'morts')\n",
    "freq_result.orderBy(freq_result['count'].desc()).show(truncate=False)"
   ]
  },
  {
   "cell_type": "markdown",
   "id": "f6300ae9-ec40-413b-8636-115f1307709b",
   "metadata": {},
   "source": [
    "#### 4.1.7 nombre de ferits"
   ]
  },
  {
   "cell_type": "code",
   "execution_count": 75,
   "id": "25991b62-5482-4724-83f5-4e3e4064fca4",
   "metadata": {},
   "outputs": [
    {
     "name": "stdout",
     "output_type": "stream",
     "text": [
      "+-----+-----+\n",
      "|greus|count|\n",
      "+-----+-----+\n",
      "|0    |7511 |\n",
      "|1    |202  |\n",
      "|2    |7    |\n",
      "|3    |4    |\n",
      "+-----+-----+\n",
      "\n"
     ]
    }
   ],
   "source": [
    "freq_result = freq(df_incidents, 'greus')\n",
    "freq_result.orderBy(freq_result['count'].desc()).show(truncate=False)"
   ]
  },
  {
   "cell_type": "code",
   "execution_count": 76,
   "id": "a860911b-30d4-4c1b-ad42-676e346b8ee7",
   "metadata": {},
   "outputs": [
    {
     "name": "stdout",
     "output_type": "stream",
     "text": [
      "+-----+-----+\n",
      "|lleus|count|\n",
      "+-----+-----+\n",
      "|1    |5387 |\n",
      "|0    |1026 |\n",
      "|2    |1022 |\n",
      "|3    |180  |\n",
      "|4    |50   |\n",
      "|6    |24   |\n",
      "|5    |19   |\n",
      "|7    |9    |\n",
      "|8    |4    |\n",
      "|12   |1    |\n",
      "|10   |1    |\n",
      "|25   |1    |\n",
      "+-----+-----+\n",
      "\n"
     ]
    }
   ],
   "source": [
    "freq_result = freq(df_incidents, 'lleus')\n",
    "freq_result.orderBy(freq_result['count'].desc()).show(truncate=False)"
   ]
  },
  {
   "cell_type": "markdown",
   "id": "9ee0185a-9f12-4f89-98da-814d72d48e57",
   "metadata": {},
   "source": [
    "#### 4.1.8 accidents a causa del vianant"
   ]
  },
  {
   "cell_type": "code",
   "execution_count": 77,
   "id": "9234662e-00f0-4cbf-848b-b98ce8330ea6",
   "metadata": {},
   "outputs": [
    {
     "name": "stdout",
     "output_type": "stream",
     "text": [
      "+-------------------------------+-----+\n",
      "|causa_vianant                  |count|\n",
      "+-------------------------------+-----+\n",
      "|No és causa del  vianant       |7249 |\n",
      "|Desobeir el senyal del semàfor |181  |\n",
      "|Creuar per fora pas de vianants|147  |\n",
      "|Altres                         |92   |\n",
      "|Transitar a peu per la calçada |48   |\n",
      "|Desobeir altres senyals        |7    |\n",
      "+-------------------------------+-----+\n",
      "\n"
     ]
    }
   ],
   "source": [
    "freq_result = freq(df_incidents, 'causa_vianant')\n",
    "freq_result.orderBy(freq_result['count'].desc()).show(truncate=False)"
   ]
  },
  {
   "cell_type": "markdown",
   "id": "e6f95f7f-1fb1-45a9-aaa2-788ea735dc85",
   "metadata": {},
   "source": [
    "### 4.2 Análisi de df_incidents_type"
   ]
  },
  {
   "cell_type": "markdown",
   "id": "55b86b55-b058-44bb-b548-5a32d407077f",
   "metadata": {},
   "source": [
    "#### 4.2.1 Tipus d'accident"
   ]
  },
  {
   "cell_type": "code",
   "execution_count": 78,
   "id": "e784f0fa-1807-46c2-99b8-c5be49ab3eee",
   "metadata": {},
   "outputs": [
    {
     "name": "stdout",
     "output_type": "stream",
     "text": [
      "+----------------------------------+-----+\n",
      "|tipus_accident                    |count|\n",
      "+----------------------------------+-----+\n",
      "|Col.lisió lateral                 |1812 |\n",
      "|Abast                             |1638 |\n",
      "|Col.lisió fronto-lateral          |1234 |\n",
      "|Atropellament                     |927  |\n",
      "|Xoc contra element estàtic        |653  |\n",
      "|Caiguda (dues rodes)              |580  |\n",
      "|Caiguda interior vehicle          |367  |\n",
      "|Abast multiple                    |209  |\n",
      "|Altres                            |181  |\n",
      "|Col.lisió frontal                 |143  |\n",
      "|Encalç                            |26   |\n",
      "|Desconegut                        |19   |\n",
      "|Xoc amb animal a la calçada       |13   |\n",
      "|Sortida de via amb xoc o col.lisió|12   |\n",
      "|Bolcada (més de dues rodes)       |7    |\n",
      "|Sortida de via amb bolcada        |2    |\n",
      "+----------------------------------+-----+\n",
      "\n"
     ]
    }
   ],
   "source": [
    "freq_result = freq(df_incidents_type, 'tipus_accident')\n",
    "freq_result.orderBy(freq_result['count'].desc()).show(truncate=False)"
   ]
  },
  {
   "cell_type": "markdown",
   "id": "23fdf0dd-7f8a-4225-ac67-1759e297b4ea",
   "metadata": {},
   "source": [
    "### 4.3 Análisi de df_incidents_vehicle"
   ]
  },
  {
   "cell_type": "markdown",
   "id": "afdf3fbd-c2cc-4fe3-95d6-0c97f2d8c7de",
   "metadata": {},
   "source": [
    "#### 4.3.1 Tipus de vehicle implicat"
   ]
  },
  {
   "cell_type": "code",
   "execution_count": 80,
   "id": "fee132ce-7ca4-4eea-a676-5e4b8f52cf4f",
   "metadata": {},
   "outputs": [
    {
     "name": "stdout",
     "output_type": "stream",
     "text": [
      "27 tipus de vehicles diferents implicats en accidents\n"
     ]
    }
   ],
   "source": [
    "num_tipus_vehicles = df_incidents_vehicle.groupBy(\"tipus_vehicle\").agg(countDistinct(\"tipus_vehicle\")).count()\n",
    "print(f\"{num_tipus_vehicles} tipus de vehicles diferents implicats en accidents\")"
   ]
  },
  {
   "cell_type": "code",
   "execution_count": 81,
   "id": "7e49d72c-4a82-4262-8133-74b60bf62763",
   "metadata": {},
   "outputs": [
    {
     "name": "stdout",
     "output_type": "stream",
     "text": [
      "+-----------------------------------+-----+\n",
      "|tipus_vehicle                      |count|\n",
      "+-----------------------------------+-----+\n",
      "|Turisme                            |5364 |\n",
      "|Motocicleta                        |4340 |\n",
      "|Furgoneta                          |984  |\n",
      "|Veh. mobilitat personal amb motor  |772  |\n",
      "|Bicicleta                          |724  |\n",
      "|Autobús                            |476  |\n",
      "|Taxi                               |402  |\n",
      "|Ciclomotor                         |383  |\n",
      "|Camió rígid <= 3,5 tones           |199  |\n",
      "|Camió rígid > 3,5 tones            |163  |\n",
      "|Autobús articulat                  |163  |\n",
      "|Tot terreny                        |132  |\n",
      "|Desconegut                         |56   |\n",
      "|Tractor camió                      |49   |\n",
      "|Ambulància                         |31   |\n",
      "|Altres vehicles amb motor          |29   |\n",
      "|Maquinària d'obres i serveis       |23   |\n",
      "|Veh. mobilitat personal sense motor|18   |\n",
      "|Tren o tramvia                     |14   |\n",
      "|Tricicle                           |8    |\n",
      "|Autocaravana                       |8    |\n",
      "|Autocar                            |7    |\n",
      "|Quadricicle < 75 cc                |6    |\n",
      "|NULL                               |4    |\n",
      "|Pick-up                            |3    |\n",
      "|Altres vehicles sense motor        |2    |\n",
      "|Quadricicle > 75 cc                |1    |\n",
      "+-----------------------------------+-----+\n",
      "\n"
     ]
    }
   ],
   "source": [
    "freq_result = freq(df_incidents_vehicle, 'tipus_vehicle')\n",
    "freq_result.orderBy(freq_result['count'].desc()).show(num_tipus_vehicles, truncate=False)"
   ]
  },
  {
   "cell_type": "markdown",
   "id": "8a9ab7b2-8ca0-46ed-a1e3-207b3f6a59af",
   "metadata": {},
   "source": [
    "#### 4.3.2 Tipus de carnet i antiguitat"
   ]
  },
  {
   "cell_type": "code",
   "execution_count": 84,
   "id": "4e1554aa-e43f-45a6-9806-ea681c7a7e39",
   "metadata": {},
   "outputs": [
    {
     "name": "stdout",
     "output_type": "stream",
     "text": [
      "+------------+-----+\n",
      "|carnet      |count|\n",
      "+------------+-----+\n",
      "|B           |9035 |\n",
      "|Desconegut  |2534 |\n",
      "|A           |1081 |\n",
      "|D           |572  |\n",
      "|A2          |481  |\n",
      "|C           |181  |\n",
      "|A1          |168  |\n",
      "|AM          |151  |\n",
      "|D1          |23   |\n",
      "|E C         |23   |\n",
      "|Sense permís|20   |\n",
      "|B1          |19   |\n",
      "|E D         |19   |\n",
      "|C1          |15   |\n",
      "|Es desconeix|13   |\n",
      "|Llicència   |6    |\n",
      "|BTP         |6    |\n",
      "|E C1        |5    |\n",
      "|NULL        |4    |\n",
      "|E B         |3    |\n",
      "|E D1        |2    |\n",
      "+------------+-----+\n",
      "\n"
     ]
    }
   ],
   "source": [
    "freq_result = freq(df_incidents_vehicle, 'carnet')\n",
    "freq_result.orderBy(freq_result['count'].desc()).show(25,truncate=False)"
   ]
  },
  {
   "cell_type": "code",
   "execution_count": 90,
   "id": "7ee1ce58-76b7-4095-9e8a-7a54a0ddd6a1",
   "metadata": {},
   "outputs": [
    {
     "name": "stdout",
     "output_type": "stream",
     "text": [
      "+-----------+-----+\n",
      "|carnet_anys|count|\n",
      "+-----------+-----+\n",
      "|Desconegut |2873 |\n",
      "|2          |549  |\n",
      "|1          |543  |\n",
      "|5          |445  |\n",
      "|4          |419  |\n",
      "|3          |384  |\n",
      "|6          |379  |\n",
      "|7          |378  |\n",
      "|15         |368  |\n",
      "|16         |335  |\n",
      "|8          |320  |\n",
      "|14         |318  |\n",
      "|17         |315  |\n",
      "|9          |313  |\n",
      "|18         |309  |\n",
      "|13         |304  |\n",
      "|12         |290  |\n",
      "|11         |285  |\n",
      "|19         |284  |\n",
      "|10         |282  |\n",
      "|20         |265  |\n",
      "|21         |222  |\n",
      "|28         |215  |\n",
      "|27         |209  |\n",
      "|31         |205  |\n",
      "|30         |203  |\n",
      "|34         |197  |\n",
      "|29         |194  |\n",
      "|32         |194  |\n",
      "|33         |186  |\n",
      "|36         |186  |\n",
      "|26         |170  |\n",
      "|35         |166  |\n",
      "|22         |165  |\n",
      "|25         |158  |\n",
      "|23         |152  |\n",
      "|24         |146  |\n",
      "|37         |140  |\n",
      "|38         |134  |\n",
      "|39         |119  |\n",
      "|41         |110  |\n",
      "|40         |96   |\n",
      "|43         |88   |\n",
      "|44         |79   |\n",
      "|46         |74   |\n",
      "|42         |62   |\n",
      "|45         |60   |\n",
      "|47         |54   |\n",
      "|50         |43   |\n",
      "|48         |40   |\n",
      "|49         |38   |\n",
      "|52         |34   |\n",
      "|51         |33   |\n",
      "|0          |29   |\n",
      "|53         |25   |\n",
      "|54         |24   |\n",
      "|56         |22   |\n",
      "|58         |20   |\n",
      "|57         |20   |\n",
      "|59         |17   |\n",
      "|60         |16   |\n",
      "|55         |15   |\n",
      "|62         |13   |\n",
      "|61         |8    |\n",
      "|63         |5    |\n",
      "|NULL       |4    |\n",
      "|65         |4    |\n",
      "|67         |3    |\n",
      "|64         |2    |\n",
      "|66         |2    |\n",
      "|72         |1    |\n",
      "|76         |1    |\n",
      "+-----------+-----+\n",
      "\n"
     ]
    }
   ],
   "source": [
    "freq_result = freq(df_incidents_vehicle, 'carnet_anys')\n",
    "freq_result.orderBy(freq_result['count'].desc()).show(80,truncate=False)"
   ]
  },
  {
   "cell_type": "markdown",
   "id": "029bf322-594a-4047-b245-e47f04023a00",
   "metadata": {},
   "source": [
    "#### 4.3.3 Causa vianant"
   ]
  },
  {
   "cell_type": "code",
   "execution_count": 91,
   "id": "c0a0d4f9-5f9f-43d2-9bba-f8d6fbbe6e51",
   "metadata": {},
   "outputs": [
    {
     "name": "stdout",
     "output_type": "stream",
     "text": [
      "+-------------------------------+-----+\n",
      "|causa_vianant                  |count|\n",
      "+-------------------------------+-----+\n",
      "|No és causa del  vianant       |13843|\n",
      "|Desobeir el senyal del semàfor |192  |\n",
      "|Creuar per fora pas de vianants|160  |\n",
      "|Altres                         |102  |\n",
      "|Transitar a peu per la calçada |52   |\n",
      "|Desobeir altres senyals        |12   |\n",
      "+-------------------------------+-----+\n",
      "\n"
     ]
    }
   ],
   "source": [
    "freq_result = freq(df_incidents_vehicle, 'causa_vianant')\n",
    "freq_result.orderBy(freq_result['count'].desc()).show(80,truncate=False)"
   ]
  },
  {
   "cell_type": "markdown",
   "id": "cc67030f-064e-4e59-97fb-789f8060effc",
   "metadata": {},
   "source": [
    "### 4.4 Análisi de df_incidents_person"
   ]
  },
  {
   "cell_type": "markdown",
   "id": "7a157d9e-51c9-42b3-9453-94e111f1b634",
   "metadata": {},
   "source": [
    "### 4.4.1 Tipus de persona implicada, conductor, passatger o vianant"
   ]
  },
  {
   "cell_type": "code",
   "execution_count": 93,
   "id": "33590c6a-d7c3-4101-bd37-23463033dccb",
   "metadata": {},
   "outputs": [
    {
     "name": "stdout",
     "output_type": "stream",
     "text": [
      "+-------------+-----+\n",
      "|tipus_persona|count|\n",
      "+-------------+-----+\n",
      "|Conductor    |6053 |\n",
      "|Passatger    |1759 |\n",
      "|Vianant      |964  |\n",
      "+-------------+-----+\n",
      "\n"
     ]
    }
   ],
   "source": [
    "freq_result = freq(df_incidents_person, 'tipus_persona')\n",
    "freq_result.orderBy(freq_result['count'].desc()).show(truncate=False)"
   ]
  },
  {
   "cell_type": "markdown",
   "id": "91908dbf-1549-4619-8af5-c2df78217c00",
   "metadata": {},
   "source": [
    "### 4.4.2 Edat i sexe"
   ]
  },
  {
   "cell_type": "code",
   "execution_count": 94,
   "id": "9db25ee6-fd19-4115-a3bc-2897be4346c7",
   "metadata": {},
   "outputs": [
    {
     "name": "stdout",
     "output_type": "stream",
     "text": [
      "+----+-----+\n",
      "|sexe|count|\n",
      "+----+-----+\n",
      "|Home|5182 |\n",
      "|Dona|3594 |\n",
      "+----+-----+\n",
      "\n"
     ]
    }
   ],
   "source": [
    "freq_result = freq(df_incidents_person, 'sexe')\n",
    "freq_result.orderBy(freq_result['count'].desc()).show(truncate=False)"
   ]
  },
  {
   "cell_type": "code",
   "execution_count": 96,
   "id": "bdbe31a7-0f35-4055-a108-ac66a3fde94d",
   "metadata": {},
   "outputs": [
    {
     "name": "stdout",
     "output_type": "stream",
     "text": [
      "+----+-----+\n",
      "|edat|count|\n",
      "+----+-----+\n",
      "|30  |275  |\n",
      "|27  |251  |\n",
      "|26  |237  |\n",
      "|31  |236  |\n",
      "|28  |231  |\n",
      "|29  |229  |\n",
      "|33  |214  |\n",
      "|24  |214  |\n",
      "|32  |211  |\n",
      "|25  |208  |\n",
      "|23  |205  |\n",
      "|34  |190  |\n",
      "|39  |182  |\n",
      "|42  |178  |\n",
      "|35  |178  |\n",
      "|37  |178  |\n",
      "|22  |170  |\n",
      "|36  |169  |\n",
      "|45  |166  |\n",
      "|52  |163  |\n",
      "|40  |163  |\n",
      "|48  |162  |\n",
      "|38  |158  |\n",
      "|44  |158  |\n",
      "|46  |156  |\n",
      "|47  |155  |\n",
      "|50  |155  |\n",
      "|51  |154  |\n",
      "|41  |154  |\n",
      "|53  |147  |\n",
      "|54  |146  |\n",
      "|43  |139  |\n",
      "|20  |137  |\n",
      "|56  |137  |\n",
      "|21  |137  |\n",
      "|55  |134  |\n",
      "|49  |131  |\n",
      "|58  |127  |\n",
      "|59  |123  |\n",
      "|19  |119  |\n",
      "|57  |112  |\n",
      "|18  |93   |\n",
      "|60  |92   |\n",
      "|62  |90   |\n",
      "|61  |89   |\n",
      "|64  |70   |\n",
      "|63  |65   |\n",
      "|65  |65   |\n",
      "|66  |58   |\n",
      "|75  |54   |\n",
      "+----+-----+\n",
      "only showing top 50 rows\n",
      "\n"
     ]
    }
   ],
   "source": [
    "freq_result = freq(df_incidents_person, 'edat')\n",
    "freq_result.orderBy(freq_result['count'].desc()).show(50, truncate=False)"
   ]
  },
  {
   "cell_type": "markdown",
   "id": "7c71cfe8-cf68-44ae-a1d8-bd0e5f3e091f",
   "metadata": {},
   "source": [
    "### 4.4.3 Lloc atropellament"
   ]
  },
  {
   "cell_type": "code",
   "execution_count": 97,
   "id": "9bc4d819-f037-44a7-9329-2a1721269871",
   "metadata": {},
   "outputs": [
    {
     "name": "stdout",
     "output_type": "stream",
     "text": [
      "+------------------------------------------------------------------------------------------------------------------------------------------------------+-----+\n",
      "|lloc                                                                                                                                                  |count|\n",
      "+------------------------------------------------------------------------------------------------------------------------------------------------------+-----+\n",
      "|Desconegut                                                                                                                                            |7578 |\n",
      "|En pas regulat per semàfor                                                                                                                            |490  |\n",
      "|Fora del pas                                                                                                                                          |276  |\n",
      "|En pas sense regular                                                                                                                                  |136  |\n",
      "|A la vorera / Andana                                                                                                                                  |128  |\n",
      "|En zona peatonal                                                                                                                                      |71   |\n",
      "|Altres                                                                                                                                                |62   |\n",
      "|Desconegut                                                                                                                                            |27   |\n",
      "|En pas sense senyalitzar                                                                                                                              |8    |\n",
      "+------------------------------------------------------------------------------------------------------------------------------------------------------+-----+\n",
      "\n"
     ]
    }
   ],
   "source": [
    "freq_result = freq(df_incidents_person, 'lloc')\n",
    "freq_result.orderBy(freq_result['count'].desc()).show(50, truncate=False)"
   ]
  },
  {
   "cell_type": "markdown",
   "id": "c13b5347-d0fa-45d2-8018-6daf58b1a13e",
   "metadata": {},
   "source": [
    "### 4.4.3 Causa vianant"
   ]
  },
  {
   "cell_type": "code",
   "execution_count": 99,
   "id": "8f4b6ea2-ae6f-42dc-b37d-f0a04a54d93e",
   "metadata": {},
   "outputs": [
    {
     "name": "stdout",
     "output_type": "stream",
     "text": [
      "+-------------------------------+-----+\n",
      "|causa_vianant                  |count|\n",
      "+-------------------------------+-----+\n",
      "|No és causa del  vianant       |8171 |\n",
      "|Desobeir el senyal del semàfor |248  |\n",
      "|Creuar per fora pas de vianants|193  |\n",
      "|Altres                         |95   |\n",
      "|Transitar a peu per la calçada |60   |\n",
      "|Desobeir altres senyals        |9    |\n",
      "+-------------------------------+-----+\n",
      "\n"
     ]
    }
   ],
   "source": [
    "freq_result = freq(df_incidents_person, 'causa_vianant')\n",
    "freq_result.orderBy(freq_result['count'].desc()).show(truncate=False)"
   ]
  },
  {
   "cell_type": "markdown",
   "id": "d71937f8-9cf0-4aee-8b9e-8b775fb5b081",
   "metadata": {},
   "source": [
    "### 4.4.4 Motius del desplaçament"
   ]
  },
  {
   "cell_type": "code",
   "execution_count": 100,
   "id": "1db8246b-ac9e-42cd-97e4-6a787cee0ad2",
   "metadata": {},
   "outputs": [
    {
     "name": "stdout",
     "output_type": "stream",
     "text": [
      "+------------------------------------------+-----+\n",
      "|motiu_desp_vianant                        |count|\n",
      "+------------------------------------------+-----+\n",
      "|Desconegut                                |8290 |\n",
      "|Oci i entreteniment                       |191  |\n",
      "|Es desconeix                              |167  |\n",
      "|Altres activitats                         |42   |\n",
      "|In itinere                                |40   |\n",
      "|En missió                                 |27   |\n",
      "|Estudiant cap a centre d'estudis          |12   |\n",
      "|In itínere                                |3    |\n",
      "|Servei de neteja, recollida d'escombraries|2    |\n",
      "|Servei de manteniment viari               |1    |\n",
      "|Taxi                                      |1    |\n",
      "+------------------------------------------+-----+\n",
      "\n"
     ]
    }
   ],
   "source": [
    "freq_result = freq(df_incidents_person, 'motiu_desp_vianant')\n",
    "freq_result.orderBy(freq_result['count'].desc()).show(truncate=False)"
   ]
  },
  {
   "cell_type": "code",
   "execution_count": 102,
   "id": "0fa39b60-0f62-45aa-8982-e4f036fa09b5",
   "metadata": {},
   "outputs": [
    {
     "name": "stdout",
     "output_type": "stream",
     "text": [
      "+--------------------------------------------------------+-----+\n",
      "|motiu_desp_conductor                                    |count|\n",
      "+--------------------------------------------------------+-----+\n",
      "|Desconegut                                              |2719 |\n",
      "|Es desconeix                                            |2644 |\n",
      "|Oci i entreteniment                                     |1495 |\n",
      "|In itínere                                              |1063 |\n",
      "|En missió                                               |352  |\n",
      "|Altres activitats                                       |318  |\n",
      "|Taxi                                                    |75   |\n",
      "|Bombers, policia, ambulància                            |30   |\n",
      "|Ferit lleu: Hospitalització fins a 24h                  |18   |\n",
      "|Transport professional de mercaderies                   |12   |\n",
      "|Estudiant cap a centre d'estudis                        |12   |\n",
      "|Bus urbà                                                |9    |\n",
      "|Servei de neteja o recollida d'escombraries             |5    |\n",
      "|Ferit lleu: Rebutja assistència sanitària               |5    |\n",
      "|Activitat esportiva particular                          |4    |\n",
      "|Ferit lleu: Amb assistència sanitària en lloc d'accident|4    |\n",
      "|En pràctiques d'autoescola                              |3    |\n",
      "|Bus de línia regular                                    |2    |\n",
      "|Anada/tornada de ponts, festius, vacances               |2    |\n",
      "|Transport de menors a l'escola                          |1    |\n",
      "|Servei de manteniment viari                             |1    |\n",
      "|Servei d'auxili en carretera                            |1    |\n",
      "|Bus de línia discrecional                               |1    |\n",
      "+--------------------------------------------------------+-----+\n",
      "\n"
     ]
    }
   ],
   "source": [
    "freq_result = freq(df_incidents_person, 'motiu_desp_conductor')\n",
    "freq_result.orderBy(freq_result['count'].desc()).show(30,truncate=False)"
   ]
  },
  {
   "cell_type": "markdown",
   "id": "6bdca948-7920-4814-a1ff-c18808798bbd",
   "metadata": {},
   "source": [
    "### 4.4.5 Victimització"
   ]
  },
  {
   "cell_type": "code",
   "execution_count": 103,
   "id": "d49c078d-d41b-43be-8204-c65c1b9ad133",
   "metadata": {},
   "outputs": [
    {
     "name": "stdout",
     "output_type": "stream",
     "text": [
      "+--------------------------------------------------------+-----+\n",
      "|victimitzacio                                           |count|\n",
      "+--------------------------------------------------------+-----+\n",
      "|Ferit lleu: Hospitalització fins a 24h                  |5885 |\n",
      "|Ferit lleu: Amb assistència sanitària en lloc d'accident|1921 |\n",
      "|Ferit lleu: Rebutja assistència sanitària               |694  |\n",
      "|Ferit greu: hospitalització superior a 24h              |228  |\n",
      "|Mort (dins 24h posteriors accident)                     |20   |\n",
      "|431648.46                                               |2    |\n",
      "|430973.7                                                |2    |\n",
      "|425387.6                                                |2    |\n",
      "|430464.89                                               |2    |\n",
      "|Mort natural                                            |1    |\n",
      "|429667.81                                               |1    |\n",
      "|430208.68                                               |1    |\n",
      "|430497.04                                               |1    |\n",
      "|429924.38                                               |1    |\n",
      "|427133.55                                               |1    |\n",
      "|431842.11                                               |1    |\n",
      "|433012.43                                               |1    |\n",
      "|431553.57                                               |1    |\n",
      "|431870.03                                               |1    |\n",
      "|426661.83                                               |1    |\n",
      "|425819.55                                               |1    |\n",
      "|427961.38                                               |1    |\n",
      "|429836.05                                               |1    |\n",
      "|427459.19                                               |1    |\n",
      "|431293.95                                               |1    |\n",
      "|432719.9                                                |1    |\n",
      "|434743.24                                               |1    |\n",
      "|424812.18                                               |1    |\n",
      "|429606.16                                               |1    |\n",
      "+--------------------------------------------------------+-----+\n",
      "\n"
     ]
    }
   ],
   "source": [
    "freq_result = freq(df_incidents_person, 'victimitzacio')\n",
    "freq_result.orderBy(freq_result['count'].desc()).show(30,truncate=False)"
   ]
  },
  {
   "cell_type": "code",
   "execution_count": 21,
   "id": "889aca19-9785-4d28-869a-0b13057fa6bf",
   "metadata": {},
   "outputs": [
    {
     "data": {
      "text/plain": [
       "[Database(name='default', catalog='spark_catalog', description='default database', locationUri='file:/Users/pau/coding-projects/ita-barcelona-traffic-incidents/notebook/spark-warehouse')]"
      ]
     },
     "execution_count": 21,
     "metadata": {},
     "output_type": "execute_result"
    }
   ],
   "source": [
    "spark.catalog.listDatabases()"
   ]
  },
  {
   "cell_type": "code",
   "execution_count": 25,
   "id": "90b09172-8de3-4c21-bd35-be55ecb6a312",
   "metadata": {},
   "outputs": [],
   "source": [
    "#spark.catalog.listTables()"
   ]
  },
  {
   "cell_type": "code",
   "execution_count": 24,
   "id": "963ece60-42f6-4ccb-83b4-02052eea74d0",
   "metadata": {},
   "outputs": [],
   "source": [
    "#spark.catalog.listColumns(\"incidents\")"
   ]
  },
  {
   "cell_type": "markdown",
   "id": "5c62541d-638a-4dc1-ac28-20d622703500",
   "metadata": {},
   "source": [
    "## ref"
   ]
  },
  {
   "cell_type": "markdown",
   "id": "2f4e3c70-9b3b-41e9-8534-4107a5b7f99a",
   "metadata": {},
   "source": [
    "#### Causes according the pedestrian - Causes a causa del vianant\n",
    "\n",
    "Anàlisis de les principals causes a causa del vianant.\n",
    "Creem un llistat amb les causes i el nombre de vegades"
   ]
  },
  {
   "cell_type": "code",
   "execution_count": 9,
   "id": "ec0899df-6bbf-418f-abf7-179c2b889723",
   "metadata": {},
   "outputs": [],
   "source": [
    "causes = (df_gu_incidents.select(\"Descripcio_causa_vianant\")\n",
    "          .rdd.map(lambda row: row[\"Descripcio_causa_vianant\"])\n",
    "          .map(lambda x: (x, 1))\n",
    "          .reduceByKey(lambda a,b: a+b))"
   ]
  },
  {
   "cell_type": "code",
   "execution_count": 10,
   "id": "2160a5dd-f7c6-40ac-9363-76ade0f92c4b",
   "metadata": {},
   "outputs": [
    {
     "data": {
      "text/plain": [
       "[('No és causa del  vianant', 7249),\n",
       " ('Creuar per fora pas de vianants', 147),\n",
       " ('Altres', 92),\n",
       " ('Desobeir el senyal del semàfor', 181),\n",
       " ('Transitar a peu per la calçada', 48),\n",
       " ('Desobeir altres senyals', 7)]"
      ]
     },
     "execution_count": 10,
     "metadata": {},
     "output_type": "execute_result"
    }
   ],
   "source": [
    "causes.take(20)"
   ]
  },
  {
   "cell_type": "markdown",
   "id": "e1d7410d-e042-4cc9-8011-860e1077c3c5",
   "metadata": {},
   "source": [
    "Podem aconseguir el mateix fent servir DataFrame API enlloc de RDD"
   ]
  },
  {
   "cell_type": "code",
   "execution_count": 11,
   "id": "4eb41e40-b718-4891-90c1-fd00ac10ebe4",
   "metadata": {},
   "outputs": [],
   "source": [
    "causes = df_gu_incidents.groupBy(\"Descripcio_causa_vianant\").count()"
   ]
  },
  {
   "cell_type": "code",
   "execution_count": 12,
   "id": "409f225c-9645-4453-b1df-0d3a74ba3518",
   "metadata": {},
   "outputs": [
    {
     "name": "stdout",
     "output_type": "stream",
     "text": [
      "+-------------------------------+-----+\n",
      "|Descripcio_causa_vianant       |count|\n",
      "+-------------------------------+-----+\n",
      "|No és causa del  vianant       |7249 |\n",
      "|Desobeir el senyal del semàfor |181  |\n",
      "|Creuar per fora pas de vianants|147  |\n",
      "|Altres                         |92   |\n",
      "|Transitar a peu per la calçada |48   |\n",
      "|Desobeir altres senyals        |7    |\n",
      "+-------------------------------+-----+\n",
      "\n"
     ]
    }
   ],
   "source": [
    "causes.orderBy(\"count\", ascending=False).show(truncate=False)"
   ]
  },
  {
   "cell_type": "code",
   "execution_count": 13,
   "id": "0d8539ff-ec16-4856-9083-efff930c84da",
   "metadata": {},
   "outputs": [
    {
     "data": {
      "text/plain": [
       "[('No és causa del  vianant', 7249),\n",
       " ('Desobeir el senyal del semàfor', 181),\n",
       " ('Creuar per fora pas de vianants', 147),\n",
       " ('Altres', 92),\n",
       " ('Transitar a peu per la calçada', 48),\n",
       " ('Desobeir altres senyals', 7)]"
      ]
     },
     "execution_count": 13,
     "metadata": {},
     "output_type": "execute_result"
    }
   ],
   "source": [
    "causes_list = [(row['Descripcio_causa_vianant'], row['count']) for row in causes.orderBy(\"count\", ascending=False).collect()]\n",
    "causes_list"
   ]
  },
  {
   "cell_type": "code",
   "execution_count": 14,
   "id": "33bdd095-158c-4cba-9dd2-5b5c5941ed98",
   "metadata": {},
   "outputs": [],
   "source": [
    "percent_no_causa_vianant = 100 * causes_list[0][1] / df_gu_incidents.count()"
   ]
  },
  {
   "cell_type": "code",
   "execution_count": 15,
   "id": "f95b79c5-2fed-4afb-bd2a-9566d1e68a4c",
   "metadata": {},
   "outputs": [
    {
     "data": {
      "text/plain": [
       "93.8503366131538"
      ]
     },
     "execution_count": 15,
     "metadata": {},
     "output_type": "execute_result"
    }
   ],
   "source": [
    "percent_no_causa_vianant"
   ]
  },
  {
   "cell_type": "markdown",
   "id": "850f80cf-5aa0-4a46-bd59-cb19769d1738",
   "metadata": {},
   "source": [
    "El 93.85% dels accidents de l'any 2023 no són causa del vianant. De la resta que si ho són, la principal causa ha estat desobeïr el senyal del semàfor, seguida per creuar fora del pas de vianants."
   ]
  },
  {
   "cell_type": "markdown",
   "id": "fb968646",
   "metadata": {},
   "source": [
    "### df_gu_incidents_type"
   ]
  },
  {
   "cell_type": "code",
   "execution_count": 16,
   "id": "2b3107ac",
   "metadata": {},
   "outputs": [
    {
     "name": "stdout",
     "output_type": "stream",
     "text": [
      "+----------------+--------------+-------------+----------+----------+-----------+--------------------------------------------------+----------+----------------------+------+-------+--------+-------+--------+---------------+-------------------------+---------------------+---------------------+--------------+-------------+\n",
      "|Numero_expedient|Codi_districte|Nom_districte|Codi_barri|Nom_barri |Codi_carrer|Nom_carrer                                        |Num_postal|Descripcio_dia_setmana|NK_Any|Mes_any|Nom_mes |Dia_mes|Hora_dia|Descripcio_torn|Descripcio_tipus_accident|Coordenada_UTM_X_ED50|Coordenada_UTM_Y_ED50|Longitud_WGS84|Latitud_WGS84|\n",
      "+----------------+--------------+-------------+----------+----------+-----------+--------------------------------------------------+----------+----------------------+------+-------+--------+-------+--------+---------------+-------------------------+---------------------+---------------------+--------------+-------------+\n",
      "|2023S004127     |-1            |Desconegut   |-1        |Desconegut|-1         |Diagonal                                          |3-35      |Dissabte              |2023  |7      |Juliol  |8      |5       |Nit            |Abast                    |434602.66            |4584822.12           |2.216403377   |41.410440789 |\n",
      "|2023S003871     |-1            |Desconegut   |-1        |Desconegut|-1         |Colom / Portal de la Pau                          |NULL      |Dimarts               |2023  |6      |Juny    |27     |19      |Tarda          |Abast                    |431358,53            |4581040,46           |2.178020316   |41.376109822 |\n",
      "|2023S005242     |-1            |Desconegut   |-1        |Desconegut|-1         |Numància                                          |2         |Dilluns               |2023  |9      |Setembre|4      |12      |Matí           |Col.lisió lateral        |428310.7             |4581655.17           |2.141503645   |41.381380404 |\n",
      "|2023S005352     |-1            |Desconegut   |-1        |Desconegut|-1         |Aigües                                            |385       |Dissabte              |2023  |9      |Setembre|9      |16      |Tarda          |Desconegut               |427768.19            |4586162.33           |2.134478091   |41.421926017 |\n",
      "|2023S007652     |-1            |Desconegut   |-1        |Desconegut|-1         |Diagonal                                          |620       |Diumenge              |2023  |12     |Desembre|24     |15      |Tarda          |Atropellament            |428251.59            |4582854.69           |2.140654653   |41.392178767 |\n",
      "+----------------+--------------+-------------+----------+----------+-----------+--------------------------------------------------+----------+----------------------+------+-------+--------+-------+--------+---------------+-------------------------+---------------------+---------------------+--------------+-------------+\n",
      "only showing top 5 rows\n",
      "\n"
     ]
    },
    {
     "data": {
      "text/plain": [
       "7823"
      ]
     },
     "execution_count": 16,
     "metadata": {},
     "output_type": "execute_result"
    }
   ],
   "source": [
    "df_gu_incidents_type.show(5, truncate=False)\n",
    "df_gu_incidents_type.count()"
   ]
  },
  {
   "cell_type": "code",
   "execution_count": 18,
   "id": "64136792",
   "metadata": {},
   "outputs": [
    {
     "name": "stdout",
     "output_type": "stream",
     "text": [
      "+----------------------------------+-----+\n",
      "|Descripcio_tipus_accident         |count|\n",
      "+----------------------------------+-----+\n",
      "|Col.lisió lateral                 |1812 |\n",
      "|Abast                             |1638 |\n",
      "|Col.lisió fronto-lateral          |1234 |\n",
      "|Atropellament                     |927  |\n",
      "|Xoc contra element estàtic        |653  |\n",
      "|Caiguda (dues rodes)              |580  |\n",
      "|Caiguda interior vehicle          |367  |\n",
      "|Abast multiple                    |209  |\n",
      "|Altres                            |181  |\n",
      "|Col.lisió frontal                 |143  |\n",
      "|Encalç                            |26   |\n",
      "|Desconegut                        |19   |\n",
      "|Xoc amb animal a la calçada       |13   |\n",
      "|Sortida de via amb xoc o col.lisió|12   |\n",
      "|Bolcada (més de dues rodes)       |7    |\n",
      "|Sortida de via amb bolcada        |2    |\n",
      "+----------------------------------+-----+\n",
      "\n"
     ]
    }
   ],
   "source": [
    "causes_type = df_gu_incidents_type.groupBy(\"Descripcio_tipus_accident\").count()\n",
    "causes_type.orderBy(\"count\", ascending=False).show(truncate=False)"
   ]
  },
  {
   "cell_type": "markdown",
   "id": "2b0d3dea",
   "metadata": {},
   "source": [
    "Les col·lisions per **abast** es produeixen si dos vehicles topen de manera que la part anterior de l’un impacta contra la part posterior de l’altre. Quan hi ha més de dos vehicles implicats es parla d’abast múltiple.\n",
    "\n",
    "col·lisió per **encalç**: Col·lisió en què la part frontal d'un vehicle xoca amb la part posterior d'un altre vehicle.\n",
    "\n",
    "Abast i encalç són el mateix.\n"
   ]
  },
  {
   "cell_type": "code",
   "execution_count": 20,
   "id": "ef9cfa44",
   "metadata": {},
   "outputs": [
    {
     "data": {
      "text/plain": [
       "[('Col.lisió lateral', 1812),\n",
       " ('Abast', 1638),\n",
       " ('Col.lisió fronto-lateral', 1234),\n",
       " ('Atropellament', 927),\n",
       " ('Xoc contra element estàtic', 653),\n",
       " ('Caiguda (dues rodes)', 580),\n",
       " ('Caiguda interior vehicle', 367),\n",
       " ('Abast multiple', 209),\n",
       " ('Altres', 181),\n",
       " ('Col.lisió frontal', 143),\n",
       " ('Encalç', 26),\n",
       " ('Desconegut', 19),\n",
       " ('Xoc amb animal a la calçada', 13),\n",
       " ('Sortida de via amb xoc o col.lisió', 12),\n",
       " ('Bolcada (més de dues rodes)', 7),\n",
       " ('Sortida de via amb bolcada', 2)]"
      ]
     },
     "execution_count": 20,
     "metadata": {},
     "output_type": "execute_result"
    }
   ],
   "source": [
    "causes_type_list = [(row['Descripcio_tipus_accident'], row['count']) for row in causes_type.orderBy(\"count\", ascending=False).collect()]\n",
    "causes_type_list"
   ]
  },
  {
   "cell_type": "markdown",
   "id": "4327da56",
   "metadata": {},
   "source": [
    "### df_gu_incidents_vehicle"
   ]
  },
  {
   "cell_type": "code",
   "execution_count": 21,
   "id": "a81c1cbe",
   "metadata": {},
   "outputs": [
    {
     "name": "stdout",
     "output_type": "stream",
     "text": [
      "+----------------+--------------+-------------+----------+----------+-----------+--------------------------------------------------+----------+----------------------+------+-------+-------+-------+--------+---------------+------------------------+------------------------+----------------+----------------+----------------+-----------------+-----------------+---------------------+---------------------+--------------+-------------+\n",
      "|Numero_expedient|Codi_districte|Nom_districte|Codi_barri|Nom_barri |Codi_carrer|Nom_carrer                                        |Num_postal|Descripcio_dia_setmana|NK_Any|Mes_any|Nom_mes|Dia_mes|Hora_dia|Descripcio_torn|Descripcio_causa_vianant|Descripcio_tipus_vehicle|Descripcio_model|Descripcio_marca|Descripcio_color|Descripcio_carnet|Antiguitat_carnet|Coordenada_UTM_X_ED50|Coordenada_UTM_Y_ED50|Longitud_WGS84|Latitud_WGS84|\n",
      "+----------------+--------------+-------------+----------+----------+-----------+--------------------------------------------------+----------+----------------------+------+-------+-------+-------+--------+---------------+------------------------+------------------------+----------------+----------------+----------------+-----------------+-----------------+---------------------+---------------------+--------------+-------------+\n",
      "|2023S000536     |-1            |Desconegut   |-1        |Desconegut|-1         |Motors / Acer                                     |NULL      |Dijous                |2023  |1      |Gener  |26     |14      |Tarda          |No és causa del  vianant|Turisme                 |ASTRA           |OPEL            |granate         |Desconegut       |Desconegut       |428118.93            |4578054.77           |2.139637367   |41.348935697 |\n",
      "|2023S000506     |-1            |Desconegut   |-1        |Desconegut|-1         |Motors                                            |152-154   |Dijous                |2023  |1      |Gener  |26     |15      |Tarda          |No és causa del  vianant|Motocicleta             |FSH125          |HONDA           |Gris            |B                |11               |428888.97            |4578390.79           |2.148801757   |41.352030518 |\n",
      "|2023S000506     |-1            |Desconegut   |-1        |Desconegut|-1         |NULL                                              |NULL      |Dijous                |2023  |1      |Gener  |26     |15      |Tarda          |No és causa del  vianant|Turisme                 |XCEED           |KIA             |Blanc           |B                |39               |428888.97            |4578390.79           |2.148801757   |41.352030518 |\n",
      "|2023S001678     |-1            |Desconegut   |-1        |Desconegut|-1         |Corts / Arístides Maillol                         |NULL      |Dijous                |2023  |3      |Març   |23     |14      |Tarda          |No és causa del  vianant|Autobús                 |LION'S CITY G   |MAN             |Vermell         |D                |17               |426626.85            |4581292.09           |2.121411776   |41.377958412 |\n",
      "|2023S002486     |-1            |Desconegut   |-1        |Desconegut|-1         |Glòries Catalanes                                 |1         |Dijous                |2023  |4      |Abril  |27     |20      |Tarda          |No és causa del  vianant|Autobús articulat       |HYBRID H18      |SOLARIS         |Vermell         |E D              |26               |432052.4             |4583910.53           |2.185995092   |41.402018695 |\n",
      "+----------------+--------------+-------------+----------+----------+-----------+--------------------------------------------------+----------+----------------------+------+-------+-------+-------+--------+---------------+------------------------+------------------------+----------------+----------------+----------------+-----------------+-----------------+---------------------+---------------------+--------------+-------------+\n",
      "only showing top 5 rows\n",
      "\n"
     ]
    },
    {
     "name": "stderr",
     "output_type": "stream",
     "text": [
      "24/04/30 18:48:53 WARN SparkStringUtils: Truncated the string representation of a plan since it was too large. This behavior can be adjusted by setting 'spark.sql.debug.maxToStringFields'.\n"
     ]
    },
    {
     "data": {
      "text/plain": [
       "14361"
      ]
     },
     "execution_count": 21,
     "metadata": {},
     "output_type": "execute_result"
    }
   ],
   "source": [
    "df_gu_incidents_vehicle.show(5, truncate=False)\n",
    "df_gu_incidents_vehicle.count()"
   ]
  },
  {
   "cell_type": "code",
   "execution_count": 22,
   "id": "6b955542",
   "metadata": {},
   "outputs": [
    {
     "name": "stdout",
     "output_type": "stream",
     "text": [
      "+-------------------------------+-----+\n",
      "|Descripcio_causa_vianant       |count|\n",
      "+-------------------------------+-----+\n",
      "|No és causa del  vianant       |13843|\n",
      "|Desobeir el senyal del semàfor |192  |\n",
      "|Creuar per fora pas de vianants|160  |\n",
      "|Altres                         |102  |\n",
      "|Transitar a peu per la calçada |52   |\n",
      "|Desobeir altres senyals        |12   |\n",
      "+-------------------------------+-----+\n",
      "\n"
     ]
    }
   ],
   "source": [
    "causes_vehicle_type = df_gu_incidents_vehicle.groupBy(\"Descripcio_causa_vianant\").count()\n",
    "causes_vehicle_type.orderBy(\"count\", ascending=False).show(truncate=False)"
   ]
  },
  {
   "cell_type": "code",
   "execution_count": 31,
   "id": "f4cf4961",
   "metadata": {},
   "outputs": [
    {
     "name": "stdout",
     "output_type": "stream",
     "text": [
      "+-----------------------------------+-----+\n",
      "|Descripcio_tipus_vehicle           |count|\n",
      "+-----------------------------------+-----+\n",
      "|Turisme                            |5364 |\n",
      "|Motocicleta                        |4340 |\n",
      "|Furgoneta                          |984  |\n",
      "|Veh. mobilitat personal amb motor  |772  |\n",
      "|Bicicleta                          |724  |\n",
      "|Autobús                            |476  |\n",
      "|Taxi                               |402  |\n",
      "|Ciclomotor                         |383  |\n",
      "|Camió rígid <= 3,5 tones           |199  |\n",
      "|Camió rígid > 3,5 tones            |163  |\n",
      "|Autobús articulat                  |163  |\n",
      "|Tot terreny                        |132  |\n",
      "|Desconegut                         |56   |\n",
      "|Tractor camió                      |49   |\n",
      "|Ambulància                         |31   |\n",
      "|Altres vehicles amb motor          |29   |\n",
      "|Maquinària d'obres i serveis       |23   |\n",
      "|Veh. mobilitat personal sense motor|18   |\n",
      "|Tren o tramvia                     |14   |\n",
      "|Tricicle                           |8    |\n",
      "|Autocaravana                       |8    |\n",
      "|Autocar                            |7    |\n",
      "|Quadricicle < 75 cc                |6    |\n",
      "|NULL                               |4    |\n",
      "|Pick-up                            |3    |\n",
      "|Altres vehicles sense motor        |2    |\n",
      "|Quadricicle > 75 cc                |1    |\n",
      "+-----------------------------------+-----+\n",
      "\n"
     ]
    }
   ],
   "source": [
    "causes_vehicle_type = df_gu_incidents_vehicle.groupBy(\"Descripcio_tipus_vehicle\").count()\n",
    "causes_vehicle_type.orderBy(\"count\", ascending=False).show(35, truncate=False)"
   ]
  },
  {
   "cell_type": "code",
   "execution_count": 33,
   "id": "b1c04420",
   "metadata": {},
   "outputs": [
    {
     "name": "stdout",
     "output_type": "stream",
     "text": [
      "+-----------------+-----+\n",
      "|Antiguitat_carnet|count|\n",
      "+-----------------+-----+\n",
      "|Desconegut       |2873 |\n",
      "|2                |549  |\n",
      "|1                |543  |\n",
      "|5                |445  |\n",
      "|4                |419  |\n",
      "|3                |384  |\n",
      "|6                |379  |\n",
      "|7                |378  |\n",
      "|15               |368  |\n",
      "|16               |335  |\n",
      "|8                |320  |\n",
      "|14               |318  |\n",
      "|17               |315  |\n",
      "|9                |313  |\n",
      "|18               |309  |\n",
      "|13               |304  |\n",
      "|12               |290  |\n",
      "|11               |285  |\n",
      "|19               |284  |\n",
      "|10               |282  |\n",
      "|20               |265  |\n",
      "|21               |222  |\n",
      "|28               |215  |\n",
      "|27               |209  |\n",
      "|31               |205  |\n",
      "|30               |203  |\n",
      "|34               |197  |\n",
      "|29               |194  |\n",
      "|32               |194  |\n",
      "|33               |186  |\n",
      "|36               |186  |\n",
      "|26               |170  |\n",
      "|35               |166  |\n",
      "|22               |165  |\n",
      "|25               |158  |\n",
      "|23               |152  |\n",
      "|24               |146  |\n",
      "|37               |140  |\n",
      "|38               |134  |\n",
      "|39               |119  |\n",
      "+-----------------+-----+\n",
      "only showing top 40 rows\n",
      "\n"
     ]
    }
   ],
   "source": [
    "causes_vehicle_type = df_gu_incidents_vehicle.groupBy(\"Antiguitat_carnet\").count()\n",
    "causes_vehicle_type.orderBy(\"count\", ascending=False).show(40, truncate=False)"
   ]
  },
  {
   "cell_type": "code",
   "execution_count": null,
   "id": "9175f9d5",
   "metadata": {},
   "outputs": [],
   "source": []
  },
  {
   "cell_type": "markdown",
   "id": "6659f4da-4671-44c0-a6f8-823ed6bfb847",
   "metadata": {},
   "source": []
  }
 ],
 "metadata": {
  "kernelspec": {
   "display_name": "Python 3 (ipykernel)",
   "language": "python",
   "name": "python3"
  },
  "language_info": {
   "codemirror_mode": {
    "name": "ipython",
    "version": 3
   },
   "file_extension": ".py",
   "mimetype": "text/x-python",
   "name": "python",
   "nbconvert_exporter": "python",
   "pygments_lexer": "ipython3",
   "version": "3.11.7"
  }
 },
 "nbformat": 4,
 "nbformat_minor": 5
}
